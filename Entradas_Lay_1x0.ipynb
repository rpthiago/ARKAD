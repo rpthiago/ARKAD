{
 "cells": [
  {
   "cell_type": "code",
   "execution_count": 32,
   "metadata": {
    "id": "kxgMjvDs4d4p"
   },
   "outputs": [
    {
     "name": "stdout",
     "output_type": "stream",
     "text": [
      "Data de Análise: 2023-04-19\n"
     ]
    }
   ],
   "source": [
    "import datetime\n",
    "from datetime import date, timedelta\n",
    "Date = date.today() + timedelta(0)\n",
    "print(\"Data de Análise:\",Date)"
   ]
  },
  {
   "cell_type": "markdown",
   "metadata": {
    "id": "8XUG0Cwy4nCw"
   },
   "source": [
    "# Código Fonte"
   ]
  },
  {
   "cell_type": "code",
   "execution_count": 33,
   "metadata": {
    "id": "QJaMAuwQbvZZ"
   },
   "outputs": [],
   "source": [
    "from futpythontrader import *\n",
    "#from google.colab import data_table\n",
    "#data_table.enable_dataframe_formatter()"
   ]
  },
  {
   "cell_type": "code",
   "execution_count": 34,
   "metadata": {
    "id": "mSzcnlMJf1qZ"
   },
   "outputs": [],
   "source": [
    "base = pd.read_csv(\"https://github.com/futpythontrader/YouTube/blob/main/Base_de_Dados/futpythontraderpunter.csv?raw=true\")\n",
    "base = base[base['Season'].isin(['2022', '2022/2023']) == True]\n",
    "\n",
    "# Resultado\n",
    "base.loc[base['FT_Goals_H'] > base['FT_Goals_A'], 'FT_Result'] = \"H\"\n",
    "base.loc[base['FT_Goals_H'] == base['FT_Goals_A'], 'FT_Result'] = \"D\"\n",
    "base.loc[base['FT_Goals_H'] < base['FT_Goals_A'], 'FT_Result'] = \"A\"\n",
    "\n",
    "# # Probabilidades\n",
    "base['p_H'] = 1 / base.FT_Odd_H\n",
    "base['p_D'] = 1 / base.FT_Odd_D\n",
    "base['p_A'] = 1 / base.FT_Odd_A\n",
    "\n",
    "# Pontos\n",
    "base.loc[base['FT_Goals_H'] > base['FT_Goals_A'], 'Ptos_H'] = 3\n",
    "base.loc[base['FT_Goals_H'] == base['FT_Goals_A'], 'Ptos_H'] = 1\n",
    "base.loc[base['FT_Goals_H'] < base['FT_Goals_A'], 'Ptos_H'] = 0\n",
    "base.loc[base['FT_Goals_H'] < base['FT_Goals_A'], 'Ptos_A'] = 3\n",
    "base.loc[base['FT_Goals_H'] == base['FT_Goals_A'], 'Ptos_A'] = 1\n",
    "base.loc[base['FT_Goals_H'] > base['FT_Goals_A'], 'Ptos_A'] = 0\n",
    "base[\"Ptos_H\"] = base[\"Ptos_H\"].astype('int64')\n",
    "base[\"Ptos_A\"] = base[\"Ptos_A\"].astype('int64')\n",
    "base['Media_Ptos_H'] = base.groupby('Home')['Ptos_H'].rolling(window=5, min_periods=2).mean().reset_index(0,drop=True)\n",
    "base['Media_Ptos_A'] = base.groupby('Away')['Ptos_A'].rolling(window=5, min_periods=2).mean().reset_index(0,drop=True)\n",
    "base['DesvPad_Ptos_H'] = base.groupby('Home')['Ptos_H'].rolling(window=5, min_periods=2).std().reset_index(0,drop=True)\n",
    "base['DesvPad_Ptos_A'] = base.groupby('Away')['Ptos_A'].rolling(window=5, min_periods=2).std().reset_index(0,drop=True)                \n",
    "base['CV_Ptos_H'] = base['DesvPad_Ptos_H'] / base['Media_Ptos_H']\n",
    "base['CV_Ptos_A'] = base['DesvPad_Ptos_A'] / base['Media_Ptos_A']\n",
    "\n",
    "# Valor do Gol\n",
    "base['VG_H'] = base.FT_Goals_H * base.p_A\n",
    "base['VG_A'] = base.FT_Goals_A * base.p_H\n",
    "base['Media_VG_H'] = base.groupby('Home')['VG_H'].rolling(window=5, min_periods=2).mean().reset_index(0,drop=True)\n",
    "base['Media_VG_A'] = base.groupby('Away')['VG_A'].rolling(window=5, min_periods=2).mean().reset_index(0,drop=True)\n",
    "base['DesvPad_VG_H'] = base.groupby('Home')['VG_H'].rolling(window=5, min_periods=2).std().reset_index(0,drop=True)\n",
    "base['DesvPad_VG_A'] = base.groupby('Away')['VG_A'].rolling(window=5, min_periods=2).std().reset_index(0,drop=True)\n",
    "base['CV_VG_H'] = base['DesvPad_VG_H'] / base['Media_VG_H']\n",
    "base['CV_VG_A'] = base['DesvPad_VG_A'] / base['Media_VG_A']\n",
    "\n",
    "# Custo do Gol\n",
    "base['CG_H'] = base.p_H / base.FT_Goals_H\n",
    "base['CG_A'] = base.p_A / base.FT_Goals_A\n",
    "base['Media_CG_H'] = base.groupby('Home')['CG_H'].rolling(window=5, min_periods=2).mean().reset_index(0,drop=True)\n",
    "base['Media_CG_A'] = base.groupby('Away')['CG_A'].rolling(window=5, min_periods=2).mean().reset_index(0,drop=True)\n",
    "base['DesvPad_CG_H'] = base.groupby('Home')['CG_H'].rolling(window=5, min_periods=2).std().reset_index(0,drop=True)\n",
    "base['DesvPad_CG_A'] = base.groupby('Away')['CG_A'].rolling(window=5, min_periods=2).std().reset_index(0,drop=True)\n",
    "base['CV_CG_H'] = base['DesvPad_CG_H'] / base['Media_CG_H']\n",
    "base['CV_CG_A'] = base['DesvPad_CG_A'] / base['Media_CG_A']\n",
    "\n",
    "base.replace(np.inf, 1, inplace=True)\n",
    "base.dropna(inplace=True)\n",
    "base.reset_index(inplace=True, drop=True)\n",
    "base.index = base.index.set_names(['Nº'])\n",
    "base = base.rename(index=lambda x: x + 1)\n",
    "\n",
    "df_H = base[['Home','Media_Ptos_H','DesvPad_Ptos_H','CV_Ptos_H','Media_VG_H','DesvPad_VG_H','CV_VG_H',\n",
    "'Media_CG_H','DesvPad_CG_H','CV_CG_H']]\n",
    "df_A = base[['Away','Media_Ptos_A','DesvPad_Ptos_A','CV_Ptos_A','Media_VG_A','DesvPad_VG_A','CV_VG_A',\n",
    "'Media_CG_A','DesvPad_CG_A','CV_CG_A']]"
   ]
  },
  {
   "cell_type": "code",
   "execution_count": 35,
   "metadata": {
    "id": "MI-pVjE3nEqZ"
   },
   "outputs": [],
   "source": [
    "jogos_do_dia = pd.read_csv('https://github.com/futpythontrader/YouTube/blob/main/Jogos_do_Dia_FlashScore/'+str(Date)+'_Jogos_do_Dia_FlashScore.csv?raw=true')\n",
    "\n",
    "jogos_do_dia = jogos_do_dia[jogos_do_dia['League'].isin(['ARGENTINA - LIGA PROFESIONAL','AUSTRIA - BUNDESLIGA','BELGIUM - JUPILER PRO LEAGUE','BRAZIL - SERIE A','BRAZIL - SERIE B',\n",
    "                           'CROATIA - HNL','DENMARK - SUPERLIGA','ENGLAND - CHAMPIONSHIP','ENGLAND - PREMIER LEAGUE','FRANCE - LIGUE 1','FRANCE - LIGUE 2',\n",
    "                           'GERMANY - 2. BUNDESLIGA','GERMANY - BUNDESLIGA','IRELAND - PREMIER DIVISION','ITALY - SERIE A', 'ITALY - SERIE B','MEXICO - LIGA MX',\n",
    "                           'NETHERLANDS - EERSTE DIVISIE','NETHERLANDS - EREDIVISIE','NORWAY - ELITESERIEN','POLAND - EKSTRAKLASA','PORTUGAL - LIGA PORTUGAL',\n",
    "                           'PORTUGAL - LIGA PORTUGAL 2','SCOTLAND - PREMIERSHIP','SERBIA - SUPER LIGA','SLOVAKIA - FORTUNA LIGA','SLOVENIA - PRVA LIGA',\n",
    "                           'SPAIN - LALIGA','SPAIN - LALIGA2','SWEDEN - ALLSVENSKAN','SWITZERLAND - SUPER LEAGUE','TURKEY - SUPER LIG','USA - MLS'])]\n",
    "\n",
    "jogos_do_dia.to_excel('tt.xlsx')"
   ]
  },
  {
   "cell_type": "code",
   "execution_count": 36,
   "metadata": {
    "id": "jz-hmOXdHIe-"
   },
   "outputs": [],
   "source": [
    "lista=[]\n",
    "\n",
    "for a,b,c,d,e,f,g,h,i in zip(jogos_do_dia.League,jogos_do_dia.Date,jogos_do_dia.Time,jogos_do_dia.Home,jogos_do_dia.Away,jogos_do_dia.FT_Odd_H,jogos_do_dia.FT_Odd_D,jogos_do_dia.FT_Odd_A,jogos_do_dia.FT_Odd_Over25):\n",
    "    try:\n",
    "        League = a\n",
    "        Date = b\n",
    "        Time = c\n",
    "        home = d\n",
    "        away = e\n",
    "        FT_Odd_H = f\n",
    "        FT_Odd_D = g\n",
    "        FT_Odd_A = h\n",
    "        FT_Odd_Over25 = i\n",
    "\n",
    "        df1 = df_H[df_H.Home == home].tail(1)\n",
    "\n",
    "        df2 = df_A[df_A.Away == away].tail(1)\n",
    "\n",
    "        jogo = {}\n",
    "\n",
    "        jogo[\"League\"] = League \n",
    "        jogo[\"Date\"] = Date\n",
    "        jogo[\"Time\"] = Time\n",
    "        jogo[\"Home\"] = home\n",
    "        jogo[\"Away\"] = away\n",
    "        jogo[\"FT_Odd_H\"] = FT_Odd_H\n",
    "        jogo[\"FT_Odd_D\"] = FT_Odd_D\n",
    "        jogo[\"FT_Odd_A\"] = FT_Odd_A\n",
    "        jogo[\"FT_Odd_Over25\"] = FT_Odd_Over25\n",
    "        jogo[\"Media_Ptos_H\"] = df1[df1.Home == home]['Media_Ptos_H'].iloc[0]\n",
    "        jogo[\"DesvPad_Ptos_H\"] = df1[df1.Home == home]['DesvPad_Ptos_H'].iloc[0]\n",
    "        jogo[\"CV_Ptos_H\"] = df1[df1.Home == home]['CV_Ptos_H'].iloc[0]\n",
    "        jogo[\"Media_VG_H\"] = df1[df1.Home == home]['Media_VG_H'].iloc[0]\n",
    "        jogo[\"DesvPad_VG_H\"] = df1[df1.Home == home]['DesvPad_VG_H'].iloc[0]\n",
    "        jogo[\"CV_VG_H\"] = df1[df1.Home == home]['CV_Ptos_H'].iloc[0]\n",
    "        jogo[\"Media_CG_H\"] = df1[df1.Home == home]['Media_CG_H'].iloc[0]\n",
    "        jogo[\"DesvPad_CG_H\"] = df1[df1.Home == home]['DesvPad_CG_H'].iloc[0]\n",
    "        jogo[\"CV_CG_H\"] = df1[df1.Home == home]['CV_CG_H'].iloc[0]\n",
    "        jogo[\"Media_Ptos_A\"] = df2[df2.Away == away]['Media_Ptos_A'].iloc[0]\n",
    "        jogo[\"DesvPad_Ptos_A\"] = df2[df2.Away == away]['DesvPad_Ptos_A'].iloc[0]\n",
    "        jogo[\"CV_Ptos_A\"] = df2[df2.Away == away]['CV_Ptos_A'].iloc[0]\n",
    "        jogo[\"Media_VG_A\"] = df2[df2.Away == away]['Media_VG_A'].iloc[0]\n",
    "        jogo[\"DesvPad_VG_A\"] = df2[df2.Away == away]['DesvPad_VG_A'].iloc[0]\n",
    "        jogo[\"CV_VG_A\"] = df2[df2.Away == away]['CV_Ptos_A'].iloc[0]\n",
    "        jogo[\"Media_CG_A\"] = df2[df2.Away == away]['Media_CG_A'].iloc[0]\n",
    "        jogo[\"DesvPad_CG_A\"] = df2[df2.Away == away]['DesvPad_CG_A'].iloc[0]\n",
    "        jogo[\"CV_CG_A\"] = df2[df2.Away == away]['CV_CG_A'].iloc[0]\n",
    "        \n",
    "        lista.append(jogo)\n",
    "\n",
    "    except:\n",
    "        pass\n",
    "\n",
    "df = pd.DataFrame(lista)\n",
    "df.reset_index(inplace=True, drop=True)\n",
    "df.index = df.index.set_names(['Nº'])\n",
    "df = df.rename(index=lambda x: x + 1)"
   ]
  },
  {
   "cell_type": "code",
   "execution_count": 37,
   "metadata": {
    "id": "o2ObFRejEGiA"
   },
   "outputs": [],
   "source": [
    "# Probabilidades\n",
    "df['p_H'] = 1 / df.FT_Odd_H\n",
    "df['p_D'] = 1 / df.FT_Odd_D\n",
    "df['p_A'] = 1 / df.FT_Odd_A\n",
    "df['p_Over'] = 1 / df.FT_Odd_Over25\n",
    "\n",
    "# CV das Odds do Match Odds\n",
    "df['CV_HDA'] = df[['p_H','p_D','p_A']].std(ddof=0, axis=1) / df[['p_H','p_D','p_A']].mean(axis=1)"
   ]
  },
  {
   "cell_type": "code",
   "execution_count": 38,
   "metadata": {
    "id": "-uWv7VdA4d45"
   },
   "outputs": [],
   "source": [
    "filtro = (   \n",
    "  ((df.p_H>0.5649717514124294) & (df.p_H<0.9259259259259258))\n",
    "& ((df.p_D>0.08333333333333333) & (df.p_D<0.3076923076923077))\n",
    "& ((df.p_A>0.03333333333333333) & (df.p_A<0.2777777777777778))\n",
    "& ((df.p_Over>0.3472222222222222) & (df.p_Over<0.7751937984496123))\n",
    "& ((df.CV_HDA>0.36234682380465133) & (df.CV_HDA<1.159609030595692))\n",
    "& ((df.Media_Ptos_H>0.2) & (df.Media_Ptos_H<3.0))\n",
    "& ((df.Media_Ptos_A>0.0) & (df.Media_Ptos_A<1.75))\n",
    "& ((df.CV_Ptos_H>0.0) & (df.CV_Ptos_H<2.2360679774997907))\n",
    "& ((df.CV_Ptos_A>0.0) & (df.CV_Ptos_A<2.236067977499792))\n",
    "& ((df.Media_VG_H>0.059340659340659074) & (df.Media_VG_H<1.0757265992756089))\n",
    "& ((df.Media_VG_A>0.1934731934731934) & (df.Media_VG_A<1.7645676691729317))\n",
    "& ((df.CV_VG_H>0.06332299533013878) & (df.CV_VG_H<1.8339629103004964))\n",
    "& ((df.CV_VG_A>0.06869644114659167) & (df.CV_VG_A<1.5770968944078807))\n",
    "& ((df.Media_CG_H>0.10727190605239376) & (df.Media_CG_H<0.675248419150858))\n",
    "& ((df.Media_CG_A>0.10557290573168168) & (df.Media_CG_A<0.298245614035088))\n",
    "& ((df.CV_CG_H>0.0) & (df.CV_CG_H<1.096295307426663))\n",
    "& ((df.CV_CG_A>0.0) & (df.CV_CG_A<1.2784658672552298))\n",
    ")"
   ]
  },
  {
   "cell_type": "code",
   "execution_count": 39,
   "metadata": {
    "id": "e8oks3cQiWi-"
   },
   "outputs": [],
   "source": [
    "# df_Lay_1x0 = df[filtro]\n",
    "# df_Lay_1x0 = df_Lay_1x0[['League','Date','Time','Home','Away','FT_Odd_H','FT_Odd_D','FT_Odd_A']] \n",
    "# df_Lay_1x0.reset_index(inplace=True, drop=True)\n",
    "# df_Lay_1x0.index = df_Lay_1x0.index.set_names(['Nº'])\n",
    "# df_Lay_1x0 = df_Lay_1x0.rename(index=lambda x: x + 1)\n",
    "# df_Lay_1x0 = df_Lay_1x0.sort_values(['Time'])\n",
    "# df_Lay_1x0.reset_index(inplace=True, drop=True)\n",
    "# df_Lay_1x0.index = df_Lay_1x0.index.set_names(['Nº'])\n",
    "# df_Lay_1x0 = df_Lay_1x0.rename(index=lambda x: x + 1)"
   ]
  },
  {
   "cell_type": "code",
   "execution_count": 40,
   "metadata": {
    "id": "YmblmvbPk3b4"
   },
   "outputs": [],
   "source": [
    "# Dataframe Filtrado\n",
    "def retorna_df(dicionario,data):\n",
    "    data = data.copy()\n",
    "    list_columns = dicionario.keys()\n",
    "    for i in data.columns.to_list():\n",
    "        for x in list_columns:\n",
    "            if i.lower() in x:\n",
    "                try:\n",
    "                    x_min = dicionario[f'{i.lower()}_min']\n",
    "                    x_max = dicionario[f'{i.lower()}_max']\n",
    "                    data = data[data[i].between(x_min,x_max)]\n",
    "                except:\n",
    "                    pass\n",
    "    return data"
   ]
  },
  {
   "cell_type": "code",
   "execution_count": 41,
   "metadata": {
    "id": "lZ1sTO9mlkyS"
   },
   "outputs": [],
   "source": [
    "result = {'p_h_min': 0.14285714285714285,\n",
    " 'p_h_max': 0.31746031746031744,\n",
    " 'p_d_min': 0.2,\n",
    " 'p_d_max': 0.3333333333333333,\n",
    " 'p_a_min': 0.5,\n",
    " 'p_a_max': 0.6535947712418301,\n",
    " 'p_over_min': 0.38167938931297707,\n",
    " 'p_over_max': 0.6711409395973155,\n",
    " 'cv_hda_min': 0.23750435276082887,\n",
    " 'cv_hda_max': 0.6142425378260569,\n",
    " 'media_ptos_h_min': 0.0,\n",
    " 'media_ptos_h_max': 2.6,\n",
    " 'media_ptos_a_min': 0.2,\n",
    " 'media_ptos_a_max': 3.0,\n",
    " 'cv_ptos_h_min': 0.0,\n",
    " 'cv_ptos_h_max': 2.23606797749979,\n",
    " 'cv_ptos_a_min': 0.0,\n",
    " 'cv_ptos_a_max': 2.23606797749979,\n",
    " 'media_vg_h_min': 0.09753694581280767,\n",
    " 'media_vg_h_max': 0.9479747305834264,\n",
    " 'media_vg_a_min': 0.1706766917293232,\n",
    " 'media_vg_a_max': 0.7879256965944271,\n",
    " 'cv_vg_h_min': 0.12487264529334759,\n",
    " 'cv_vg_h_max': 1.8308606668040055,\n",
    " 'cv_vg_a_min': 0.13251514240141918,\n",
    " 'cv_vg_a_max': 1.7934349826132214,\n",
    " 'media_cg_h_min': 0.10220797720797693,\n",
    " 'media_cg_h_max': 0.5793650793650793,\n",
    " 'media_cg_a_min': 0.11045270125987595,\n",
    " 'media_cg_a_max': 0.5484167837555098,\n",
    " 'cv_cg_h_min': 0.015890040026663988,\n",
    " 'cv_cg_h_max': 1.0965284591499063,\n",
    " 'cv_cg_a_min': 0.02119806196276601,\n",
    " 'cv_cg_a_max': 0.9397910869035022}"
   ]
  },
  {
   "cell_type": "code",
   "execution_count": 42,
   "metadata": {
    "id": "fAtAAZ5ok4Fj"
   },
   "outputs": [],
   "source": [
    "df_Lay_1x0 = retorna_df(result,df)\n",
    "df_Lay_1x0 = df_Lay_1x0[['League','Date','Time','Home','Away','FT_Odd_H','FT_Odd_D','FT_Odd_A']] \n",
    "df_Lay_1x0.reset_index(inplace=True, drop=True)\n",
    "df_Lay_1x0.index = df_Lay_1x0.index.set_names(['Nº'])\n",
    "df_Lay_1x0 = df_Lay_1x0.rename(index=lambda x: x + 1)\n",
    "df_Lay_1x0 = df_Lay_1x0.sort_values(['Time'])\n",
    "df_Lay_1x0.reset_index(inplace=True, drop=True)\n",
    "df_Lay_1x0.index = df_Lay_1x0.index.set_names(['Nº'])\n",
    "df_Lay_1x0 = df_Lay_1x0.rename(index=lambda x: x + 1)"
   ]
  },
  {
   "cell_type": "code",
   "execution_count": 43,
   "metadata": {
    "id": "d07L7ZoFe07a"
   },
   "outputs": [],
   "source": [
    "def entradas_de_hoje():\n",
    "     print('######################')\n",
    "     print('Entradas - FutPythonPunter') \n",
    "     print('######################')\n",
    "     print('Dia:',Date)\n",
    "     print('######################')\n",
    "     print('Método: Lay 1 x 0')\n",
    "     print('######################')\n",
    "\n",
    "     for a,b,c,d in zip(df_Lay_1x0.League,df_Lay_1x0.Time,df_Lay_1x0.Home,df_Lay_1x0.Away):\n",
    "\n",
    "         liga = a\n",
    "         horario = b\n",
    "         home = c\n",
    "         away = d\n",
    "    \n",
    "        \n",
    "         print('');print(\"Liga:\",liga)\n",
    "         print(\"Horário:\",horario)\n",
    "         print(\"Jogo:\",home,'x',away)\n",
    "         print(\"Odd Lay 1 x 0 Pré-Live: \")\n",
    "         print(\"Odd Lay 1 x 0 Entrada: \")\n",
    "        \n",
    "     print('')"
   ]
  },
  {
   "cell_type": "markdown",
   "metadata": {
    "id": "wMlb4IEV6lY0"
   },
   "source": [
    "# Entradas"
   ]
  },
  {
   "cell_type": "code",
   "execution_count": 44,
   "metadata": {
    "id": "sEwWWJ-k6nLF",
    "scrolled": true
   },
   "outputs": [
    {
     "data": {
      "text/html": [
       "<div>\n",
       "<style scoped>\n",
       "    .dataframe tbody tr th:only-of-type {\n",
       "        vertical-align: middle;\n",
       "    }\n",
       "\n",
       "    .dataframe tbody tr th {\n",
       "        vertical-align: top;\n",
       "    }\n",
       "\n",
       "    .dataframe thead th {\n",
       "        text-align: right;\n",
       "    }\n",
       "</style>\n",
       "<table border=\"1\" class=\"dataframe\">\n",
       "  <thead>\n",
       "    <tr style=\"text-align: right;\">\n",
       "      <th></th>\n",
       "      <th>League</th>\n",
       "      <th>Date</th>\n",
       "      <th>Time</th>\n",
       "      <th>Home</th>\n",
       "      <th>Away</th>\n",
       "      <th>FT_Odd_H</th>\n",
       "      <th>FT_Odd_D</th>\n",
       "      <th>FT_Odd_A</th>\n",
       "    </tr>\n",
       "    <tr>\n",
       "      <th>Nº</th>\n",
       "      <th></th>\n",
       "      <th></th>\n",
       "      <th></th>\n",
       "      <th></th>\n",
       "      <th></th>\n",
       "      <th></th>\n",
       "      <th></th>\n",
       "      <th></th>\n",
       "    </tr>\n",
       "  </thead>\n",
       "  <tbody>\n",
       "    <tr>\n",
       "      <th>1</th>\n",
       "      <td>TURKEY - SUPER LIG</td>\n",
       "      <td>19/04/2023</td>\n",
       "      <td>14:30</td>\n",
       "      <td>Basaksehir</td>\n",
       "      <td>Fenerbahce</td>\n",
       "      <td>4.0</td>\n",
       "      <td>3.6</td>\n",
       "      <td>1.80</td>\n",
       "    </tr>\n",
       "    <tr>\n",
       "      <th>2</th>\n",
       "      <td>ENGLAND - CHAMPIONSHIP</td>\n",
       "      <td>19/04/2023</td>\n",
       "      <td>16:00</td>\n",
       "      <td>Reading</td>\n",
       "      <td>Luton</td>\n",
       "      <td>4.5</td>\n",
       "      <td>3.4</td>\n",
       "      <td>1.85</td>\n",
       "    </tr>\n",
       "  </tbody>\n",
       "</table>\n",
       "</div>"
      ],
      "text/plain": [
       "                    League        Date   Time        Home        Away  \\\n",
       "Nº                                                                      \n",
       "1       TURKEY - SUPER LIG  19/04/2023  14:30  Basaksehir  Fenerbahce   \n",
       "2   ENGLAND - CHAMPIONSHIP  19/04/2023  16:00     Reading       Luton   \n",
       "\n",
       "    FT_Odd_H  FT_Odd_D  FT_Odd_A  \n",
       "Nº                                \n",
       "1        4.0       3.6      1.80  \n",
       "2        4.5       3.4      1.85  "
      ]
     },
     "execution_count": 44,
     "metadata": {},
     "output_type": "execute_result"
    }
   ],
   "source": [
    "data = hoje()\n",
    "hoje = data.strftime('%Y-%m-%d')\n",
    "nome = 'LAY_1X0.csv'\n",
    "df_Lay_1x0.to_csv(f'./Teoria_dos_Retornos/{hoje}_{nome}', index = False)\n",
    "df_Lay_1x0"
   ]
  },
  {
   "cell_type": "code",
   "execution_count": 45,
   "metadata": {
    "id": "DeaNld4Ie_sB"
   },
   "outputs": [
    {
     "name": "stdout",
     "output_type": "stream",
     "text": [
      "######################\n",
      "Entradas - FutPythonPunter\n",
      "######################\n",
      "Dia: 19/04/2023\n",
      "######################\n",
      "Método: Lay 1 x 0\n",
      "######################\n",
      "\n",
      "Liga: TURKEY - SUPER LIG\n",
      "Horário: 14:30\n",
      "Jogo: Basaksehir x Fenerbahce\n",
      "Odd Lay 1 x 0 Pré-Live: \n",
      "Odd Lay 1 x 0 Entrada: \n",
      "\n",
      "Liga: ENGLAND - CHAMPIONSHIP\n",
      "Horário: 16:00\n",
      "Jogo: Reading x Luton\n",
      "Odd Lay 1 x 0 Pré-Live: \n",
      "Odd Lay 1 x 0 Entrada: \n",
      "\n"
     ]
    }
   ],
   "source": [
    "entradas_de_hoje()"
   ]
  }
 ],
 "metadata": {
  "colab": {
   "collapsed_sections": [
    "8XUG0Cwy4nCw"
   ],
   "private_outputs": true,
   "provenance": []
  },
  "gpuClass": "standard",
  "kernelspec": {
   "display_name": "Python 3 (ipykernel)",
   "language": "python",
   "name": "python3"
  },
  "language_info": {
   "codemirror_mode": {
    "name": "ipython",
    "version": 3
   },
   "file_extension": ".py",
   "mimetype": "text/x-python",
   "name": "python",
   "nbconvert_exporter": "python",
   "pygments_lexer": "ipython3",
   "version": "3.9.13"
  }
 },
 "nbformat": 4,
 "nbformat_minor": 1
}
