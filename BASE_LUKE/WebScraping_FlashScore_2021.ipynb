{
 "cells": [
  {
   "cell_type": "code",
   "execution_count": 1,
   "id": "ed07295c",
   "metadata": {},
   "outputs": [],
   "source": [
    "from webscraping import *\n",
    "from leagues_2021 import *\n",
    "import os\n",
    "import subprocess"
   ]
  },
  {
   "cell_type": "code",
   "execution_count": null,
   "id": "13367553",
   "metadata": {
    "scrolled": true
   },
   "outputs": [
    {
     "name": "stdout",
     "output_type": "stream",
     "text": [
      "Torneo Betano 2021 Results - Football/Argentina\n"
     ]
    },
    {
     "data": {
      "application/vnd.jupyter.widget-view+json": {
       "model_id": "54788b833cc7411badd8a305a2683251",
       "version_major": 2,
       "version_minor": 0
      },
      "text/plain": [
       "  0%|          | 0/325 [00:00<?, ?it/s]"
      ]
     },
     "metadata": {},
     "output_type": "display_data"
    },
    {
     "name": "stdout",
     "output_type": "stream",
     "text": [
      "Copa de la Liga Profesional 2021 Results - Football/Argentina\n"
     ]
    },
    {
     "data": {
      "application/vnd.jupyter.widget-view+json": {
       "model_id": "5290b70dad1446fe810bdb39b7db79d4",
       "version_major": 2,
       "version_minor": 0
      },
      "text/plain": [
       "  0%|          | 0/176 [00:00<?, ?it/s]"
      ]
     },
     "metadata": {},
     "output_type": "display_data"
    },
    {
     "name": "stdout",
     "output_type": "stream",
     "text": [
      "Primera Nacional 2021 Results - Football/Argentina\n"
     ]
    },
    {
     "data": {
      "application/vnd.jupyter.widget-view+json": {
       "model_id": "d966c1c0f3dc4eb1ad2017fac33a5b4b",
       "version_major": 2,
       "version_minor": 0
      },
      "text/plain": [
       "  0%|          | 0/590 [00:00<?, ?it/s]"
      ]
     },
     "metadata": {},
     "output_type": "display_data"
    },
    {
     "name": "stdout",
     "output_type": "stream",
     "text": [
      "Vysshaya Liga 2021 Results - Football/Belarus\n"
     ]
    },
    {
     "data": {
      "application/vnd.jupyter.widget-view+json": {
       "model_id": "ed036c3e6013489cae06783e52f0de7a",
       "version_major": 2,
       "version_minor": 0
      },
      "text/plain": [
       "  0%|          | 0/242 [00:00<?, ?it/s]"
      ]
     },
     "metadata": {},
     "output_type": "display_data"
    },
    {
     "name": "stdout",
     "output_type": "stream",
     "text": [
      "Pershaya Liga 2021 Results - Football/Belarus\n"
     ]
    },
    {
     "data": {
      "application/vnd.jupyter.widget-view+json": {
       "model_id": "1996613fa3444da2840c9772fc82edb6",
       "version_major": 2,
       "version_minor": 0
      },
      "text/plain": [
       "  0%|          | 0/198 [00:00<?, ?it/s]"
      ]
     },
     "metadata": {},
     "output_type": "display_data"
    },
    {
     "name": "stdout",
     "output_type": "stream",
     "text": [
      "Division Profesional 2021 Results - Football/Bolivia\n"
     ]
    },
    {
     "data": {
      "application/vnd.jupyter.widget-view+json": {
       "model_id": "ce7c3cd06faa4e2a8317d691046b7310",
       "version_major": 2,
       "version_minor": 0
      },
      "text/plain": [
       "  0%|          | 0/242 [00:00<?, ?it/s]"
      ]
     },
     "metadata": {},
     "output_type": "display_data"
    },
    {
     "name": "stdout",
     "output_type": "stream",
     "text": [
      "Nacional B 2021 Results - Football/Bolivia\n"
     ]
    },
    {
     "data": {
      "application/vnd.jupyter.widget-view+json": {
       "model_id": "df085f5abd924d2ba7ff01de8d0b8d83",
       "version_major": 2,
       "version_minor": 0
      },
      "text/plain": [
       "  0%|          | 0/146 [00:00<?, ?it/s]"
      ]
     },
     "metadata": {},
     "output_type": "display_data"
    },
    {
     "name": "stdout",
     "output_type": "stream",
     "text": [
      "Serie A Betano 2021 Results - Football/Brazil\n"
     ]
    },
    {
     "data": {
      "application/vnd.jupyter.widget-view+json": {
       "model_id": "29ea24300fce419dad504ea6e44e3567",
       "version_major": 2,
       "version_minor": 0
      },
      "text/plain": [
       "  0%|          | 0/380 [00:00<?, ?it/s]"
      ]
     },
     "metadata": {},
     "output_type": "display_data"
    },
    {
     "name": "stdout",
     "output_type": "stream",
     "text": [
      "Serie B 2021 Results - Football/Brazil\n"
     ]
    },
    {
     "data": {
      "application/vnd.jupyter.widget-view+json": {
       "model_id": "0ad25b6a923f47d2a64e6895d5648bd6",
       "version_major": 2,
       "version_minor": 0
      },
      "text/plain": [
       "  0%|          | 0/380 [00:00<?, ?it/s]"
      ]
     },
     "metadata": {},
     "output_type": "display_data"
    },
    {
     "name": "stdout",
     "output_type": "stream",
     "text": [
      "Serie C 2021 Results - Football/Brazil\n"
     ]
    },
    {
     "data": {
      "application/vnd.jupyter.widget-view+json": {
       "model_id": "994e5ad58b8149068e7adcb5fc353159",
       "version_major": 2,
       "version_minor": 0
      },
      "text/plain": [
       "  0%|          | 0/206 [00:00<?, ?it/s]"
      ]
     },
     "metadata": {},
     "output_type": "display_data"
    },
    {
     "name": "stdout",
     "output_type": "stream",
     "text": [
      "Serie D 2021 Results - Football/Brazil\n"
     ]
    },
    {
     "data": {
      "application/vnd.jupyter.widget-view+json": {
       "model_id": "4dbf78cd7e1c41fb8ddfa418885df3e3",
       "version_major": 2,
       "version_minor": 0
      },
      "text/plain": [
       "  0%|          | 0/518 [00:00<?, ?it/s]"
      ]
     },
     "metadata": {},
     "output_type": "display_data"
    },
    {
     "name": "stdout",
     "output_type": "stream",
     "text": [
      "Canadian Premier League 2021 Results - Football/Canada\n"
     ]
    },
    {
     "data": {
      "application/vnd.jupyter.widget-view+json": {
       "model_id": "7ef06f15f6eb405abcedf773e971f042",
       "version_major": 2,
       "version_minor": 0
      },
      "text/plain": [
       "  0%|          | 0/115 [00:00<?, ?it/s]"
      ]
     },
     "metadata": {},
     "output_type": "display_data"
    },
    {
     "name": "stdout",
     "output_type": "stream",
     "text": [
      "Championship 2021 Results - Football/Canada\n"
     ]
    },
    {
     "data": {
      "application/vnd.jupyter.widget-view+json": {
       "model_id": "7c6c97e65882409d8834f3299fa3fd85",
       "version_major": 2,
       "version_minor": 0
      },
      "text/plain": [
       "  0%|          | 0/12 [00:00<?, ?it/s]"
      ]
     },
     "metadata": {},
     "output_type": "display_data"
    },
    {
     "name": "stdout",
     "output_type": "stream",
     "text": [
      "Primera Division 2021 Results - Football/Chile\n"
     ]
    },
    {
     "data": {
      "application/vnd.jupyter.widget-view+json": {
       "model_id": "d0bfbb2006674a778ce695c895caa0bb",
       "version_major": 2,
       "version_minor": 0
      },
      "text/plain": [
       "  0%|          | 0/274 [00:00<?, ?it/s]"
      ]
     },
     "metadata": {},
     "output_type": "display_data"
    },
    {
     "name": "stdout",
     "output_type": "stream",
     "text": [
      "Primera B 2021 Results - Football/Chile\n"
     ]
    },
    {
     "data": {
      "application/vnd.jupyter.widget-view+json": {
       "model_id": "61794518980248f38a75dc6d8c4b1f3e",
       "version_major": 2,
       "version_minor": 0
      },
      "text/plain": [
       "  0%|          | 0/246 [00:00<?, ?it/s]"
      ]
     },
     "metadata": {},
     "output_type": "display_data"
    },
    {
     "name": "stdout",
     "output_type": "stream",
     "text": [
      "Super League 2021 Results - Football/China\n"
     ]
    },
    {
     "data": {
      "application/vnd.jupyter.widget-view+json": {
       "model_id": "88e5b936e5314ed4be90dc381fee63d2",
       "version_major": 2,
       "version_minor": 0
      },
      "text/plain": [
       "  0%|          | 0/180 [00:00<?, ?it/s]"
      ]
     },
     "metadata": {},
     "output_type": "display_data"
    },
    {
     "name": "stdout",
     "output_type": "stream",
     "text": [
      "Jia League 2021 Results - Football/China\n"
     ]
    },
    {
     "data": {
      "application/vnd.jupyter.widget-view+json": {
       "model_id": "c480262dd2404f81900d0951a57c129e",
       "version_major": 2,
       "version_minor": 0
      },
      "text/plain": [
       "  0%|          | 0/310 [00:00<?, ?it/s]"
      ]
     },
     "metadata": {},
     "output_type": "display_data"
    },
    {
     "name": "stdout",
     "output_type": "stream",
     "text": [
      "Primera A 2021 Results - Football/Colombia\n"
     ]
    },
    {
     "data": {
      "application/vnd.jupyter.widget-view+json": {
       "model_id": "cab4ed26525e4fc2859cde34756099d0",
       "version_major": 2,
       "version_minor": 0
      },
      "text/plain": [
       "  0%|          | 0/411 [00:00<?, ?it/s]"
      ]
     },
     "metadata": {},
     "output_type": "display_data"
    },
    {
     "name": "stdout",
     "output_type": "stream",
     "text": [
      "Primera B 2021 Results - Football/Colombia\n"
     ]
    },
    {
     "data": {
      "application/vnd.jupyter.widget-view+json": {
       "model_id": "a850aadd071b4de8bc3eb4a2f960b756",
       "version_major": 2,
       "version_minor": 0
      },
      "text/plain": [
       "  0%|          | 0/278 [00:00<?, ?it/s]"
      ]
     },
     "metadata": {},
     "output_type": "display_data"
    },
    {
     "name": "stdout",
     "output_type": "stream",
     "text": [
      "Liga Pro 2021 Results - Football/Ecuador\n"
     ]
    },
    {
     "data": {
      "application/vnd.jupyter.widget-view+json": {
       "model_id": "b15226912b054fcd9da41ae15d771625",
       "version_major": 2,
       "version_minor": 0
      },
      "text/plain": [
       "  0%|          | 0/242 [00:00<?, ?it/s]"
      ]
     },
     "metadata": {},
     "output_type": "display_data"
    },
    {
     "name": "stdout",
     "output_type": "stream",
     "text": [
      "Serie B 2021 Results - Football/Ecuador\n"
     ]
    },
    {
     "data": {
      "application/vnd.jupyter.widget-view+json": {
       "model_id": "0032337941314de1a2eed57532f5e06a",
       "version_major": 2,
       "version_minor": 0
      },
      "text/plain": [
       "  0%|          | 0/180 [00:00<?, ?it/s]"
      ]
     },
     "metadata": {},
     "output_type": "display_data"
    },
    {
     "name": "stdout",
     "output_type": "stream",
     "text": [
      "Meistriliiga 2021 Results - Football/Estonia\n"
     ]
    },
    {
     "data": {
      "application/vnd.jupyter.widget-view+json": {
       "model_id": "355e6f9f219b476d8a929a29e8fe269f",
       "version_major": 2,
       "version_minor": 0
      },
      "text/plain": [
       "  0%|          | 0/158 [00:00<?, ?it/s]"
      ]
     },
     "metadata": {},
     "output_type": "display_data"
    },
    {
     "name": "stdout",
     "output_type": "stream",
     "text": [
      "Esiliiga 2021 Results - Football/Estonia\n"
     ]
    },
    {
     "data": {
      "application/vnd.jupyter.widget-view+json": {
       "model_id": "59db1f7022aa4dd381fdd55edca7bedf",
       "version_major": 2,
       "version_minor": 0
      },
      "text/plain": [
       "  0%|          | 0/149 [00:00<?, ?it/s]"
      ]
     },
     "metadata": {},
     "output_type": "display_data"
    },
    {
     "name": "stdout",
     "output_type": "stream",
     "text": [
      "Veikkausliiga 2021 Results - Football/Finland\n"
     ]
    },
    {
     "data": {
      "application/vnd.jupyter.widget-view+json": {
       "model_id": "9c364766df924ac69516cc400d423d4d",
       "version_major": 2,
       "version_minor": 0
      },
      "text/plain": [
       "  0%|          | 0/164 [00:00<?, ?it/s]"
      ]
     },
     "metadata": {},
     "output_type": "display_data"
    },
    {
     "name": "stdout",
     "output_type": "stream",
     "text": [
      "Ykkosliiga 2021 Results - Football/Finland\n"
     ]
    },
    {
     "data": {
      "application/vnd.jupyter.widget-view+json": {
       "model_id": "3496c145daae439795f10296480bb56a",
       "version_major": 2,
       "version_minor": 0
      },
      "text/plain": [
       "  0%|          | 0/162 [00:00<?, ?it/s]"
      ]
     },
     "metadata": {},
     "output_type": "display_data"
    },
    {
     "name": "stdout",
     "output_type": "stream",
     "text": [
      "cookies already closed\n",
      "Besta deild karla 2021 Results - Football/Iceland\n"
     ]
    },
    {
     "data": {
      "application/vnd.jupyter.widget-view+json": {
       "model_id": "6ac0bfaa79a547c1b2396df0b853e1ff",
       "version_major": 2,
       "version_minor": 0
      },
      "text/plain": [
       "  0%|          | 0/132 [00:00<?, ?it/s]"
      ]
     },
     "metadata": {},
     "output_type": "display_data"
    },
    {
     "name": "stdout",
     "output_type": "stream",
     "text": [
      "Division 1 2021 Results - Football/Iceland\n"
     ]
    },
    {
     "data": {
      "application/vnd.jupyter.widget-view+json": {
       "model_id": "59bdb41f026b4cb2a2efe1a6f11b5637",
       "version_major": 2,
       "version_minor": 0
      },
      "text/plain": [
       "  0%|          | 0/132 [00:00<?, ?it/s]"
      ]
     },
     "metadata": {},
     "output_type": "display_data"
    },
    {
     "name": "stdout",
     "output_type": "stream",
     "text": [
      "J1 League 2021 Results - Football/Japan\n"
     ]
    },
    {
     "data": {
      "application/vnd.jupyter.widget-view+json": {
       "model_id": "42d6155f87514fc4a9de92e11edd4f05",
       "version_major": 2,
       "version_minor": 0
      },
      "text/plain": [
       "  0%|          | 0/380 [00:00<?, ?it/s]"
      ]
     },
     "metadata": {},
     "output_type": "display_data"
    }
   ],
   "source": [
    "for i in links_2021:\n",
    "    \n",
    "    url = i\n",
    "    colecao_partidas = TinyDB('base_flashscore_2021.json')\n",
    "   \n",
    "    options = webdriver.ChromeOptions()\n",
    "    options.add_argument('--headless')\n",
    "\n",
    "    s = Service('./chromedriver.exe')\n",
    "    driver = webdriver.Chrome(service=s, options=options)\n",
    "    driver.maximize_window()\n",
    "    \n",
    "    try:\n",
    "        driver.get(url)\n",
    "\n",
    "        if ('No match found.' in driver.page_source) == False:\n",
    "            try:\n",
    "                WebDriverWait(driver, 8).until(EC.visibility_of_element_located((By.CSS_SELECTOR,'button#onetrust-accept-btn-handler')))\n",
    "                button_cookies = driver.find_element(By.CSS_SELECTOR,'button#onetrust-accept-btn-handler')\n",
    "                button_cookies.click()\n",
    "            except:\n",
    "                print(\"cookies already closed\")\n",
    "\n",
    "            while 'event__more' in driver.page_source:\n",
    "                try:\n",
    "                    button_more = WebDriverWait(driver, 10).until(EC.element_to_be_clickable((By.CSS_SELECTOR, 'a.event__more.event__more--static')))\n",
    "                    driver.execute_script(\"arguments[0].click();\", button_more)\n",
    "                    sleep(2)  \n",
    "                except TimeoutException:\n",
    "                    logging.error(\"Timeout ao tentar carregar mais eventos.\")\n",
    "                    break  \n",
    "\n",
    "            jogos = driver.find_elements(By.CSS_SELECTOR,'div.event__match--twoLine')\n",
    "            id_jogos =[]\n",
    "            for i in jogos:\n",
    "                id_jogos.append(i.get_attribute(\"id\")[4:])\n",
    "\n",
    "            season = driver.find_element(By.CSS_SELECTOR,'div.heading__info').text\n",
    "\n",
    "            print(driver.title)\n",
    "\n",
    "            for id_jogo in tqdm(id_jogos):\n",
    "                procura_duplicado = Query()\n",
    "                jogo_existente = colecao_partidas.search(procura_duplicado.Id == id_jogo)\n",
    "                \n",
    "                if jogo_existente == []:\n",
    "\n",
    "                    try:\n",
    "                        jogo = {}\n",
    "\n",
    "                        Dados_Jogo(id_jogo,jogo,driver)\n",
    "                        Temporada(jogo,season)\n",
    "                        Gols_HT_FT(id_jogo,jogo,driver)\n",
    "                        Odds_Math_Odds(id_jogo,jogo,driver)\n",
    "                        Odds_Over_Under_HT(id_jogo,jogo,driver)\n",
    "                        Odds_Over_Under_FT(id_jogo,jogo,driver)\n",
    "                        Odds_BTTS(id_jogo,jogo,driver)\n",
    "                        Odds_Dupla_Chance(id_jogo,jogo,driver)\n",
    "                        Odds_Handicap_Asiatico(id_jogo,jogo,driver)\n",
    "                        Odds_Correct_Score(id_jogo,jogo,driver)\n",
    "                        Minutos_dos_Gols(id_jogo,jogo,driver)\n",
    "\n",
    "                        colecao_partidas.insert(jogo.copy())\n",
    "\n",
    "                    except Exception as e:\n",
    "                        pass\n",
    "\n",
    "                else:\n",
    "                    pass\n",
    "                \n",
    "        driver.close()\n",
    "    except:\n",
    "        pass"
   ]
  },
  {
   "cell_type": "code",
   "execution_count": null,
   "id": "84c998e5",
   "metadata": {},
   "outputs": [],
   "source": [
    "os.chdir('C:\\\\GitHub\\\\FutPythonPunter')\n",
    "\n",
    "subprocess.run([\"git\", \"add\", \".\"], check=True)\n",
    "subprocess.run([\"git\", \"commit\", \"-m\", \"Update\"], check=True)\n",
    "subprocess.run([\"git\", \"push\"], check=True)"
   ]
  }
 ],
 "metadata": {
  "kernelspec": {
   "display_name": "Python 3 (ipykernel)",
   "language": "python",
   "name": "python3"
  },
  "language_info": {
   "codemirror_mode": {
    "name": "ipython",
    "version": 3
   },
   "file_extension": ".py",
   "mimetype": "text/x-python",
   "name": "python",
   "nbconvert_exporter": "python",
   "pygments_lexer": "ipython3",
   "version": "3.9.13"
  }
 },
 "nbformat": 4,
 "nbformat_minor": 5
}
