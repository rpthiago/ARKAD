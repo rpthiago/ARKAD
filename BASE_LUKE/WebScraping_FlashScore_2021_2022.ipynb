{
 "cells": [
  {
   "cell_type": "code",
   "execution_count": 1,
   "id": "ed07295c",
   "metadata": {},
   "outputs": [],
   "source": [
    "from webscraping import *\n",
    "from leagues_2021_2022 import *\n",
    "import os\n",
    "import subprocess"
   ]
  },
  {
   "cell_type": "code",
   "execution_count": null,
   "id": "13367553",
   "metadata": {
    "scrolled": true
   },
   "outputs": [
    {
     "name": "stdout",
     "output_type": "stream",
     "text": [
      "Premier League 2021/2022 Results - Football/Armenia\n"
     ]
    },
    {
     "data": {
      "application/vnd.jupyter.widget-view+json": {
       "model_id": "645ce58495054098ad22ddff7c870f1e",
       "version_major": 2,
       "version_minor": 0
      },
      "text/plain": [
       "  0%|          | 0/157 [00:00<?, ?it/s]"
      ]
     },
     "metadata": {},
     "output_type": "display_data"
    },
    {
     "name": "stdout",
     "output_type": "stream",
     "text": [
      "A-League 2021/2022 Results - Football/Australia\n"
     ]
    },
    {
     "data": {
      "application/vnd.jupyter.widget-view+json": {
       "model_id": "de07cfba777140a5ad984086bd844020",
       "version_major": 2,
       "version_minor": 0
      },
      "text/plain": [
       "  0%|          | 0/163 [00:00<?, ?it/s]"
      ]
     },
     "metadata": {},
     "output_type": "display_data"
    },
    {
     "name": "stdout",
     "output_type": "stream",
     "text": [
      "Bundesliga 2021/2022 Results - Football/Austria\n"
     ]
    },
    {
     "data": {
      "application/vnd.jupyter.widget-view+json": {
       "model_id": "c772f205edd04ea2a22217aa78cbd648",
       "version_major": 2,
       "version_minor": 0
      },
      "text/plain": [
       "  0%|          | 0/195 [00:00<?, ?it/s]"
      ]
     },
     "metadata": {},
     "output_type": "display_data"
    },
    {
     "name": "stdout",
     "output_type": "stream",
     "text": [
      "2. Liga 2021/2022 Results - Football/Austria\n"
     ]
    },
    {
     "data": {
      "application/vnd.jupyter.widget-view+json": {
       "model_id": "2e92a82e452342fea3f2f551b5243a1f",
       "version_major": 2,
       "version_minor": 0
      },
      "text/plain": [
       "  0%|          | 0/240 [00:00<?, ?it/s]"
      ]
     },
     "metadata": {},
     "output_type": "display_data"
    },
    {
     "name": "stdout",
     "output_type": "stream",
     "text": [
      "Jupiler Pro League 2021/2022 Results - Football/Belgium\n"
     ]
    },
    {
     "data": {
      "application/vnd.jupyter.widget-view+json": {
       "model_id": "14f243032ebd4b87ad38c1e7870a1a4b",
       "version_major": 2,
       "version_minor": 0
      },
      "text/plain": [
       "  0%|          | 0/332 [00:00<?, ?it/s]"
      ]
     },
     "metadata": {},
     "output_type": "display_data"
    },
    {
     "name": "stdout",
     "output_type": "stream",
     "text": [
      "Challenger Pro League 2021/2022 Results - Football/Belgium\n"
     ]
    },
    {
     "data": {
      "application/vnd.jupyter.widget-view+json": {
       "model_id": "e2530fdc1ed64d80a4de184b6ab5503d",
       "version_major": 2,
       "version_minor": 0
      },
      "text/plain": [
       "  0%|          | 0/112 [00:00<?, ?it/s]"
      ]
     },
     "metadata": {},
     "output_type": "display_data"
    },
    {
     "name": "stdout",
     "output_type": "stream",
     "text": [
      "WWIN Liga BiH 2021/2022 Results - Football/Bosnia and Herzegovina\n"
     ]
    },
    {
     "data": {
      "application/vnd.jupyter.widget-view+json": {
       "model_id": "766374cdb36645e3a0bc3fae0d45deaf",
       "version_major": 2,
       "version_minor": 0
      },
      "text/plain": [
       "  0%|          | 0/198 [00:00<?, ?it/s]"
      ]
     },
     "metadata": {},
     "output_type": "display_data"
    },
    {
     "name": "stdout",
     "output_type": "stream",
     "text": [
      "Parva liga 2021/2022 Results - Football/Bulgaria\n"
     ]
    },
    {
     "data": {
      "application/vnd.jupyter.widget-view+json": {
       "model_id": "a90e69e85e2141aab7c86ec89357e0c6",
       "version_major": 2,
       "version_minor": 0
      },
      "text/plain": [
       "  0%|          | 0/223 [00:00<?, ?it/s]"
      ]
     },
     "metadata": {},
     "output_type": "display_data"
    },
    {
     "name": "stdout",
     "output_type": "stream",
     "text": [
      "HNL 2021/2022 Results - Football/Croatia\n"
     ]
    },
    {
     "data": {
      "application/vnd.jupyter.widget-view+json": {
       "model_id": "2f336dad1d284470a58cf1eb2775cab2",
       "version_major": 2,
       "version_minor": 0
      },
      "text/plain": [
       "  0%|          | 0/180 [00:00<?, ?it/s]"
      ]
     },
     "metadata": {},
     "output_type": "display_data"
    },
    {
     "name": "stdout",
     "output_type": "stream",
     "text": [
      "Prva NL 2021/2022 Results - Football/Croatia\n"
     ]
    },
    {
     "data": {
      "application/vnd.jupyter.widget-view+json": {
       "model_id": "48888a2f0c7249c6a35bdfc8122a56d0",
       "version_major": 2,
       "version_minor": 0
      },
      "text/plain": [
       "  0%|          | 0/240 [00:00<?, ?it/s]"
      ]
     },
     "metadata": {},
     "output_type": "display_data"
    },
    {
     "name": "stdout",
     "output_type": "stream",
     "text": [
      "Cyprus League 2021/2022 Results - Football/Cyprus\n"
     ]
    },
    {
     "data": {
      "application/vnd.jupyter.widget-view+json": {
       "model_id": "97b8172bf43942f5830daec4c4878ef5",
       "version_major": 2,
       "version_minor": 0
      },
      "text/plain": [
       "  0%|          | 0/192 [00:00<?, ?it/s]"
      ]
     },
     "metadata": {},
     "output_type": "display_data"
    }
   ],
   "source": [
    "for i in links_2021_2022:\n",
    "    \n",
    "    url = i\n",
    "    colecao_partidas = TinyDB('base_flashscore_2021_2022.json')\n",
    "   \n",
    "    options = webdriver.ChromeOptions()\n",
    "    options.add_argument('--headless')\n",
    "\n",
    "    s = Service('./chromedriver.exe')\n",
    "    driver = webdriver.Chrome(service=s, options=options)\n",
    "    driver.maximize_window()\n",
    "    \n",
    "    try:\n",
    "        driver.get(url)\n",
    "\n",
    "        if ('No match found.' in driver.page_source) == False:\n",
    "            try:\n",
    "                WebDriverWait(driver, 8).until(EC.visibility_of_element_located((By.CSS_SELECTOR,'button#onetrust-accept-btn-handler')))\n",
    "                button_cookies = driver.find_element(By.CSS_SELECTOR,'button#onetrust-accept-btn-handler')\n",
    "                button_cookies.click()\n",
    "            except:\n",
    "                print(\"cookies already closed\")\n",
    "\n",
    "            while 'event__more' in driver.page_source:\n",
    "                try:\n",
    "                    button_more = WebDriverWait(driver, 10).until(EC.element_to_be_clickable((By.CSS_SELECTOR, 'a.event__more.event__more--static')))\n",
    "                    driver.execute_script(\"arguments[0].click();\", button_more)\n",
    "                    sleep(2) \n",
    "                except TimeoutException:\n",
    "                    logging.error(\"Timeout ao tentar carregar mais eventos.\")\n",
    "                    break  \n",
    "\n",
    "            jogos = driver.find_elements(By.CSS_SELECTOR,'div.event__match--twoLine')\n",
    "            id_jogos =[]\n",
    "            for i in jogos:\n",
    "                id_jogos.append(i.get_attribute(\"id\")[4:])\n",
    "\n",
    "            season = driver.find_element(By.CSS_SELECTOR,'div.heading__info').text\n",
    "\n",
    "            print(driver.title)\n",
    "\n",
    "            for id_jogo in tqdm(id_jogos):\n",
    "                procura_duplicado = Query()\n",
    "                jogo_existente = colecao_partidas.search(procura_duplicado.Id == id_jogo)\n",
    "                \n",
    "                if jogo_existente == []:\n",
    "\n",
    "                    try:\n",
    "                        jogo = {}\n",
    "\n",
    "                        Dados_Jogo(id_jogo,jogo,driver)\n",
    "                        Temporada(jogo,season)\n",
    "                        Gols_HT_FT(id_jogo,jogo,driver)\n",
    "                        Odds_Math_Odds(id_jogo,jogo,driver)\n",
    "                        Odds_Over_Under_HT(id_jogo,jogo,driver)\n",
    "                        Odds_Over_Under_FT(id_jogo,jogo,driver)\n",
    "                        Odds_BTTS(id_jogo,jogo,driver)\n",
    "                        Odds_Dupla_Chance(id_jogo,jogo,driver)\n",
    "                        Odds_Handicap_Asiatico(id_jogo,jogo,driver)\n",
    "                        Odds_Correct_Score(id_jogo,jogo,driver)\n",
    "                        Minutos_dos_Gols(id_jogo,jogo,driver)\n",
    "\n",
    "                        colecao_partidas.insert(jogo.copy())\n",
    "\n",
    "                    except Exception as e:\n",
    "                        pass\n",
    "\n",
    "                else:\n",
    "                    pass\n",
    "                \n",
    "        driver.close()\n",
    "    except:\n",
    "        pass"
   ]
  },
  {
   "cell_type": "code",
   "execution_count": null,
   "id": "c53d4980",
   "metadata": {
    "scrolled": true
   },
   "outputs": [],
   "source": [
    "os.chdir('C:\\\\GitHub\\\\FutPythonPunter')\n",
    "\n",
    "subprocess.run([\"git\", \"add\", \".\"], check=True)\n",
    "subprocess.run([\"git\", \"commit\", \"-m\", \"Update\"], check=True)\n",
    "subprocess.run([\"git\", \"push\"], check=True)"
   ]
  }
 ],
 "metadata": {
  "kernelspec": {
   "display_name": "Python 3 (ipykernel)",
   "language": "python",
   "name": "python3"
  },
  "language_info": {
   "codemirror_mode": {
    "name": "ipython",
    "version": 3
   },
   "file_extension": ".py",
   "mimetype": "text/x-python",
   "name": "python",
   "nbconvert_exporter": "python",
   "pygments_lexer": "ipython3",
   "version": "3.9.13"
  }
 },
 "nbformat": 4,
 "nbformat_minor": 5
}
