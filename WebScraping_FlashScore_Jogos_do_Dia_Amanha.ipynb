{
 "cells": [
  {
   "cell_type": "code",
   "execution_count": 5,
   "id": "c9415695",
   "metadata": {
    "scrolled": true
   },
   "outputs": [
    {
     "name": "stdout",
     "output_type": "stream",
     "text": [
      "EURO U21 2023, Football Live Scores, Latest Football Results | Flashscore.com\n"
     ]
    },
    {
     "data": {
      "application/vnd.jupyter.widget-view+json": {
       "model_id": "045e8488413c4d088de445221784ee3b",
       "version_major": 2,
       "version_minor": 0
      },
      "text/plain": [
       "  0%|          | 0/149 [00:00<?, ?it/s]"
      ]
     },
     "metadata": {},
     "output_type": "display_data"
    },
    {
     "ename": "KeyboardInterrupt",
     "evalue": "",
     "output_type": "error",
     "traceback": [
      "\u001b[1;31m---------------------------------------------------------------------------\u001b[0m",
      "\u001b[1;31mKeyboardInterrupt\u001b[0m                         Traceback (most recent call last)",
      "\u001b[1;32m~\\AppData\\Local\\Temp\\ipykernel_10764\\1489542290.py\u001b[0m in \u001b[0;36m<module>\u001b[1;34m\u001b[0m\n\u001b[0;32m     46\u001b[0m \u001b[1;33m\u001b[0m\u001b[0m\n\u001b[0;32m     47\u001b[0m             \u001b[0mget_main_header\u001b[0m\u001b[1;33m(\u001b[0m\u001b[0mid_jogo\u001b[0m\u001b[1;33m,\u001b[0m\u001b[0mjogo\u001b[0m\u001b[1;33m,\u001b[0m\u001b[0mdriver\u001b[0m\u001b[1;33m)\u001b[0m\u001b[1;33m\u001b[0m\u001b[1;33m\u001b[0m\u001b[0m\n\u001b[1;32m---> 48\u001b[1;33m             \u001b[0mget_odds_ml_ft\u001b[0m\u001b[1;33m(\u001b[0m\u001b[0mid_jogo\u001b[0m\u001b[1;33m,\u001b[0m\u001b[0mjogo\u001b[0m\u001b[1;33m,\u001b[0m\u001b[0mdriver\u001b[0m\u001b[1;33m)\u001b[0m\u001b[1;33m\u001b[0m\u001b[1;33m\u001b[0m\u001b[0m\n\u001b[0m\u001b[0;32m     49\u001b[0m             \u001b[0mget_odds_ou_ft\u001b[0m\u001b[1;33m(\u001b[0m\u001b[0mid_jogo\u001b[0m\u001b[1;33m,\u001b[0m\u001b[0mjogo\u001b[0m\u001b[1;33m,\u001b[0m\u001b[0mdriver\u001b[0m\u001b[1;33m)\u001b[0m\u001b[1;33m\u001b[0m\u001b[1;33m\u001b[0m\u001b[0m\n\u001b[0;32m     50\u001b[0m             \u001b[0mget_odds_btts_ft\u001b[0m\u001b[1;33m(\u001b[0m\u001b[0mid_jogo\u001b[0m\u001b[1;33m,\u001b[0m\u001b[0mjogo\u001b[0m\u001b[1;33m,\u001b[0m\u001b[0mdriver\u001b[0m\u001b[1;33m)\u001b[0m\u001b[1;33m\u001b[0m\u001b[1;33m\u001b[0m\u001b[0m\n",
      "\u001b[1;32m~\\OneDrive\\Documentos\\GitHub\\ARKAD\\webscraping.py\u001b[0m in \u001b[0;36mget_odds_ml_ft\u001b[1;34m(id_jogo, dictionary, driver)\u001b[0m\n\u001b[0;32m     58\u001b[0m     \u001b[0murl_ml_full_time\u001b[0m \u001b[1;33m=\u001b[0m \u001b[1;34mf'https://www.flashscore.com/match/{id_jogo}/#/odds-comparison/1x2-odds/full-time'\u001b[0m\u001b[1;33m\u001b[0m\u001b[1;33m\u001b[0m\u001b[0m\n\u001b[0;32m     59\u001b[0m     \u001b[0mdriver\u001b[0m\u001b[1;33m.\u001b[0m\u001b[0mget\u001b[0m\u001b[1;33m(\u001b[0m\u001b[0murl_ml_full_time\u001b[0m\u001b[1;33m)\u001b[0m\u001b[1;33m\u001b[0m\u001b[1;33m\u001b[0m\u001b[0m\n\u001b[1;32m---> 60\u001b[1;33m     \u001b[0msleep\u001b[0m\u001b[1;33m(\u001b[0m\u001b[1;36m1\u001b[0m\u001b[1;33m)\u001b[0m\u001b[1;33m\u001b[0m\u001b[1;33m\u001b[0m\u001b[0m\n\u001b[0m\u001b[0;32m     61\u001b[0m     \u001b[1;32mif\u001b[0m \u001b[0mdriver\u001b[0m\u001b[1;33m.\u001b[0m\u001b[0mcurrent_url\u001b[0m \u001b[1;33m==\u001b[0m \u001b[0murl_ml_full_time\u001b[0m\u001b[1;33m:\u001b[0m\u001b[1;33m\u001b[0m\u001b[1;33m\u001b[0m\u001b[0m\n\u001b[0;32m     62\u001b[0m         \u001b[0mWebDriverWait\u001b[0m\u001b[1;33m(\u001b[0m\u001b[0mdriver\u001b[0m\u001b[1;33m,\u001b[0m \u001b[1;36m8\u001b[0m\u001b[1;33m)\u001b[0m\u001b[1;33m.\u001b[0m\u001b[0muntil\u001b[0m\u001b[1;33m(\u001b[0m\u001b[0mEC\u001b[0m\u001b[1;33m.\u001b[0m\u001b[0mvisibility_of_element_located\u001b[0m\u001b[1;33m(\u001b[0m\u001b[1;33m(\u001b[0m\u001b[0mBy\u001b[0m\u001b[1;33m.\u001b[0m\u001b[0mCSS_SELECTOR\u001b[0m\u001b[1;33m,\u001b[0m\u001b[1;34m'div.ui-table'\u001b[0m\u001b[1;33m)\u001b[0m\u001b[1;33m)\u001b[0m\u001b[1;33m)\u001b[0m\u001b[1;33m\u001b[0m\u001b[1;33m\u001b[0m\u001b[0m\n",
      "\u001b[1;31mKeyboardInterrupt\u001b[0m: "
     ]
    }
   ],
   "source": [
    "from webscraping import *\n",
    "from leagues import *\n",
    "from fake_useragent import UserAgent # pip install fake_useragent\n",
    "\n",
    "user_agent = UserAgent()\n",
    "header = {'User-Agent': user_agent.random}\n",
    "#amanha = datetime.strftime(datetime.today(),'%d-%m-%Y')\n",
    "amanha = datetime.strftime(datetime.today() + timedelta(days=1),'%Y-%m-%d')\n",
    "partidas_amanha = TinyDB(f'./Jogos_do_Dia/{amanha}.json')\n",
    "warnings.filterwarnings('ignore')\n",
    "\n",
    "options = webdriver.ChromeOptions()\n",
    "options.add_argument(f'user-agent={header[\"User-Agent\"]}')\n",
    "options.add_argument('--headless')\n",
    "driver = webdriver.Chrome(ChromeDriverManager().install(), options=options)\n",
    "driver.maximize_window()\n",
    "\n",
    "url = 'https://www.flashscore.com/'\n",
    "driver.get(url)\n",
    "try:\n",
    "    WebDriverWait(driver, 8).until(EC.visibility_of_element_located((By.CSS_SELECTOR,'button#onetrust-accept-btn-handler')))\n",
    "    button_cookies = driver.find_element(By.CSS_SELECTOR,'button#onetrust-accept-btn-handler')\n",
    "    button_cookies.click()\n",
    "except:\n",
    "    print(\"cookies already closed\")\n",
    "\n",
    "WebDriverWait(driver, 8).until(EC.element_to_be_clickable((By.CSS_SELECTOR,'.calendar__navigation--tomorrow')))\n",
    "driver.execute_script(\"document.getElementsByClassName('otPlaceholder')[0].style.display='none';\")\n",
    "driver.find_element(By.CSS_SELECTOR,'.calendar__navigation--tomorrow').click()\n",
    "sleep(5)\n",
    "\n",
    "jogos = driver.find_elements(By.CSS_SELECTOR,'div.event__match--twoLine')\n",
    "id_jogos =[]\n",
    "for i in jogos:\n",
    "    id_jogos.append(i.get_attribute(\"id\")[4:])\n",
    "\n",
    "print(driver.title)\n",
    "for id_jogo in tqdm(id_jogos):\n",
    "    procura_duplicado = Query()\n",
    "    if partidas_amanha.search(procura_duplicado.Id == id_jogo) == []:\n",
    "        driver.get(f'https://www.flashscore.com/match/{id_jogo}/#/match-summary/match-summary')\n",
    "        country = driver.find_element(By.CSS_SELECTOR,'span.tournamentHeader__country').text.split(':')[0]\n",
    "        league = driver.find_element(By.CSS_SELECTOR,'span.tournamentHeader__country > a').text.split(' -')[0]\n",
    "        if f'{country} - {league}' in leagues_list:\n",
    "            jogo = {}\n",
    "            \n",
    "            get_main_header(id_jogo,jogo,driver)\n",
    "            get_odds_ml_ft(id_jogo,jogo,driver)\n",
    "            get_odds_ou_ft(id_jogo,jogo,driver)\n",
    "            get_odds_btts_ft(id_jogo,jogo,driver)\n",
    "            get_odds_cs_ft(id_jogo,jogo,driver)\n",
    "\n",
    "            partidas_amanha.insert(jogo.copy())\n",
    "            \n",
    "driver.close()\n",
    "df = pd.DataFrame(partidas_amanha.all())\n"
   ]
  },
  {
   "cell_type": "code",
   "execution_count": null,
   "id": "1128c159",
   "metadata": {},
   "outputs": [],
   "source": [
    "df = df[['Date', 'Time', 'League', 'Home', 'Away', 'Round', 'Odd_H', 'Odd_D', 'Odd_A', 'Odd_Over25', 'Odd_Under25', 'Odd_BTTS_Yes', 'Odd_BTTS_No']]\n",
    "\n",
    "df.columns= ['Date','Time', 'League', 'Home', 'Away', 'Round', 'FT_Odd_H','FT_Odd_D','FT_Odd_A','FT_Odd_Over25','FT_Odd_Under25','FT_Odd_BTTS_Yes','FT_Odd_BTTS_No']\n",
    "\n",
    "df.to_csv(f'./Jogos_do_Dia/{amanha}_Jogos_do_Dia.csv',index=False)\n",
    "\n",
    "print('encerrado')"
   ]
  },
  {
   "cell_type": "code",
   "execution_count": null,
   "id": "833a9c00",
   "metadata": {},
   "outputs": [],
   "source": []
  }
 ],
 "metadata": {
  "kernelspec": {
   "display_name": "Python 3 (ipykernel)",
   "language": "python",
   "name": "python3"
  },
  "language_info": {
   "codemirror_mode": {
    "name": "ipython",
    "version": 3
   },
   "file_extension": ".py",
   "mimetype": "text/x-python",
   "name": "python",
   "nbconvert_exporter": "python",
   "pygments_lexer": "ipython3",
   "version": "3.9.13"
  }
 },
 "nbformat": 4,
 "nbformat_minor": 5
}
