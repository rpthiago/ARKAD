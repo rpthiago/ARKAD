{
 "cells": [
  {
   "cell_type": "code",
   "execution_count": 3,
   "id": "409664ae",
   "metadata": {},
   "outputs": [],
   "source": [
    "import pyautogui\n",
    "from time import sleep"
   ]
  },
  {
   "cell_type": "code",
   "execution_count": 4,
   "id": "7b4a5598",
   "metadata": {
    "scrolled": true
   },
   "outputs": [],
   "source": [
    "pyautogui.PAUSE = 1\n",
    "\n",
    "\n",
    "\n",
    "pyautogui.click(430,669)\n",
    "pyautogui.press('enter')\n",
    "\n",
    "pyautogui.click(157,795)\n",
    "pyautogui.press('enter')\n",
    "\n",
    "pyautogui.write('Update')\n",
    "\n",
    "pyautogui.click(208,990)\n",
    "pyautogui.press('enter')\n",
    "\n",
    "pyautogui.click(1409,358)\n",
    "pyautogui.press('enter')\n",
    "\n",
    "pyautogui.click(1886,23)\n",
    "pyautogui.press('enter')\n"
   ]
  },
  {
   "cell_type": "code",
   "execution_count": null,
   "id": "d22e0a60",
   "metadata": {},
   "outputs": [],
   "source": []
  },
  {
   "cell_type": "code",
   "execution_count": null,
   "id": "4fc59e59",
   "metadata": {},
   "outputs": [],
   "source": []
  },
  {
   "cell_type": "code",
   "execution_count": null,
   "id": "717e441a",
   "metadata": {},
   "outputs": [],
   "source": []
  }
 ],
 "metadata": {
  "kernelspec": {
   "display_name": "Python 3 (ipykernel)",
   "language": "python",
   "name": "python3"
  },
  "language_info": {
   "codemirror_mode": {
    "name": "ipython",
    "version": 3
   },
   "file_extension": ".py",
   "mimetype": "text/x-python",
   "name": "python",
   "nbconvert_exporter": "python",
   "pygments_lexer": "ipython3",
   "version": "3.9.13"
  }
 },
 "nbformat": 4,
 "nbformat_minor": 5
}
