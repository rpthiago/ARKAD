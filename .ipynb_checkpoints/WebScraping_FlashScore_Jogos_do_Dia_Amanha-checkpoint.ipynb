{
 "cells": [
  {
   "cell_type": "code",
   "execution_count": 1,
   "id": "c9415695",
   "metadata": {
    "scrolled": true
   },
   "outputs": [
    {
     "ename": "ModuleNotFoundError",
     "evalue": "No module named 'leagues'",
     "output_type": "error",
     "traceback": [
      "\u001b[1;31m---------------------------------------------------------------------------\u001b[0m",
      "\u001b[1;31mModuleNotFoundError\u001b[0m                       Traceback (most recent call last)",
      "\u001b[1;32m~\\AppData\\Local\\Temp\\ipykernel_13764\\1489542290.py\u001b[0m in \u001b[0;36m<module>\u001b[1;34m\u001b[0m\n\u001b[0;32m      1\u001b[0m \u001b[1;32mfrom\u001b[0m \u001b[0mwebscraping\u001b[0m \u001b[1;32mimport\u001b[0m \u001b[1;33m*\u001b[0m\u001b[1;33m\u001b[0m\u001b[1;33m\u001b[0m\u001b[0m\n\u001b[1;32m----> 2\u001b[1;33m \u001b[1;32mfrom\u001b[0m \u001b[0mleagues\u001b[0m \u001b[1;32mimport\u001b[0m \u001b[1;33m*\u001b[0m\u001b[1;33m\u001b[0m\u001b[1;33m\u001b[0m\u001b[0m\n\u001b[0m\u001b[0;32m      3\u001b[0m \u001b[1;32mfrom\u001b[0m \u001b[0mfake_useragent\u001b[0m \u001b[1;32mimport\u001b[0m \u001b[0mUserAgent\u001b[0m \u001b[1;31m# pip install fake_useragent\u001b[0m\u001b[1;33m\u001b[0m\u001b[1;33m\u001b[0m\u001b[0m\n\u001b[0;32m      4\u001b[0m \u001b[1;33m\u001b[0m\u001b[0m\n\u001b[0;32m      5\u001b[0m \u001b[0muser_agent\u001b[0m \u001b[1;33m=\u001b[0m \u001b[0mUserAgent\u001b[0m\u001b[1;33m(\u001b[0m\u001b[1;33m)\u001b[0m\u001b[1;33m\u001b[0m\u001b[1;33m\u001b[0m\u001b[0m\n",
      "\u001b[1;31mModuleNotFoundError\u001b[0m: No module named 'leagues'"
     ]
    }
   ],
   "source": [
    "from webscraping import *\n",
    "from leagues import *\n",
    "from fake_useragent import UserAgent # pip install fake_useragent\n",
    "\n",
    "user_agent = UserAgent()\n",
    "header = {'User-Agent': user_agent.random}\n",
    "#amanha = datetime.strftime(datetime.today(),'%d-%m-%Y')\n",
    "amanha = datetime.strftime(datetime.today() + timedelta(days=1),'%Y-%m-%d')\n",
    "partidas_amanha = TinyDB(f'./Jogos_do_Dia/{amanha}.json')\n",
    "warnings.filterwarnings('ignore')\n",
    "\n",
    "options = webdriver.ChromeOptions()\n",
    "options.add_argument(f'user-agent={header[\"User-Agent\"]}')\n",
    "options.add_argument('--headless')\n",
    "driver = webdriver.Chrome(ChromeDriverManager().install(), options=options)\n",
    "driver.maximize_window()\n",
    "\n",
    "url = 'https://www.flashscore.com/'\n",
    "driver.get(url)\n",
    "try:\n",
    "    WebDriverWait(driver, 8).until(EC.visibility_of_element_located((By.CSS_SELECTOR,'button#onetrust-accept-btn-handler')))\n",
    "    button_cookies = driver.find_element(By.CSS_SELECTOR,'button#onetrust-accept-btn-handler')\n",
    "    button_cookies.click()\n",
    "except:\n",
    "    print(\"cookies already closed\")\n",
    "\n",
    "WebDriverWait(driver, 8).until(EC.element_to_be_clickable((By.CSS_SELECTOR,'.calendar__navigation--tomorrow')))\n",
    "driver.execute_script(\"document.getElementsByClassName('otPlaceholder')[0].style.display='none';\")\n",
    "driver.find_element(By.CSS_SELECTOR,'.calendar__navigation--tomorrow').click()\n",
    "sleep(5)\n",
    "\n",
    "jogos = driver.find_elements(By.CSS_SELECTOR,'div.event__match--twoLine')\n",
    "id_jogos =[]\n",
    "for i in jogos:\n",
    "    id_jogos.append(i.get_attribute(\"id\")[4:])\n",
    "\n",
    "print(driver.title)\n",
    "for id_jogo in tqdm(id_jogos):\n",
    "    procura_duplicado = Query()\n",
    "    if partidas_amanha.search(procura_duplicado.Id == id_jogo) == []:\n",
    "        driver.get(f'https://www.flashscore.com/match/{id_jogo}/#/match-summary/match-summary')\n",
    "        country = driver.find_element(By.CSS_SELECTOR,'span.tournamentHeader__country').text.split(':')[0]\n",
    "        league = driver.find_element(By.CSS_SELECTOR,'span.tournamentHeader__country > a').text.split(' -')[0]\n",
    "        if f'{country} - {league}' in leagues_list:\n",
    "            jogo = {}\n",
    "            \n",
    "            get_main_header(id_jogo,jogo,driver)\n",
    "            get_odds_ml_ft(id_jogo,jogo,driver)\n",
    "            get_odds_ou_ft(id_jogo,jogo,driver)\n",
    "            get_odds_btts_ft(id_jogo,jogo,driver)\n",
    "            get_odds_cs_ft(id_jogo,jogo,driver)\n",
    "\n",
    "            partidas_amanha.insert(jogo.copy())\n",
    "            \n",
    "driver.close()\n",
    "df = pd.DataFrame(partidas_amanha.all())\n"
   ]
  },
  {
   "cell_type": "code",
   "execution_count": null,
   "id": "1128c159",
   "metadata": {},
   "outputs": [],
   "source": [
    "df = df[['Date', 'Time', 'League', 'Home', 'Away', 'Round', 'Odd_H', 'Odd_D', 'Odd_A', 'Odd_Over25_FT', 'Odd_Under25_FT', 'Odd_BTTS_Yes', 'Odd_BTTS_No']]\n",
    "\n",
    "df.columns= ['Date','Time', 'League', 'Home', 'Away', 'Round', 'FT_Odd_H','FT_Odd_D','FT_Odd_A','FT_Odd_Over25','FT_Odd_Under25','FT_Odd_BTTS_Yes','FT_Odd_BTTS_No']\n",
    "\n",
    "df.to_csv(f'./Jogos_do_Dia/{amanha}_Jogos_do_Dia.csv',index=False)\n",
    "\n",
    "print('encerrado')"
   ]
  }
 ],
 "metadata": {
  "kernelspec": {
   "display_name": "Python 3 (ipykernel)",
   "language": "python",
   "name": "python3"
  },
  "language_info": {
   "codemirror_mode": {
    "name": "ipython",
    "version": 3
   },
   "file_extension": ".py",
   "mimetype": "text/x-python",
   "name": "python",
   "nbconvert_exporter": "python",
   "pygments_lexer": "ipython3",
   "version": "3.9.13"
  }
 },
 "nbformat": 4,
 "nbformat_minor": 5
}
