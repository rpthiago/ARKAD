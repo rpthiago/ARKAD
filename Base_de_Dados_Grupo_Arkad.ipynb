{
 "cells": [
  {
   "cell_type": "code",
   "execution_count": 1,
   "metadata": {},
   "outputs": [],
   "source": [
    "from futpythontrader import *"
   ]
  },
  {
   "cell_type": "code",
   "execution_count": 9,
   "metadata": {},
   "outputs": [],
   "source": [
    "url = \"https://apiv3.apifootball.com/?action=get_events&from=2023-04-05&to=2023-04-05&league_id=152&APIkey=4c0771ce08a32807f86401f74b572f6858f5593759ede629ffc200d3373d4b4a\""
   ]
  },
  {
   "cell_type": "code",
   "execution_count": 10,
   "metadata": {},
   "outputs": [],
   "source": [
    "data1 = requests.get(url)"
   ]
  },
  {
   "cell_type": "code",
   "execution_count": 13,
   "metadata": {},
   "outputs": [
    {
     "data": {
      "text/plain": [
       "<Response [200]>"
      ]
     },
     "execution_count": 13,
     "metadata": {},
     "output_type": "execute_result"
    }
   ],
   "source": [
    "data1"
   ]
  },
  {
   "cell_type": "code",
   "execution_count": 14,
   "metadata": {},
   "outputs": [],
   "source": [
    "resp = data1.json()\n"
   ]
  },
  {
   "cell_type": "code",
   "execution_count": 15,
   "metadata": {},
   "outputs": [
    {
     "data": {
      "text/plain": [
       "{'error': 404, 'message': 'No event found (please check your plan)!'}"
      ]
     },
     "execution_count": 15,
     "metadata": {},
     "output_type": "execute_result"
    }
   ],
   "source": [
    "resp"
   ]
  },
  {
   "cell_type": "code",
   "execution_count": 3,
   "metadata": {
    "id": "imwPMQNIGaJA"
   },
   "outputs": [],
   "source": [
    "key = 'a535168594f7c33f403cbd0c07c3b61d37105c253cd887672147bee92709a3b3'"
   ]
  },
  {
   "cell_type": "code",
   "execution_count": 4,
   "metadata": {},
   "outputs": [],
   "source": [
    "url = \"https://api.football-data-api.com/league-list?key=\"+key+\"&chosen_leagues_only=true\"\n",
    "\n",
    "data1 = requests.get(url)\n",
    "resp = data1.json()\n",
    "resp = data1.json()['data']\n",
    "dados = pd.DataFrame.from_dict(resp)\n",
    "dados = dados.sort_values(['name'])\n",
    "dados = drop_reset_index(dados)"
   ]
  },
  {
   "cell_type": "code",
   "execution_count": 5,
   "metadata": {},
   "outputs": [],
   "source": [
    "dados.to_excel(\"ligas.xlsx\", encoding='utf-8', index=False)\n",
    "df = pd.read_excel('ligas.xlsx')\n",
    "new_df = {'league':[],'id':[],'season':[]}\n",
    "for row in df.itertuples():\n",
    "    for i in eval(row.season):\n",
    "        new_df['league'].append(row.name)\n",
    "        new_df['id'].append(i['id'])\n",
    "        new_df['season'].append(i['year'])\n",
    "new = pd.DataFrame(new_df)\n",
    "new.columns = ['League', 'ID', 'Season']\n",
    "new = drop_reset_index(new)\n",
    "new.to_excel('ligas_arkard.xlsx', index=False)"
   ]
  },
  {
   "cell_type": "code",
   "execution_count": 6,
   "metadata": {},
   "outputs": [],
   "source": [
    "flt = ((new.Season == 2022) | (new.Season == 2023) | (new.Season == 20212022) | (new.Season == 20222023))\n",
    "new2 = new[flt]\n",
    "new2 = drop_reset_index(new2)\n",
    "new2[\"Season\"] = new2[\"Season\"].astype('str')\n",
    "new2[\"ID\"] = new2[\"ID\"].astype('str')"
   ]
  },
  {
   "cell_type": "code",
   "execution_count": 7,
   "metadata": {},
   "outputs": [
    {
     "name": "stdout",
     "output_type": "stream",
     "text": [
      "Argentina Prim B Nacional - 2022\n",
      "Argentina Prim B Nacional - 2023\n",
      "Argentina Primera División - 2022\n",
      "Argentina Primera División - 2023\n",
      "Australia A-League - 20212022\n",
      "Australia A-League - 20222023\n",
      "Austria Bundesliga - 20212022\n",
      "Austria Bundesliga - 20222023\n",
      "Belgium Pro League - 20212022\n",
      "Belgium Pro League - 20222023\n",
      "Bolivia LFPB - 2022\n",
      "Bolivia LFPB - 2023\n",
      "Brazil Serie A - 2022\n",
      "Brazil Serie A - 2023\n",
      "Brazil Serie B - 2022\n",
      "Brazil Serie B - 2023\n",
      "Brazil Serie C - 2022\n",
      "Brazil Serie C - 2023\n",
      "Brazil Serie D - 2022\n",
      "Brazil Serie D - 2023\n",
      "Bulgaria First League - 20212022\n",
      "Bulgaria First League - 20222023\n",
      "Canada Canadian Premier League - 2022\n",
      "Canada Canadian Premier League - 2023\n",
      "Chile Primera B - 2022\n",
      "Chile Primera B - 2023\n",
      "Chile Primera División - 2022\n",
      "Chile Primera División - 2023\n",
      "Chile Segunda División - 2022\n",
      "Chile Segunda División - 2023\n",
      "China Chinese Super League - 2022\n",
      "China Chinese Super League - 2023\n",
      "Colombia Categoria Primera A - 2022\n",
      "Colombia Categoria Primera A - 2023\n",
      "Colombia Categoria Primera B - 2022\n",
      "Colombia Categoria Primera B - 2023\n",
      "Croatia Prva HNL - 20212022\n",
      "Croatia Prva HNL - 20222023\n",
      "Czech Republic First League - 20212022\n",
      "Czech Republic First League - 20222023\n",
      "Denmark 1st Division - 20212022\n",
      "Denmark 1st Division - 20222023\n",
      "Denmark Superliga - 20212022\n",
      "Denmark Superliga - 20222023\n",
      "Ecuador Primera Categoría Serie A - 2022\n",
      "Ecuador Primera Categoría Serie A - 2023\n",
      "Egypt Egyptian Premier League - 20212022\n",
      "Egypt Egyptian Premier League - 20222023\n",
      "England Championship - 20212022\n",
      "England Championship - 20222023\n",
      "England EFL League One - 20212022\n",
      "England EFL League One - 20222023\n",
      "England EFL League Two - 20212022\n",
      "England EFL League Two - 20222023\n",
      "England National League - 20212022\n",
      "England National League - 20222023\n",
      "England Premier League - 20212022\n",
      "England Premier League - 20222023\n",
      "Finland Veikkausliiga - 2022\n",
      "Finland Veikkausliiga - 2023\n",
      "France Ligue 1 - 20212022\n",
      "France Ligue 1 - 20222023\n",
      "France Ligue 2 - 20212022\n",
      "France Ligue 2 - 20222023\n",
      "Germany 2. Bundesliga - 20212022\n",
      "Germany 2. Bundesliga - 20222023\n",
      "Germany Bundesliga - 20212022\n",
      "Germany Bundesliga - 20222023\n",
      "Greece Super League - 20212022\n",
      "Greece Super League - 20222023\n",
      "Hungary NB I - 20212022\n",
      "Hungary NB I - 20222023\n",
      "Italy Serie A - 20212022\n",
      "Italy Serie A - 20222023\n",
      "Italy Serie B - 20212022\n",
      "Italy Serie B - 20222023\n",
      "Japan J1 League - 2022\n",
      "Japan J1 League - 2023\n",
      "Japan J2 League - 2022\n",
      "Japan J2 League - 2023\n",
      "Mexico Ascenso MX - 20212022\n",
      "Mexico Ascenso MX - 20222023\n",
      "Mexico Liga MX - 20212022\n",
      "Mexico Liga MX - 20222023\n",
      "Netherlands Eerste Divisie - 20212022\n",
      "Netherlands Eerste Divisie - 20222023\n",
      "Netherlands Eredivisie - 20212022\n",
      "Netherlands Eredivisie - 20222023\n",
      "Netherlands Tweede Divisie - 20212022\n",
      "Netherlands Tweede Divisie - 20222023\n",
      "Norway Eliteserien - 2022\n",
      "Norway Eliteserien - 2023\n",
      "Paraguay Division Profesional - 2022\n",
      "Paraguay Division Profesional - 2023\n",
      "Peru Primera División - 2022\n",
      "Peru Primera División - 2023\n",
      "Poland Ekstraklasa - 20212022\n",
      "Poland Ekstraklasa - 20222023\n",
      "Portugal Liga NOS - 20212022\n",
      "Portugal Liga NOS - 20222023\n",
      "Portugal LigaPro - 20212022\n",
      "Portugal LigaPro - 20222023\n",
      "Republic of Ireland Premier Division - 2022\n",
      "Republic of Ireland Premier Division - 2023\n",
      "Romania Liga I - 20212022\n",
      "Romania Liga I - 20222023\n",
      "Scotland Premiership - 20212022\n",
      "Scotland Premiership - 20222023\n",
      "Serbia SuperLiga - 20212022\n",
      "Serbia SuperLiga - 20222023\n",
      "Slovakia Super Liga - 20212022\n",
      "Slovakia Super Liga - 20222023\n",
      "Slovenia PrvaLiga - 20212022\n",
      "Slovenia PrvaLiga - 20222023\n",
      "South Korea K League 1 - 2022\n",
      "South Korea K League 1 - 2023\n",
      "South Korea K League 2 - 2022\n",
      "South Korea K League 2 - 2023\n",
      "Spain La Liga - 20212022\n",
      "Spain La Liga - 20222023\n",
      "Spain Segunda División - 20212022\n",
      "Spain Segunda División - 20222023\n",
      "Sweden Allsvenskan - 2022\n",
      "Sweden Allsvenskan - 2023\n",
      "Switzerland Super League - 20212022\n",
      "Switzerland Super League - 20222023\n",
      "Tunisia Ligue 1 - 20212022\n",
      "Tunisia Ligue 1 - 20222023\n",
      "Turkey Süper Lig - 20212022\n",
      "Turkey Süper Lig - 20222023\n",
      "USA MLS - 2022\n",
      "USA MLS - 2023\n",
      "USA USL Championship - 2022\n",
      "USA USL Championship - 2023\n",
      "Ukraine Ukrainian Premier League - 20212022\n",
      "Ukraine Ukrainian Premier League - 20222023\n",
      "Uruguay Primera División - 2022\n",
      "Uruguay Primera División - 2023\n",
      "Uruguay Segunda División - 2022\n",
      "Uruguay Segunda División - 2023\n",
      "Venezuela Primera División - 2022\n",
      "Venezuela Primera División - 2023\n"
     ]
    }
   ],
   "source": [
    "for i,j,k in zip(new2.League, new2.ID, new2.Season):\n",
    "    \n",
    "    liga = str(i)\n",
    "    ID = str(j)\n",
    "    year = str(k)\n",
    "    \n",
    "    url = f\"https://api.football-data-api.com/league-matches?key={key}&season_id={ID}\"\n",
    "    data = requests.get(url)\n",
    "    resp = data.json()\n",
    "    resp = data.json()['data']\n",
    "    df = pd.DataFrame.from_dict(resp)\n",
    "    df['League'] = liga\n",
    "    df = df[['id','League','season','status','date_unix','game_week','home_name','away_name','homeGoalCount','awayGoalCount','odds_ft_1','odds_ft_x','odds_ft_2','odds_ft_over05','odds_ft_under05','odds_ft_over15','odds_ft_under15','odds_ft_over25','odds_ft_under25','odds_ft_over35','odds_ft_under35','odds_ft_over45','odds_ft_under45','odds_btts_yes','odds_btts_no']]\n",
    "    df.columns = ['Id_Jogo','League','Season','Status','Date','Rodada','Home','Away','FT_Goals_H','FT_Goals_A','FT_Odd_H','FT_Odd_D','FT_Odd_A','FT_Odd_Over05','FT_Odd_Under05','FT_Odd_Over15','FT_Odd_Under15','FT_Odd_Over25','FT_Odd_Under25','FT_Odd_Over35','FT_Odd_Under35','FT_Odd_Over45','FT_Odd_Under45','FT_Odd_BTTS_Yes','FT_Odd_BTTS_No']\n",
    "    df.fillna(0, inplace=True)\n",
    "    df['Date'] = pd.to_datetime(df['Date'], unit='s') - pd.DateOffset(hours=3)\n",
    "    df = df.sort_values(['Date'])\n",
    "    flt = df.Status == 'complete'\n",
    "    df = df[flt]\n",
    "    \n",
    "    df = df[['Id_Jogo','League','Season','Date','Rodada','Home','Away','FT_Goals_H','FT_Goals_A','FT_Odd_H','FT_Odd_D','FT_Odd_A','FT_Odd_Over05','FT_Odd_Under05','FT_Odd_Over15','FT_Odd_Under15','FT_Odd_Over25','FT_Odd_Under25','FT_Odd_Over35','FT_Odd_Under35','FT_Odd_Over45','FT_Odd_Under45','FT_Odd_BTTS_Yes','FT_Odd_BTTS_No']]\n",
    "    \n",
    "    df.to_csv(f'./Bases_de_Dados/{liga}_{year}.csv',index=False)\n",
    "    print(liga,'-',year)"
   ]
  },
  {
   "cell_type": "code",
   "execution_count": 8,
   "metadata": {},
   "outputs": [],
   "source": [
    "# Executar quando aparecer ligas novas\n",
    "\n",
    "\n",
    "\n",
    "\n",
    "# for a,b in zip(new2.ID,new2.League):\n",
    "#     print(\"df_jogos.replace(\"+a+\",'\"+b+\"', inplace=True)\")"
   ]
  },
  {
   "cell_type": "code",
   "execution_count": 9,
   "metadata": {},
   "outputs": [],
   "source": [
    "# for i,j,k in zip(new2.League, new2.ID, new2.Season):\n",
    "#     print('if liga == \"'+i+'\":')\n",
    "#     print('    df1 = pd.read_csv(\"./Bases/'+i+'_'+k+'.csv?raw=true\")')\n",
    "#     print('    df = pd.concat([df1,df2])')"
   ]
  }
 ],
 "metadata": {
  "colab": {
   "collapsed_sections": [
    "-Ya-4qQCs5Dv"
   ],
   "private_outputs": true,
   "provenance": []
  },
  "gpuClass": "standard",
  "hide_input": false,
  "kernelspec": {
   "display_name": "Python 3 (ipykernel)",
   "language": "python",
   "name": "python3"
  },
  "language_info": {
   "codemirror_mode": {
    "name": "ipython",
    "version": 3
   },
   "file_extension": ".py",
   "mimetype": "text/x-python",
   "name": "python",
   "nbconvert_exporter": "python",
   "pygments_lexer": "ipython3",
   "version": "3.9.13"
  },
  "toc": {
   "base_numbering": 1,
   "nav_menu": {},
   "number_sections": true,
   "sideBar": true,
   "skip_h1_title": false,
   "title_cell": "Table of Contents",
   "title_sidebar": "Contents",
   "toc_cell": false,
   "toc_position": {},
   "toc_section_display": true,
   "toc_window_display": false
  },
  "varInspector": {
   "cols": {
    "lenName": 16,
    "lenType": 16,
    "lenVar": 40
   },
   "kernels_config": {
    "python": {
     "delete_cmd_postfix": "",
     "delete_cmd_prefix": "del ",
     "library": "var_list.py",
     "varRefreshCmd": "print(var_dic_list())"
    },
    "r": {
     "delete_cmd_postfix": ") ",
     "delete_cmd_prefix": "rm(",
     "library": "var_list.r",
     "varRefreshCmd": "cat(var_dic_list()) "
    }
   },
   "types_to_exclude": [
    "module",
    "function",
    "builtin_function_or_method",
    "instance",
    "_Feature"
   ],
   "window_display": false
  }
 },
 "nbformat": 4,
 "nbformat_minor": 1
}
