{
 "cells": [
  {
   "cell_type": "markdown",
   "metadata": {
    "id": "VCGrY6SpZUYt"
   },
   "source": [
    "# @FutPythonTrader"
   ]
  },
  {
   "cell_type": "code",
   "execution_count": 1,
   "metadata": {
    "id": "vijRzIEaUGO1"
   },
   "outputs": [],
   "source": [
    "import pandas as pd\n",
    "import numpy as np\n",
    "import plotly.express as px\n",
    "import matplotlib.pyplot as plt\n",
    "# from google.colab import data_table\n",
    "# data_table.enable_dataframe_formatter()\n",
    "import warnings\n",
    "warnings.filterwarnings('ignore')\n",
    "from pycaret.classification import *\n",
    "import pycaret \n",
    "def dia():\n",
    "    from datetime import date, timedelta\n",
    "    dia = date.today() - timedelta(0)\n",
    "    return dia\n",
    "\n",
    "def drop_reset_index(df):\n",
    "    df = df.dropna()\n",
    "    df = df.reset_index(drop=True)\n",
    "    df.index += 1\n",
    "    return df\n",
    "\n",
    "def grafico(df, nome):\n",
    "    df = df.reset_index(drop=True)\n",
    "    df.index += 1\n",
    "    df['Profit_acu'] = df.Profit.cumsum()\n",
    "    profit = round(df.Profit_acu.tail(1).item(),2)\n",
    "    ROI = round((df.Profit_acu.tail(1)/len(df)*100).item(),2)\n",
    "    df.Profit_acu.plot(title=nome, xlabel='Entradas', ylabel='Stakes')\n",
    "    print(\"Profit:\",profit,\"stakes em\", len(df),\"jogos\")\n",
    "    print(\"ROI:\",ROI,\"%\")"
   ]
  },
  {
   "cell_type": "markdown",
   "metadata": {
    "id": "5a1f5aaEHVs0"
   },
   "source": [
    "# Pycaret"
   ]
  },
  {
   "cell_type": "code",
   "execution_count": null,
   "metadata": {
    "id": "FpcBYQhZHX9F"
   },
   "outputs": [],
   "source": [
    "!pip install pycaret"
   ]
  },
  {
   "cell_type": "code",
   "execution_count": null,
   "metadata": {
    "id": "S6ohedUBHaK9"
   },
   "outputs": [],
   "source": [
    "from pycaret.classification import *"
   ]
  },
  {
   "cell_type": "markdown",
   "metadata": {
    "id": "6Eskd5KlZbD7"
   },
   "source": [
    "# Base de Dados e Jogos do Dia"
   ]
  },
  {
   "cell_type": "code",
   "execution_count": null,
   "metadata": {
    "id": "HWfGyM2jO9xg"
   },
   "outputs": [],
   "source": [
    "base = pd.read_csv(\"https://github.com/futpythontrader/YouTube/blob/main/Base_de_Dados/futpythontraderpunter.csv?raw=true\")\n",
    "base[\"Date\"] = pd.to_datetime(base[\"Date\"])\n",
    "base['Date'] = base['Date'].dt.date\n",
    "base = base.sort_values('Date')\n",
    "base = base[['Date','League','Season','Home','Away','FT_Goals_H','FT_Goals_A','FT_Odd_H','FT_Odd_D','FT_Odd_A','FT_Odd_Over25','FT_Odd_Under25','FT_Odd_BTTS_Yes','FT_Odd_BTTS_No']]"
   ]
  },
  {
   "cell_type": "code",
   "execution_count": null,
   "metadata": {
    "id": "jLLJbOxYZbbE"
   },
   "outputs": [],
   "source": [
    "################################################################################\n",
    "# Probabilidades\n",
    "################################################################################\n",
    "base['p_H'] = 1 / base.FT_Odd_H\n",
    "base['p_D'] = 1 / base.FT_Odd_D\n",
    "base['p_A'] = 1 / base.FT_Odd_A\n",
    "base['p_Over'] = 1 / base.FT_Odd_Over25\n",
    "base['p_Under'] = 1 / base.FT_Odd_Under25\n",
    "################################################################################\n",
    "\n",
    "################################################################################\n",
    "# CV das Odds do Match Odds\n",
    "################################################################################\n",
    "base['CV_HDA'] = base[['p_H','p_D','p_A']].std(ddof=0, axis=1) / base[['p_H','p_D','p_A']].mean(axis=1)\n",
    "################################################################################\n",
    "\n",
    "################################################################################\n",
    "# Valor do Gol\n",
    "################################################################################\n",
    "base['VG_H'] = base.FT_Goals_H * base.p_A\n",
    "base['VG_A'] = base.FT_Goals_A * base.p_H\n",
    "base['Media_VG_H'] = base.groupby('Home')['VG_H'].rolling(window=5, min_periods=2).mean().reset_index(0,drop=True)\n",
    "base['Media_VG_A'] = base.groupby('Away')['VG_A'].rolling(window=5, min_periods=2).mean().reset_index(0,drop=True)\n",
    "base['Media_VG_H'] = base.groupby('Home')['Media_VG_H'].shift(1)\n",
    "base['Media_VG_A'] = base.groupby('Away')['Media_VG_A'].shift(1)\n",
    "base['DP_VG_H'] = base.groupby('Home')['VG_H'].rolling(window=5, min_periods=2).std(ddof=0).reset_index(0,drop=True)\n",
    "base['DP_VG_A'] = base.groupby('Away')['VG_A'].rolling(window=5, min_periods=2).std(ddof=0).reset_index(0,drop=True)\n",
    "base['DP_VG_H'] = base.groupby('Home')['DP_VG_H'].shift(1)\n",
    "base['DP_VG_A'] = base.groupby('Away')['DP_VG_A'].shift(1)\n",
    "base['CV_VG_H'] = base['DP_VG_H'] / base['Media_VG_H']\n",
    "base['CV_VG_A'] = base['DP_VG_A'] / base['Media_VG_A']\n",
    "################################################################################\n",
    "\n",
    "################################################################################\n",
    "# Custo do Gol\n",
    "################################################################################\n",
    "base['CG_H'] = base['p_H'] / base['FT_Goals_H']\n",
    "base['CG_A'] = base['p_A'] / base['FT_Goals_A']\n",
    "base['Media_CG_H'] = base.groupby('Home')['CG_H'].rolling(window=5, min_periods=2).mean().reset_index(0,drop=True)\n",
    "base['Media_CG_A'] = base.groupby('Away')['CG_A'].rolling(window=5, min_periods=2).mean().reset_index(0,drop=True)\n",
    "base['Media_CG_H'] = base.groupby('Home')['Media_CG_H'].shift(1)\n",
    "base['Media_CG_A'] = base.groupby('Away')['Media_CG_A'].shift(1)\n",
    "base['DP_CG_H'] = base.groupby('Home')['CG_H'].rolling(window=5, min_periods=2).std(ddof=0).reset_index(0,drop=True)\n",
    "base['DP_CG_A'] = base.groupby('Away')['CG_A'].rolling(window=5, min_periods=2).std(ddof=0).reset_index(0,drop=True)\n",
    "base['DP_CG_H'] = base.groupby('Home')['DP_CG_H'].shift(1)\n",
    "base['DP_CG_A'] = base.groupby('Away')['DP_CG_A'].shift(1)\n",
    "base['CV_CG_H'] = base['DP_CG_H'] / base['Media_CG_H']\n",
    "base['CV_CG_A'] = base['DP_CG_A'] / base['Media_CG_A']\n",
    "################################################################################\n",
    "\n",
    "base = base.drop(['VG_H', 'VG_A', 'CG_H', 'CG_A'], axis=1)\n",
    "\n",
    "base.replace(np.inf, 1, inplace=True)\n",
    "base.dropna(inplace=True)\n",
    "base.reset_index(inplace=True, drop=True)\n",
    "base.index = base.index.set_names(['Nº'])\n",
    "base = base.rename(index=lambda x: x + 1)"
   ]
  },
  {
   "cell_type": "code",
   "execution_count": null,
   "metadata": {
    "id": "0pszhFSlYR2Y"
   },
   "outputs": [],
   "source": [
    "ligas = base.sort_values(['League'])\n",
    "ligas = ligas['League'].unique()\n",
    "ligas"
   ]
  },
  {
   "cell_type": "code",
   "execution_count": null,
   "metadata": {
    "id": "NudCCDXbX4cr"
   },
   "outputs": [],
   "source": [
    "liga = 'ARGENTINA - LIGA PROFESIONAL'"
   ]
  },
  {
   "cell_type": "code",
   "execution_count": null,
   "metadata": {
    "id": "dS8Dc7uYYXug"
   },
   "outputs": [],
   "source": [
    "flt = base.League == liga\n",
    "df = base[flt]\n",
    "df = drop_reset_index(df)"
   ]
  },
  {
   "cell_type": "code",
   "execution_count": null,
   "metadata": {
    "id": "F4zpNkNbefJW"
   },
   "outputs": [],
   "source": [
    "df"
   ]
  },
  {
   "cell_type": "code",
   "execution_count": null,
   "metadata": {
    "id": "dX1-Od3ZcmhH"
   },
   "outputs": [],
   "source": [
    "df.columns.to_list()"
   ]
  },
  {
   "cell_type": "markdown",
   "metadata": {
    "id": "FuEfNVtjjkpE"
   },
   "source": [
    "# Criação do Modelo no Pycaret"
   ]
  },
  {
   "cell_type": "code",
   "execution_count": null,
   "metadata": {
    "id": "C2jeZY9XdIlp"
   },
   "outputs": [],
   "source": [
    "# Over 2.5\n",
    "df.loc[((df['FT_Goals_H'] + df['FT_Goals_A']) > 2), 'Over25'] = 1\n",
    "df.loc[((df['FT_Goals_H'] + df['FT_Goals_A']) < 3), 'Over25'] = 0"
   ]
  },
  {
   "cell_type": "code",
   "execution_count": null,
   "metadata": {
    "id": "lIrKCL8tcfSl"
   },
   "outputs": [],
   "source": [
    "features = ['FT_Odd_H','FT_Odd_D','FT_Odd_A','FT_Odd_Over25','FT_Odd_Under25','FT_Odd_BTTS_Yes','FT_Odd_BTTS_No','CV_HDA',\n",
    "            'Media_VG_H','Media_VG_A','DP_VG_H','DP_VG_A','CV_VG_H','CV_VG_A',\n",
    "            'Media_CG_H','Media_CG_A','DP_CG_H','DP_CG_A','CV_CG_H','CV_CG_A']\n",
    "\n",
    "label = 'Over25'"
   ]
  },
  {
   "cell_type": "code",
   "execution_count": null,
   "metadata": {
    "id": "qaonSCxJcfU9"
   },
   "outputs": [],
   "source": [
    "# Configurando o ambiente PyCaret\n",
    "exp_clf = setup(data = df[features], target = df[label])"
   ]
  },
  {
   "cell_type": "code",
   "execution_count": null,
   "metadata": {
    "id": "83ZpiT-EdduO"
   },
   "outputs": [],
   "source": [
    "# Comparando diferentes modelos de classificação\n",
    "best_model = compare_models()"
   ]
  },
  {
   "cell_type": "code",
   "execution_count": null,
   "metadata": {
    "id": "aAdJkG6gddwW"
   },
   "outputs": [],
   "source": [
    "# Treinando o melhor modelo com os dados de treino\n",
    "final_model = finalize_model(best_model)"
   ]
  },
  {
   "cell_type": "code",
   "execution_count": null,
   "metadata": {
    "id": "-M5ShTCnddyu"
   },
   "outputs": [],
   "source": [
    "# Fazendo previsões com os dados de teste\n",
    "predictions = predict_model(final_model)"
   ]
  },
  {
   "cell_type": "markdown",
   "metadata": {
    "id": "az-qV-cRjpMz"
   },
   "source": [
    "# Resultados"
   ]
  },
  {
   "cell_type": "code",
   "execution_count": null,
   "metadata": {
    "id": "OQcqXcWur4Kw"
   },
   "outputs": [],
   "source": [
    "flt = predictions.prediction_label == 1\n",
    "Over = predictions[flt]\n",
    "Over.loc[(Over['Over25'] == 1), 'Profit'] = Over['FT_Odd_Over25']-1\n",
    "Over.loc[(Over['Over25'] == 0), 'Profit'] = -1\n",
    "grafico(Over,'Over 2.5 Pycaret')"
   ]
  },
  {
   "cell_type": "markdown",
   "metadata": {
    "id": "vzueTbjdC82U"
   },
   "source": [
    "# Salvando o Modelo"
   ]
  },
  {
   "cell_type": "code",
   "execution_count": null,
   "metadata": {
    "id": "f9rnDVUmB327"
   },
   "outputs": [],
   "source": [
    "# Salvando o modelo treinado\n",
    "save_model(final_model, 'Pycaret '+liga)"
   ]
  },
  {
   "cell_type": "markdown",
   "metadata": {
    "id": "duPePZwNDQzV"
   },
   "source": [
    "# Importando os Jogos do Dia"
   ]
  },
  {
   "cell_type": "code",
   "execution_count": null,
   "metadata": {
    "id": "hy-siqCW6Xvq"
   },
   "outputs": [],
   "source": [
    "jogos_do_dia = pd.read_csv('https://github.com/futpythontrader/YouTube/blob/main/Jogos_do_Dia_FlashScore/'+str(dia())+'_Jogos_do_Dia_FlashScore.csv?raw=true')\n",
    "jogos_do_dia = jogos_do_dia[['League','Round','Date','Time','Home','Away','FT_Odd_H','FT_Odd_D','FT_Odd_A','FT_Odd_Over25','FT_Odd_Under25','FT_Odd_BTTS_Yes','FT_Odd_BTTS_No']]\n",
    "Jogos_do_Dia = drop_reset_index(jogos_do_dia)\n",
    "Jogos_do_Dia"
   ]
  },
  {
   "cell_type": "code",
   "execution_count": null,
   "metadata": {
    "id": "sf_GgjWg_8HF"
   },
   "outputs": [],
   "source": [
    "base = pd.read_csv(\"https://github.com/futpythontrader/YouTube/blob/main/Base_de_Dados/futpythontraderpunter.csv?raw=true\")\n",
    "base[\"Date\"] = pd.to_datetime(base[\"Date\"])\n",
    "base['Date'] = base['Date'].dt.date\n",
    "base = base.sort_values('Date')\n",
    "base = base[['Date','League','Season','Home','Away','FT_Goals_H','FT_Goals_A','FT_Odd_H','FT_Odd_D','FT_Odd_A','FT_Odd_Over25','FT_Odd_Under25','FT_Odd_BTTS_Yes','FT_Odd_BTTS_No']]"
   ]
  },
  {
   "cell_type": "code",
   "execution_count": null,
   "metadata": {
    "id": "Apw6A2kbbRxw"
   },
   "outputs": [],
   "source": [
    "################################################################################\n",
    "# Probabilidades\n",
    "################################################################################\n",
    "base['p_H'] = 1 / base.FT_Odd_H\n",
    "base['p_D'] = 1 / base.FT_Odd_D\n",
    "base['p_A'] = 1 / base.FT_Odd_A\n",
    "base['p_Over'] = 1 / base.FT_Odd_Over25\n",
    "base['p_Under'] = 1 / base.FT_Odd_Under25\n",
    "################################################################################\n",
    "\n",
    "################################################################################\n",
    "# CV das Odds do Match Odds\n",
    "################################################################################\n",
    "base['CV_HDA'] = base[['p_H','p_D','p_A']].std(ddof=0, axis=1) / base[['p_H','p_D','p_A']].mean(axis=1)\n",
    "################################################################################\n",
    "# Pontos\n",
    "base.loc[base['FT_Goals_H'] > base['FT_Goals_A'], 'Ptos_H'] = 3\n",
    "base.loc[base['FT_Goals_H'] == base['FT_Goals_A'], 'Ptos_H'] = 1\n",
    "base.loc[base['FT_Goals_H'] < base['FT_Goals_A'], 'Ptos_H'] = 0\n",
    "\n",
    "base.loc[base['FT_Goals_H'] < base['FT_Goals_A'], 'Ptos_A'] = 3\n",
    "base.loc[base['FT_Goals_H'] == base['FT_Goals_A'], 'Ptos_A'] = 1\n",
    "base.loc[base['FT_Goals_H'] > base['FT_Goals_A'], 'Ptos_A'] = 0\n",
    "\n",
    "base[\"Ptos_H\"] = base[\"Ptos_H\"].astype('int64')\n",
    "base[\"Ptos_A\"] = base[\"Ptos_A\"].astype('int64')\n",
    "\n",
    "base['Media_Ptos_H'] = base.groupby('Home')['Ptos_H'].rolling(window=10, min_periods=2).mean().reset_index(0,drop=True)\n",
    "base['Media_Ptos_A'] = base.groupby('Away')['Ptos_A'].rolling(window=10, min_periods=2).mean().reset_index(0,drop=True)\n",
    "\n",
    "base['DesvPad_Ptos_H'] = base.groupby('Home')['Ptos_H'].rolling(window=10, min_periods=2).std(ddof=0).reset_index(0,drop=True)\n",
    "base['DesvPad_Ptos_A'] = base.groupby('Away')['Ptos_A'].rolling(window=10, min_periods=2).std(ddof=0).reset_index(0,drop=True)\n",
    "\n",
    "base['CV_Ptos_H'] = base['DesvPad_Ptos_H'] / base['Media_Ptos_H']\n",
    "base['CV_Ptos_A'] = base['DesvPad_Ptos_A'] / base['Media_Ptos_A']\n",
    "\n",
    "################################################################################\n",
    "# Valor do Gol\n",
    "################################################################################\n",
    "base['VG_H'] = base.FT_Goals_H * base.p_A\n",
    "base['VG_A'] = base.FT_Goals_A * base.p_H\n",
    "base['Media_VG_H'] = base.groupby('Home')['VG_H'].rolling(window=5, min_periods=2).mean().reset_index(0,drop=True)\n",
    "base['Media_VG_A'] = base.groupby('Away')['VG_A'].rolling(window=5, min_periods=2).mean().reset_index(0,drop=True)\n",
    "base['DP_VG_H'] = base.groupby('Home')['VG_H'].rolling(window=5, min_periods=2).std(ddof=0).reset_index(0,drop=True)\n",
    "base['DP_VG_A'] = base.groupby('Away')['VG_A'].rolling(window=5, min_periods=2).std(ddof=0).reset_index(0,drop=True)\n",
    "base['CV_VG_H'] = base['DP_VG_H'] / base['Media_VG_H']\n",
    "base['CV_VG_A'] = base['DP_VG_A'] / base['Media_VG_A']\n",
    "################################################################################\n",
    "\n",
    "################################################################################\n",
    "# Custo do Gol\n",
    "################################################################################\n",
    "base['CG_H'] = base['p_H'] / base['FT_Goals_H']\n",
    "base['CG_A'] = base['p_A'] / base['FT_Goals_A']\n",
    "base['CG_H'] = base['CG_H'].replace([np.inf, -np.inf, 0], 1)\n",
    "base['CG_A'] = base['CG_A'].replace([np.inf, -np.inf, 0], 1)\n",
    "base['Media_CG_H'] = base.groupby('Home')['CG_H'].rolling(window=5, min_periods=2).mean().reset_index(0,drop=True)\n",
    "base['Media_CG_A'] = base.groupby('Away')['CG_A'].rolling(window=5, min_periods=2).mean().reset_index(0,drop=True)\n",
    "base['DP_CG_H'] = base.groupby('Home')['CG_H'].rolling(window=11, min_periods=2).std(ddof=0).reset_index(0,drop=True)\n",
    "base['DP_CG_A'] = base.groupby('Away')['CG_A'].rolling(window=11, min_periods=2).std(ddof=0).reset_index(0,drop=True)\n",
    "base['CV_CG_H'] = base['DP_CG_H'] / base['Media_CG_H']\n",
    "base['CV_CG_A'] = base['DP_CG_A'] / base['Media_CG_A']\n",
    "################################################################################\n",
    "\n",
    "base = base.drop(['VG_H', 'VG_A', 'CG_H', 'CG_A'], axis=1)\n",
    "\n",
    "base.replace(np.inf, 1, inplace=True)\n",
    "base.dropna(inplace=True)\n",
    "base.reset_index(inplace=True, drop=True)\n",
    "base.index = base.index.set_names(['Nº'])\n",
    "base = base.rename(index=lambda x: x + 1)\n",
    "\n",
    "base_H = base[['Home','Media_VG_H','DP_VG_H','CV_VG_H','Media_CG_H','DP_CG_H','CV_CG_H','Media_Ptos_H','DesvPad_Ptos_H']]\n",
    "\n",
    "base_A = base[['Away','Media_VG_A','DP_VG_A','CV_VG_A','Media_CG_A','DP_CG_A','CV_CG_A', 'Media_Ptos_A', 'DesvPad_Ptos_A']]"
   ]
  },
  {
   "cell_type": "code",
   "execution_count": null,
   "metadata": {
    "id": "nTDGeGdsbDtn"
   },
   "outputs": [],
   "source": [
    "lista=[]\n",
    "\n",
    "for a,b,c,d,e,f,g,h,i,j,k,l in zip(Jogos_do_Dia.League,\n",
    "                                   Jogos_do_Dia.Date,\n",
    "                                   Jogos_do_Dia.Time,\n",
    "                                   Jogos_do_Dia.Home,\n",
    "                                   Jogos_do_Dia.Away,\n",
    "                                   Jogos_do_Dia.FT_Odd_H,\n",
    "                                   Jogos_do_Dia.FT_Odd_D,\n",
    "                                   Jogos_do_Dia.FT_Odd_A,\n",
    "                                   Jogos_do_Dia.FT_Odd_Over25,\n",
    "                                   Jogos_do_Dia.FT_Odd_Under25,\n",
    "                                   Jogos_do_Dia.FT_Odd_BTTS_Yes,\n",
    "                                   Jogos_do_Dia.FT_Odd_BTTS_No):\n",
    "        League = a\n",
    "        Date = b\n",
    "        Time = c\n",
    "        home = d\n",
    "        away = e\n",
    "        FT_Odd_H = f\n",
    "        FT_Odd_D = g\n",
    "        FT_Odd_A = h\n",
    "        FT_Odd_Over25 = i\n",
    "        FT_Odd_Under25 = j\n",
    "        FT_Odd_BTTS_Yes = k\n",
    "        FT_Odd_BTTS_No = l\n",
    "\n",
    "        df1 = base_H[base_H.Home == home].tail(1)\n",
    "\n",
    "        df2 = base_A[base_A.Away == away].tail(1)\n",
    "\n",
    "        jogo = {}\n",
    "\n",
    "        jogo[\"League\"] = League\n",
    "        jogo[\"Date\"] = Date\n",
    "        jogo[\"Time\"] = Time\n",
    "        jogo[\"Home\"] = home\n",
    "        jogo[\"Away\"] = away\n",
    "        jogo[\"FT_Odd_H\"] = FT_Odd_H\n",
    "        jogo[\"FT_Odd_D\"] = FT_Odd_D\n",
    "        jogo[\"FT_Odd_A\"] = FT_Odd_A\n",
    "        jogo[\"FT_Odd_Over25\"] = FT_Odd_Over25\n",
    "        jogo[\"FT_Odd_Under25\"] = FT_Odd_Under25\n",
    "        jogo[\"FT_Odd_BTTS_Yes\"] = FT_Odd_BTTS_Yes\n",
    "        jogo[\"FT_Odd_BTTS_No\"] = FT_Odd_BTTS_No\n",
    "\n",
    "        try:\n",
    "            jogo['Media_VG_H'] = df1[df1.Home == home]['Media_VG_H'].iloc[0]\n",
    "            jogo['DP_VG_H'] = df1[df1.Home == home]['DP_VG_H'].iloc[0]\n",
    "            jogo['CV_VG_H'] = df1[df1.Home == home]['CV_VG_H'].iloc[0]\n",
    "\n",
    "            jogo['Media_CG_H'] = df1[df1.Home == home]['Media_CG_H'].iloc[0]\n",
    "            jogo['DP_CG_H'] = df1[df1.Home == home]['DP_CG_H'].iloc[0]\n",
    "            jogo['CV_CG_H'] = df1[df1.Home == home]['CV_CG_H'].iloc[0]\n",
    "\n",
    "            \n",
    "            jogo['Media_Ptos_H'] = df1[df1.Home == home]['Media_Ptos_H'].iloc[0]\n",
    "            jogo['DesvPad_Ptos_H'] = df1[df1.Home == home]['DesvPad_Ptos_H'].iloc[0]\n",
    "            \n",
    "            jogo['Media_VG_A'] = df2[df2.Away == away]['Media_VG_A'].iloc[0]\n",
    "            jogo['DP_VG_A'] = df2[df2.Away == away]['DP_VG_A'].iloc[0]\n",
    "            jogo['CV_VG_A'] = df2[df2.Away == away]['CV_VG_A'].iloc[0]\n",
    "\n",
    "            jogo['Media_CG_A'] = df2[df2.Away == away]['Media_CG_A'].iloc[0]\n",
    "            jogo['DP_CG_A'] = df2[df2.Away == away]['DP_CG_A'].iloc[0]\n",
    "            jogo['CV_CG_A'] = df2[df2.Away == away]['CV_CG_A'].iloc[0]\n",
    "            \n",
    "            jogo['Media_Ptos_A'] = df2[df2.Away == away]['Media_Ptos_A'].iloc[0]\n",
    "            jogo['DesvPad_Ptos_A'] = df2[df2.Away == away]['DesvPad_Ptos_A'].iloc[0]\n",
    "            \n",
    "            \n",
    "            \n",
    "        except:\n",
    "            pass\n",
    "\n",
    "        lista.append(jogo)\n",
    "\n",
    "\n",
    "df = pd.DataFrame(lista)\n",
    "df.reset_index(inplace=True, drop=True)\n",
    "df.index = df.index.set_names(['Nº'])\n",
    "df = df.rename(index=lambda x: x + 1)\n",
    "################################################################################\n",
    "# Probabilidades\n",
    "################################################################################\n",
    "df['p_H'] = 1 / df.FT_Odd_H\n",
    "df['p_D'] = 1 / df.FT_Odd_D\n",
    "df['p_A'] = 1 / df.FT_Odd_A\n",
    "df['p_Over'] = 1 / df.FT_Odd_Over25\n",
    "df['p_Under'] = 1 / df.FT_Odd_Under25\n",
    "\n",
    "################################################################################\n",
    "# CV das Odds do Match Odds\n",
    "################################################################################\n",
    "df['CV_HDA'] = df[['p_H','p_D','p_A']].std(ddof=0, axis=1) / df[['p_H','p_D','p_A']].mean(axis=1)\n",
    "\n",
    "df['coeficiente_pontos'] = df['Media_Ptos_H'] - df['Media_Ptos_A']\n",
    "df['cv_pontos'] = df['DesvPad_Ptos_H'] + df['DesvPad_Ptos_A']\n"
   ]
  },
  {
   "cell_type": "markdown",
   "metadata": {
    "id": "rGdf6276ViOS"
   },
   "source": [
    "# Utilizando o Modelo para Novos Dados"
   ]
  },
  {
   "cell_type": "code",
   "execution_count": null,
   "metadata": {
    "id": "NzDObn_xQr0f"
   },
   "outputs": [],
   "source": [
    "flt = df.League == 'ARGENTINA - LIGA PROFESIONAL'\n",
    "df = df[flt]\n",
    "df = drop_reset_index(df)\n",
    "df"
   ]
  },
  {
   "cell_type": "code",
   "execution_count": null,
   "metadata": {
    "id": "AzBM77cmOqvX"
   },
   "outputs": [],
   "source": [
    "# Carregando o modelo salvo\n",
    "saved_final_model = load_model('LAYAWAY_ARKAD_ARGENTINA - LIGA PROFESIONAL')\n",
    "\n",
    "# Fazendo previsões com os novos dados\n",
    "new_predictions = predict_model(saved_final_model, data=df)\n",
    "print()\n",
    "display(new_predictions)"
   ]
  },
  {
   "cell_type": "code",
   "execution_count": null,
   "metadata": {},
   "outputs": [],
   "source": []
  }
 ],
 "metadata": {
  "colab": {
   "collapsed_sections": [
    "VCGrY6SpZUYt",
    "5a1f5aaEHVs0"
   ],
   "private_outputs": true,
   "provenance": []
  },
  "kernelspec": {
   "display_name": "pycaret",
   "language": "python",
   "name": "pycaret"
  },
  "language_info": {
   "codemirror_mode": {
    "name": "ipython",
    "version": 3
   },
   "file_extension": ".py",
   "mimetype": "text/x-python",
   "name": "python",
   "nbconvert_exporter": "python",
   "pygments_lexer": "ipython3",
   "version": "3.8.15"
  }
 },
 "nbformat": 4,
 "nbformat_minor": 1
}
