{
 "cells": [
  {
   "cell_type": "code",
   "execution_count": 1,
   "id": "345ba2b0",
   "metadata": {},
   "outputs": [],
   "source": [
    "import pandas as pd\n",
    "from pycaret.classification import *\n",
    "import numpy as np\n",
    "import pandas as pd\n",
    "import numpy as np\n",
    "import plotly.express as px\n",
    "import matplotlib.pyplot as plt\n",
    "import warnings\n",
    "warnings.filterwarnings('ignore')\n",
    "\n",
    "def dia():\n",
    "    from datetime import date, timedelta\n",
    "    dia = date.today() + timedelta(0)\n",
    "    return dia\n",
    "\n",
    "def drop_reset_index(df):\n",
    "    df = df.dropna()\n",
    "    df = df.reset_index(drop=True)\n",
    "    df.index += 1\n",
    "    return df\n",
    "    \n",
    "def grafico(df, nome):\n",
    "    df = df.reset_index(drop=True)\n",
    "    df.index += 1\n",
    "    df['Profit_acu'] = df.Profit.cumsum()\n",
    "    profit = round(df.Profit_acu.tail(1).item(),2)\n",
    "    ROI = round((df.Profit_acu.tail(1)/len(df)*100).item(),2)\n",
    "    df.Profit_acu.plot(title=nome, xlabel='Entradas', ylabel='Stakes')\n",
    "    print(\"Profit:\",profit,\"stakes em\", len(df),\"jogos\")\n",
    "    print(\"ROI:\",ROI,\"%\")"
   ]
  },
  {
   "cell_type": "code",
   "execution_count": 2,
   "id": "910e40cb",
   "metadata": {},
   "outputs": [],
   "source": [
    "\n",
    "df = pd.read_excel('BASE_ESTATISTICA_ARKAD_01_06.xlsx')\n",
    "\n",
    "df=  df.loc[(df['League'] == 'ARGENTINA - LIGA PROFESIONAL')]\n",
    "\n",
    "\n",
    "#df1 = df.loc[(df['Season'] == '2020', '2021')]\n",
    "df1 = df[df['Season'].isin(['2019/2020', '2021']) == True]\n",
    "df1 = df1[['FT_Odd_A', 'p_H', 'p_D', 'p_A', 'CV_VG_H','CV_VG_A', 'coeficiente_pontos', 'cv_pontos','CV_HDA', 'LayAway']]\n",
    "df2 = df[df['Season'].isin(['2022']) == True]\n",
    "df2 = df2[['FT_Odd_A', 'p_H', 'p_D', 'p_A', 'CV_VG_H', 'CV_VG_A', 'coeficiente_pontos', 'cv_pontos', 'CV_HDA','LayAway']]"
   ]
  },
  {
   "cell_type": "code",
   "execution_count": 3,
   "id": "54ee98fc",
   "metadata": {},
   "outputs": [],
   "source": [
    "df = pd.read_excel('BASE_ESTATISTICA_ARKAD_01_06.xlsx')\n",
    "\n",
    "\n",
    "liga = 'ARGENTINA - LIGA PROFESIONAL'\n",
    "flt = df.League == liga\n",
    "df = df[flt]\n",
    "\n",
    "df = df[df['Season'].isin(['2019/2020', '2021' ]) == True]\n",
    "\n",
    "df2 = df[df['Season'].isin(['2022']) == True]\n",
    "df2 = df2[['FT_Odd_A', 'p_H', 'p_D', 'p_A', 'CV_VG_H', 'CV_VG_A', 'coeficiente_pontos', 'cv_pontos', 'CV_HDA','LayAway']]\n"
   ]
  },
  {
   "cell_type": "code",
   "execution_count": 4,
   "id": "4caed7a8",
   "metadata": {
    "scrolled": false
   },
   "outputs": [],
   "source": [
    "features = ['FT_Odd_A','p_H', 'p_D', 'p_A', 'CV_VG_H', 'CV_VG_A', 'coeficiente_pontos', 'cv_pontos', 'CV_HDA']\n",
    "\n",
    "label = 'LayAway'\n",
    "#setup(data = df, target = 'LayAway', numeric_features = features, ignore_features = [x for x in df.columns.to_list() if x not in features and x != 'LayAway'], verbose = False)\n",
    "#compare_models()"
   ]
  },
  {
   "cell_type": "code",
   "execution_count": 5,
   "id": "156a265d",
   "metadata": {
    "scrolled": true
   },
   "outputs": [
    {
     "data": {
      "text/html": [
       "<style type=\"text/css\">\n",
       "#T_8c1ca_row9_col1 {\n",
       "  background-color: lightgreen;\n",
       "}\n",
       "</style>\n",
       "<table id=\"T_8c1ca\">\n",
       "  <thead>\n",
       "    <tr>\n",
       "      <th class=\"blank level0\" >&nbsp;</th>\n",
       "      <th id=\"T_8c1ca_level0_col0\" class=\"col_heading level0 col0\" >Description</th>\n",
       "      <th id=\"T_8c1ca_level0_col1\" class=\"col_heading level0 col1\" >Value</th>\n",
       "    </tr>\n",
       "  </thead>\n",
       "  <tbody>\n",
       "    <tr>\n",
       "      <th id=\"T_8c1ca_level0_row0\" class=\"row_heading level0 row0\" >0</th>\n",
       "      <td id=\"T_8c1ca_row0_col0\" class=\"data row0 col0\" >Session id</td>\n",
       "      <td id=\"T_8c1ca_row0_col1\" class=\"data row0 col1\" >7087</td>\n",
       "    </tr>\n",
       "    <tr>\n",
       "      <th id=\"T_8c1ca_level0_row1\" class=\"row_heading level0 row1\" >1</th>\n",
       "      <td id=\"T_8c1ca_row1_col0\" class=\"data row1 col0\" >Target</td>\n",
       "      <td id=\"T_8c1ca_row1_col1\" class=\"data row1 col1\" >LayAway</td>\n",
       "    </tr>\n",
       "    <tr>\n",
       "      <th id=\"T_8c1ca_level0_row2\" class=\"row_heading level0 row2\" >2</th>\n",
       "      <td id=\"T_8c1ca_row2_col0\" class=\"data row2 col0\" >Target type</td>\n",
       "      <td id=\"T_8c1ca_row2_col1\" class=\"data row2 col1\" >Binary</td>\n",
       "    </tr>\n",
       "    <tr>\n",
       "      <th id=\"T_8c1ca_level0_row3\" class=\"row_heading level0 row3\" >3</th>\n",
       "      <td id=\"T_8c1ca_row3_col0\" class=\"data row3 col0\" >Original data shape</td>\n",
       "      <td id=\"T_8c1ca_row3_col1\" class=\"data row3 col1\" >(531, 10)</td>\n",
       "    </tr>\n",
       "    <tr>\n",
       "      <th id=\"T_8c1ca_level0_row4\" class=\"row_heading level0 row4\" >4</th>\n",
       "      <td id=\"T_8c1ca_row4_col0\" class=\"data row4 col0\" >Transformed data shape</td>\n",
       "      <td id=\"T_8c1ca_row4_col1\" class=\"data row4 col1\" >(531, 10)</td>\n",
       "    </tr>\n",
       "    <tr>\n",
       "      <th id=\"T_8c1ca_level0_row5\" class=\"row_heading level0 row5\" >5</th>\n",
       "      <td id=\"T_8c1ca_row5_col0\" class=\"data row5 col0\" >Transformed train set shape</td>\n",
       "      <td id=\"T_8c1ca_row5_col1\" class=\"data row5 col1\" >(371, 10)</td>\n",
       "    </tr>\n",
       "    <tr>\n",
       "      <th id=\"T_8c1ca_level0_row6\" class=\"row_heading level0 row6\" >6</th>\n",
       "      <td id=\"T_8c1ca_row6_col0\" class=\"data row6 col0\" >Transformed test set shape</td>\n",
       "      <td id=\"T_8c1ca_row6_col1\" class=\"data row6 col1\" >(160, 10)</td>\n",
       "    </tr>\n",
       "    <tr>\n",
       "      <th id=\"T_8c1ca_level0_row7\" class=\"row_heading level0 row7\" >7</th>\n",
       "      <td id=\"T_8c1ca_row7_col0\" class=\"data row7 col0\" >Numeric features</td>\n",
       "      <td id=\"T_8c1ca_row7_col1\" class=\"data row7 col1\" >9</td>\n",
       "    </tr>\n",
       "    <tr>\n",
       "      <th id=\"T_8c1ca_level0_row8\" class=\"row_heading level0 row8\" >8</th>\n",
       "      <td id=\"T_8c1ca_row8_col0\" class=\"data row8 col0\" >Rows with missing values</td>\n",
       "      <td id=\"T_8c1ca_row8_col1\" class=\"data row8 col1\" >13.4%</td>\n",
       "    </tr>\n",
       "    <tr>\n",
       "      <th id=\"T_8c1ca_level0_row9\" class=\"row_heading level0 row9\" >9</th>\n",
       "      <td id=\"T_8c1ca_row9_col0\" class=\"data row9 col0\" >Preprocess</td>\n",
       "      <td id=\"T_8c1ca_row9_col1\" class=\"data row9 col1\" >True</td>\n",
       "    </tr>\n",
       "    <tr>\n",
       "      <th id=\"T_8c1ca_level0_row10\" class=\"row_heading level0 row10\" >10</th>\n",
       "      <td id=\"T_8c1ca_row10_col0\" class=\"data row10 col0\" >Imputation type</td>\n",
       "      <td id=\"T_8c1ca_row10_col1\" class=\"data row10 col1\" >simple</td>\n",
       "    </tr>\n",
       "    <tr>\n",
       "      <th id=\"T_8c1ca_level0_row11\" class=\"row_heading level0 row11\" >11</th>\n",
       "      <td id=\"T_8c1ca_row11_col0\" class=\"data row11 col0\" >Numeric imputation</td>\n",
       "      <td id=\"T_8c1ca_row11_col1\" class=\"data row11 col1\" >mean</td>\n",
       "    </tr>\n",
       "    <tr>\n",
       "      <th id=\"T_8c1ca_level0_row12\" class=\"row_heading level0 row12\" >12</th>\n",
       "      <td id=\"T_8c1ca_row12_col0\" class=\"data row12 col0\" >Categorical imputation</td>\n",
       "      <td id=\"T_8c1ca_row12_col1\" class=\"data row12 col1\" >constant</td>\n",
       "    </tr>\n",
       "    <tr>\n",
       "      <th id=\"T_8c1ca_level0_row13\" class=\"row_heading level0 row13\" >13</th>\n",
       "      <td id=\"T_8c1ca_row13_col0\" class=\"data row13 col0\" >Low variance threshold</td>\n",
       "      <td id=\"T_8c1ca_row13_col1\" class=\"data row13 col1\" >0</td>\n",
       "    </tr>\n",
       "    <tr>\n",
       "      <th id=\"T_8c1ca_level0_row14\" class=\"row_heading level0 row14\" >14</th>\n",
       "      <td id=\"T_8c1ca_row14_col0\" class=\"data row14 col0\" >Fold Generator</td>\n",
       "      <td id=\"T_8c1ca_row14_col1\" class=\"data row14 col1\" >StratifiedKFold</td>\n",
       "    </tr>\n",
       "    <tr>\n",
       "      <th id=\"T_8c1ca_level0_row15\" class=\"row_heading level0 row15\" >15</th>\n",
       "      <td id=\"T_8c1ca_row15_col0\" class=\"data row15 col0\" >Fold Number</td>\n",
       "      <td id=\"T_8c1ca_row15_col1\" class=\"data row15 col1\" >10</td>\n",
       "    </tr>\n",
       "    <tr>\n",
       "      <th id=\"T_8c1ca_level0_row16\" class=\"row_heading level0 row16\" >16</th>\n",
       "      <td id=\"T_8c1ca_row16_col0\" class=\"data row16 col0\" >CPU Jobs</td>\n",
       "      <td id=\"T_8c1ca_row16_col1\" class=\"data row16 col1\" >-1</td>\n",
       "    </tr>\n",
       "    <tr>\n",
       "      <th id=\"T_8c1ca_level0_row17\" class=\"row_heading level0 row17\" >17</th>\n",
       "      <td id=\"T_8c1ca_row17_col0\" class=\"data row17 col0\" >Use GPU</td>\n",
       "      <td id=\"T_8c1ca_row17_col1\" class=\"data row17 col1\" >False</td>\n",
       "    </tr>\n",
       "    <tr>\n",
       "      <th id=\"T_8c1ca_level0_row18\" class=\"row_heading level0 row18\" >18</th>\n",
       "      <td id=\"T_8c1ca_row18_col0\" class=\"data row18 col0\" >Log Experiment</td>\n",
       "      <td id=\"T_8c1ca_row18_col1\" class=\"data row18 col1\" >False</td>\n",
       "    </tr>\n",
       "    <tr>\n",
       "      <th id=\"T_8c1ca_level0_row19\" class=\"row_heading level0 row19\" >19</th>\n",
       "      <td id=\"T_8c1ca_row19_col0\" class=\"data row19 col0\" >Experiment Name</td>\n",
       "      <td id=\"T_8c1ca_row19_col1\" class=\"data row19 col1\" >clf-default-name</td>\n",
       "    </tr>\n",
       "    <tr>\n",
       "      <th id=\"T_8c1ca_level0_row20\" class=\"row_heading level0 row20\" >20</th>\n",
       "      <td id=\"T_8c1ca_row20_col0\" class=\"data row20 col0\" >USI</td>\n",
       "      <td id=\"T_8c1ca_row20_col1\" class=\"data row20 col1\" >6339</td>\n",
       "    </tr>\n",
       "  </tbody>\n",
       "</table>\n"
      ],
      "text/plain": [
       "<pandas.io.formats.style.Styler at 0x10f4079bdf0>"
      ]
     },
     "metadata": {},
     "output_type": "display_data"
    }
   ],
   "source": [
    "exp_clf = setup(data = df[features], target = df[label])"
   ]
  },
  {
   "cell_type": "code",
   "execution_count": 6,
   "id": "750d6d9f",
   "metadata": {},
   "outputs": [
    {
     "data": {
      "text/html": [],
      "text/plain": [
       "<IPython.core.display.HTML object>"
      ]
     },
     "metadata": {},
     "output_type": "display_data"
    },
    {
     "data": {
      "text/html": [
       "<style type=\"text/css\">\n",
       "#T_6b55e th {\n",
       "  text-align: left;\n",
       "}\n",
       "#T_6b55e_row0_col0, #T_6b55e_row0_col2, #T_6b55e_row0_col3, #T_6b55e_row1_col0, #T_6b55e_row1_col1, #T_6b55e_row1_col2, #T_6b55e_row1_col3, #T_6b55e_row1_col4, #T_6b55e_row1_col5, #T_6b55e_row1_col6, #T_6b55e_row1_col7, #T_6b55e_row2_col0, #T_6b55e_row2_col1, #T_6b55e_row2_col2, #T_6b55e_row2_col3, #T_6b55e_row2_col4, #T_6b55e_row2_col5, #T_6b55e_row2_col6, #T_6b55e_row2_col7, #T_6b55e_row3_col0, #T_6b55e_row3_col1, #T_6b55e_row3_col2, #T_6b55e_row3_col3, #T_6b55e_row3_col4, #T_6b55e_row3_col5, #T_6b55e_row3_col6, #T_6b55e_row3_col7, #T_6b55e_row4_col0, #T_6b55e_row4_col1, #T_6b55e_row4_col2, #T_6b55e_row4_col4, #T_6b55e_row4_col5, #T_6b55e_row4_col6, #T_6b55e_row4_col7, #T_6b55e_row5_col0, #T_6b55e_row5_col1, #T_6b55e_row5_col2, #T_6b55e_row5_col3, #T_6b55e_row5_col4, #T_6b55e_row5_col5, #T_6b55e_row5_col6, #T_6b55e_row5_col7, #T_6b55e_row6_col0, #T_6b55e_row6_col1, #T_6b55e_row6_col2, #T_6b55e_row6_col3, #T_6b55e_row6_col4, #T_6b55e_row6_col5, #T_6b55e_row6_col6, #T_6b55e_row6_col7, #T_6b55e_row7_col0, #T_6b55e_row7_col1, #T_6b55e_row7_col2, #T_6b55e_row7_col3, #T_6b55e_row7_col4, #T_6b55e_row7_col5, #T_6b55e_row7_col6, #T_6b55e_row7_col7, #T_6b55e_row8_col0, #T_6b55e_row8_col1, #T_6b55e_row8_col2, #T_6b55e_row8_col3, #T_6b55e_row8_col4, #T_6b55e_row8_col5, #T_6b55e_row8_col6, #T_6b55e_row8_col7, #T_6b55e_row9_col0, #T_6b55e_row9_col1, #T_6b55e_row9_col2, #T_6b55e_row9_col3, #T_6b55e_row9_col4, #T_6b55e_row9_col5, #T_6b55e_row9_col6, #T_6b55e_row9_col7, #T_6b55e_row10_col0, #T_6b55e_row10_col1, #T_6b55e_row10_col3, #T_6b55e_row10_col4, #T_6b55e_row10_col5, #T_6b55e_row10_col6, #T_6b55e_row10_col7, #T_6b55e_row11_col0, #T_6b55e_row11_col1, #T_6b55e_row11_col2, #T_6b55e_row11_col3, #T_6b55e_row11_col4, #T_6b55e_row11_col5, #T_6b55e_row11_col6, #T_6b55e_row11_col7, #T_6b55e_row12_col0, #T_6b55e_row12_col1, #T_6b55e_row12_col2, #T_6b55e_row12_col3, #T_6b55e_row12_col4, #T_6b55e_row12_col5, #T_6b55e_row12_col6, #T_6b55e_row12_col7, #T_6b55e_row13_col0, #T_6b55e_row13_col1, #T_6b55e_row13_col2, #T_6b55e_row13_col3, #T_6b55e_row13_col4, #T_6b55e_row13_col5, #T_6b55e_row13_col6, #T_6b55e_row13_col7 {\n",
       "  text-align: left;\n",
       "}\n",
       "#T_6b55e_row0_col1, #T_6b55e_row0_col4, #T_6b55e_row0_col5, #T_6b55e_row0_col6, #T_6b55e_row0_col7, #T_6b55e_row4_col3, #T_6b55e_row10_col2 {\n",
       "  text-align: left;\n",
       "  background-color: yellow;\n",
       "}\n",
       "#T_6b55e_row0_col8, #T_6b55e_row1_col8, #T_6b55e_row2_col8, #T_6b55e_row3_col8, #T_6b55e_row4_col8, #T_6b55e_row5_col8, #T_6b55e_row6_col8, #T_6b55e_row7_col8, #T_6b55e_row8_col8, #T_6b55e_row9_col8, #T_6b55e_row10_col8, #T_6b55e_row11_col8, #T_6b55e_row13_col8 {\n",
       "  text-align: left;\n",
       "  background-color: lightgrey;\n",
       "}\n",
       "#T_6b55e_row12_col8 {\n",
       "  text-align: left;\n",
       "  background-color: yellow;\n",
       "  background-color: lightgrey;\n",
       "}\n",
       "</style>\n",
       "<table id=\"T_6b55e\">\n",
       "  <thead>\n",
       "    <tr>\n",
       "      <th class=\"blank level0\" >&nbsp;</th>\n",
       "      <th id=\"T_6b55e_level0_col0\" class=\"col_heading level0 col0\" >Model</th>\n",
       "      <th id=\"T_6b55e_level0_col1\" class=\"col_heading level0 col1\" >Accuracy</th>\n",
       "      <th id=\"T_6b55e_level0_col2\" class=\"col_heading level0 col2\" >AUC</th>\n",
       "      <th id=\"T_6b55e_level0_col3\" class=\"col_heading level0 col3\" >Recall</th>\n",
       "      <th id=\"T_6b55e_level0_col4\" class=\"col_heading level0 col4\" >Prec.</th>\n",
       "      <th id=\"T_6b55e_level0_col5\" class=\"col_heading level0 col5\" >F1</th>\n",
       "      <th id=\"T_6b55e_level0_col6\" class=\"col_heading level0 col6\" >Kappa</th>\n",
       "      <th id=\"T_6b55e_level0_col7\" class=\"col_heading level0 col7\" >MCC</th>\n",
       "      <th id=\"T_6b55e_level0_col8\" class=\"col_heading level0 col8\" >TT (Sec)</th>\n",
       "    </tr>\n",
       "  </thead>\n",
       "  <tbody>\n",
       "    <tr>\n",
       "      <th id=\"T_6b55e_level0_row0\" class=\"row_heading level0 row0\" >qda</th>\n",
       "      <td id=\"T_6b55e_row0_col0\" class=\"data row0 col0\" >Quadratic Discriminant Analysis</td>\n",
       "      <td id=\"T_6b55e_row0_col1\" class=\"data row0 col1\" >0.7464</td>\n",
       "      <td id=\"T_6b55e_row0_col2\" class=\"data row0 col2\" >0.6576</td>\n",
       "      <td id=\"T_6b55e_row0_col3\" class=\"data row0 col3\" >0.9023</td>\n",
       "      <td id=\"T_6b55e_row0_col4\" class=\"data row0 col4\" >0.7819</td>\n",
       "      <td id=\"T_6b55e_row0_col5\" class=\"data row0 col5\" >0.8371</td>\n",
       "      <td id=\"T_6b55e_row0_col6\" class=\"data row0 col6\" >0.2726</td>\n",
       "      <td id=\"T_6b55e_row0_col7\" class=\"data row0 col7\" >0.2877</td>\n",
       "      <td id=\"T_6b55e_row0_col8\" class=\"data row0 col8\" >0.0270</td>\n",
       "    </tr>\n",
       "    <tr>\n",
       "      <th id=\"T_6b55e_level0_row1\" class=\"row_heading level0 row1\" >lda</th>\n",
       "      <td id=\"T_6b55e_row1_col0\" class=\"data row1 col0\" >Linear Discriminant Analysis</td>\n",
       "      <td id=\"T_6b55e_row1_col1\" class=\"data row1 col1\" >0.7276</td>\n",
       "      <td id=\"T_6b55e_row1_col2\" class=\"data row1 col2\" >0.6185</td>\n",
       "      <td id=\"T_6b55e_row1_col3\" class=\"data row1 col3\" >0.9432</td>\n",
       "      <td id=\"T_6b55e_row1_col4\" class=\"data row1 col4\" >0.7457</td>\n",
       "      <td id=\"T_6b55e_row1_col5\" class=\"data row1 col5\" >0.8321</td>\n",
       "      <td id=\"T_6b55e_row1_col6\" class=\"data row1 col6\" >0.1414</td>\n",
       "      <td id=\"T_6b55e_row1_col7\" class=\"data row1 col7\" >0.1845</td>\n",
       "      <td id=\"T_6b55e_row1_col8\" class=\"data row1 col8\" >0.0310</td>\n",
       "    </tr>\n",
       "    <tr>\n",
       "      <th id=\"T_6b55e_level0_row2\" class=\"row_heading level0 row2\" >ridge</th>\n",
       "      <td id=\"T_6b55e_row2_col0\" class=\"data row2 col0\" >Ridge Classifier</td>\n",
       "      <td id=\"T_6b55e_row2_col1\" class=\"data row2 col1\" >0.7250</td>\n",
       "      <td id=\"T_6b55e_row2_col2\" class=\"data row2 col2\" >0.0000</td>\n",
       "      <td id=\"T_6b55e_row2_col3\" class=\"data row2 col3\" >0.9658</td>\n",
       "      <td id=\"T_6b55e_row2_col4\" class=\"data row2 col4\" >0.7350</td>\n",
       "      <td id=\"T_6b55e_row2_col5\" class=\"data row2 col5\" >0.8345</td>\n",
       "      <td id=\"T_6b55e_row2_col6\" class=\"data row2 col6\" >0.0938</td>\n",
       "      <td id=\"T_6b55e_row2_col7\" class=\"data row2 col7\" >0.1481</td>\n",
       "      <td id=\"T_6b55e_row2_col8\" class=\"data row2 col8\" >0.0270</td>\n",
       "    </tr>\n",
       "    <tr>\n",
       "      <th id=\"T_6b55e_level0_row3\" class=\"row_heading level0 row3\" >lr</th>\n",
       "      <td id=\"T_6b55e_row3_col0\" class=\"data row3 col0\" >Logistic Regression</td>\n",
       "      <td id=\"T_6b55e_row3_col1\" class=\"data row3 col1\" >0.7223</td>\n",
       "      <td id=\"T_6b55e_row3_col2\" class=\"data row3 col2\" >0.6448</td>\n",
       "      <td id=\"T_6b55e_row3_col3\" class=\"data row3 col3\" >0.9774</td>\n",
       "      <td id=\"T_6b55e_row3_col4\" class=\"data row3 col4\" >0.7290</td>\n",
       "      <td id=\"T_6b55e_row3_col5\" class=\"data row3 col5\" >0.8349</td>\n",
       "      <td id=\"T_6b55e_row3_col6\" class=\"data row3 col6\" >0.0613</td>\n",
       "      <td id=\"T_6b55e_row3_col7\" class=\"data row3 col7\" >0.1191</td>\n",
       "      <td id=\"T_6b55e_row3_col8\" class=\"data row3 col8\" >0.8340</td>\n",
       "    </tr>\n",
       "    <tr>\n",
       "      <th id=\"T_6b55e_level0_row4\" class=\"row_heading level0 row4\" >dummy</th>\n",
       "      <td id=\"T_6b55e_row4_col0\" class=\"data row4 col0\" >Dummy Classifier</td>\n",
       "      <td id=\"T_6b55e_row4_col1\" class=\"data row4 col1\" >0.7197</td>\n",
       "      <td id=\"T_6b55e_row4_col2\" class=\"data row4 col2\" >0.5000</td>\n",
       "      <td id=\"T_6b55e_row4_col3\" class=\"data row4 col3\" >1.0000</td>\n",
       "      <td id=\"T_6b55e_row4_col4\" class=\"data row4 col4\" >0.7197</td>\n",
       "      <td id=\"T_6b55e_row4_col5\" class=\"data row4 col5\" >0.8369</td>\n",
       "      <td id=\"T_6b55e_row4_col6\" class=\"data row4 col6\" >0.0000</td>\n",
       "      <td id=\"T_6b55e_row4_col7\" class=\"data row4 col7\" >0.0000</td>\n",
       "      <td id=\"T_6b55e_row4_col8\" class=\"data row4 col8\" >0.0260</td>\n",
       "    </tr>\n",
       "    <tr>\n",
       "      <th id=\"T_6b55e_level0_row5\" class=\"row_heading level0 row5\" >rf</th>\n",
       "      <td id=\"T_6b55e_row5_col0\" class=\"data row5 col0\" >Random Forest Classifier</td>\n",
       "      <td id=\"T_6b55e_row5_col1\" class=\"data row5 col1\" >0.7033</td>\n",
       "      <td id=\"T_6b55e_row5_col2\" class=\"data row5 col2\" >0.5942</td>\n",
       "      <td id=\"T_6b55e_row5_col3\" class=\"data row5 col3\" >0.8870</td>\n",
       "      <td id=\"T_6b55e_row5_col4\" class=\"data row5 col4\" >0.7477</td>\n",
       "      <td id=\"T_6b55e_row5_col5\" class=\"data row5 col5\" >0.8109</td>\n",
       "      <td id=\"T_6b55e_row5_col6\" class=\"data row5 col6\" >0.1344</td>\n",
       "      <td id=\"T_6b55e_row5_col7\" class=\"data row5 col7\" >0.1487</td>\n",
       "      <td id=\"T_6b55e_row5_col8\" class=\"data row5 col8\" >0.1180</td>\n",
       "    </tr>\n",
       "    <tr>\n",
       "      <th id=\"T_6b55e_level0_row6\" class=\"row_heading level0 row6\" >gbc</th>\n",
       "      <td id=\"T_6b55e_row6_col0\" class=\"data row6 col0\" >Gradient Boosting Classifier</td>\n",
       "      <td id=\"T_6b55e_row6_col1\" class=\"data row6 col1\" >0.6953</td>\n",
       "      <td id=\"T_6b55e_row6_col2\" class=\"data row6 col2\" >0.6189</td>\n",
       "      <td id=\"T_6b55e_row6_col3\" class=\"data row6 col3\" >0.8799</td>\n",
       "      <td id=\"T_6b55e_row6_col4\" class=\"data row6 col4\" >0.7440</td>\n",
       "      <td id=\"T_6b55e_row6_col5\" class=\"data row6 col5\" >0.8060</td>\n",
       "      <td id=\"T_6b55e_row6_col6\" class=\"data row6 col6\" >0.1158</td>\n",
       "      <td id=\"T_6b55e_row6_col7\" class=\"data row6 col7\" >0.1234</td>\n",
       "      <td id=\"T_6b55e_row6_col8\" class=\"data row6 col8\" >0.0680</td>\n",
       "    </tr>\n",
       "    <tr>\n",
       "      <th id=\"T_6b55e_level0_row7\" class=\"row_heading level0 row7\" >lightgbm</th>\n",
       "      <td id=\"T_6b55e_row7_col0\" class=\"data row7 col0\" >Light Gradient Boosting Machine</td>\n",
       "      <td id=\"T_6b55e_row7_col1\" class=\"data row7 col1\" >0.6952</td>\n",
       "      <td id=\"T_6b55e_row7_col2\" class=\"data row7 col2\" >0.5809</td>\n",
       "      <td id=\"T_6b55e_row7_col3\" class=\"data row7 col3\" >0.8574</td>\n",
       "      <td id=\"T_6b55e_row7_col4\" class=\"data row7 col4\" >0.7532</td>\n",
       "      <td id=\"T_6b55e_row7_col5\" class=\"data row7 col5\" >0.8014</td>\n",
       "      <td id=\"T_6b55e_row7_col6\" class=\"data row7 col6\" >0.1541</td>\n",
       "      <td id=\"T_6b55e_row7_col7\" class=\"data row7 col7\" >0.1619</td>\n",
       "      <td id=\"T_6b55e_row7_col8\" class=\"data row7 col8\" >0.0380</td>\n",
       "    </tr>\n",
       "    <tr>\n",
       "      <th id=\"T_6b55e_level0_row8\" class=\"row_heading level0 row8\" >et</th>\n",
       "      <td id=\"T_6b55e_row8_col0\" class=\"data row8 col0\" >Extra Trees Classifier</td>\n",
       "      <td id=\"T_6b55e_row8_col1\" class=\"data row8 col1\" >0.6900</td>\n",
       "      <td id=\"T_6b55e_row8_col2\" class=\"data row8 col2\" >0.5635</td>\n",
       "      <td id=\"T_6b55e_row8_col3\" class=\"data row8 col3\" >0.8801</td>\n",
       "      <td id=\"T_6b55e_row8_col4\" class=\"data row8 col4\" >0.7392</td>\n",
       "      <td id=\"T_6b55e_row8_col5\" class=\"data row8 col5\" >0.8031</td>\n",
       "      <td id=\"T_6b55e_row8_col6\" class=\"data row8 col6\" >0.0893</td>\n",
       "      <td id=\"T_6b55e_row8_col7\" class=\"data row8 col7\" >0.0939</td>\n",
       "      <td id=\"T_6b55e_row8_col8\" class=\"data row8 col8\" >0.1000</td>\n",
       "    </tr>\n",
       "    <tr>\n",
       "      <th id=\"T_6b55e_level0_row9\" class=\"row_heading level0 row9\" >ada</th>\n",
       "      <td id=\"T_6b55e_row9_col0\" class=\"data row9 col0\" >Ada Boost Classifier</td>\n",
       "      <td id=\"T_6b55e_row9_col1\" class=\"data row9 col1\" >0.6843</td>\n",
       "      <td id=\"T_6b55e_row9_col2\" class=\"data row9 col2\" >0.6015</td>\n",
       "      <td id=\"T_6b55e_row9_col3\" class=\"data row9 col3\" >0.8613</td>\n",
       "      <td id=\"T_6b55e_row9_col4\" class=\"data row9 col4\" >0.7414</td>\n",
       "      <td id=\"T_6b55e_row9_col5\" class=\"data row9 col5\" >0.7963</td>\n",
       "      <td id=\"T_6b55e_row9_col6\" class=\"data row9 col6\" >0.1059</td>\n",
       "      <td id=\"T_6b55e_row9_col7\" class=\"data row9 col7\" >0.1183</td>\n",
       "      <td id=\"T_6b55e_row9_col8\" class=\"data row9 col8\" >0.0610</td>\n",
       "    </tr>\n",
       "    <tr>\n",
       "      <th id=\"T_6b55e_level0_row10\" class=\"row_heading level0 row10\" >nb</th>\n",
       "      <td id=\"T_6b55e_row10_col0\" class=\"data row10 col0\" >Naive Bayes</td>\n",
       "      <td id=\"T_6b55e_row10_col1\" class=\"data row10 col1\" >0.6712</td>\n",
       "      <td id=\"T_6b55e_row10_col2\" class=\"data row10 col2\" >0.6846</td>\n",
       "      <td id=\"T_6b55e_row10_col3\" class=\"data row10 col3\" >0.7791</td>\n",
       "      <td id=\"T_6b55e_row10_col4\" class=\"data row10 col4\" >0.7687</td>\n",
       "      <td id=\"T_6b55e_row10_col5\" class=\"data row10 col5\" >0.7726</td>\n",
       "      <td id=\"T_6b55e_row10_col6\" class=\"data row10 col6\" >0.1713</td>\n",
       "      <td id=\"T_6b55e_row10_col7\" class=\"data row10 col7\" >0.1734</td>\n",
       "      <td id=\"T_6b55e_row10_col8\" class=\"data row10 col8\" >0.0240</td>\n",
       "    </tr>\n",
       "    <tr>\n",
       "      <th id=\"T_6b55e_level0_row11\" class=\"row_heading level0 row11\" >knn</th>\n",
       "      <td id=\"T_6b55e_row11_col0\" class=\"data row11 col0\" >K Neighbors Classifier</td>\n",
       "      <td id=\"T_6b55e_row11_col1\" class=\"data row11 col1\" >0.6605</td>\n",
       "      <td id=\"T_6b55e_row11_col2\" class=\"data row11 col2\" >0.5253</td>\n",
       "      <td id=\"T_6b55e_row11_col3\" class=\"data row11 col3\" >0.8348</td>\n",
       "      <td id=\"T_6b55e_row11_col4\" class=\"data row11 col4\" >0.7308</td>\n",
       "      <td id=\"T_6b55e_row11_col5\" class=\"data row11 col5\" >0.7777</td>\n",
       "      <td id=\"T_6b55e_row11_col6\" class=\"data row11 col6\" >0.0561</td>\n",
       "      <td id=\"T_6b55e_row11_col7\" class=\"data row11 col7\" >0.0700</td>\n",
       "      <td id=\"T_6b55e_row11_col8\" class=\"data row11 col8\" >0.0270</td>\n",
       "    </tr>\n",
       "    <tr>\n",
       "      <th id=\"T_6b55e_level0_row12\" class=\"row_heading level0 row12\" >svm</th>\n",
       "      <td id=\"T_6b55e_row12_col0\" class=\"data row12 col0\" >SVM - Linear Kernel</td>\n",
       "      <td id=\"T_6b55e_row12_col1\" class=\"data row12 col1\" >0.6169</td>\n",
       "      <td id=\"T_6b55e_row12_col2\" class=\"data row12 col2\" >0.0000</td>\n",
       "      <td id=\"T_6b55e_row12_col3\" class=\"data row12 col3\" >0.7276</td>\n",
       "      <td id=\"T_6b55e_row12_col4\" class=\"data row12 col4\" >0.5907</td>\n",
       "      <td id=\"T_6b55e_row12_col5\" class=\"data row12 col5\" >0.6472</td>\n",
       "      <td id=\"T_6b55e_row12_col6\" class=\"data row12 col6\" >0.0830</td>\n",
       "      <td id=\"T_6b55e_row12_col7\" class=\"data row12 col7\" >0.1386</td>\n",
       "      <td id=\"T_6b55e_row12_col8\" class=\"data row12 col8\" >0.0200</td>\n",
       "    </tr>\n",
       "    <tr>\n",
       "      <th id=\"T_6b55e_level0_row13\" class=\"row_heading level0 row13\" >dt</th>\n",
       "      <td id=\"T_6b55e_row13_col0\" class=\"data row13 col0\" >Decision Tree Classifier</td>\n",
       "      <td id=\"T_6b55e_row13_col1\" class=\"data row13 col1\" >0.5983</td>\n",
       "      <td id=\"T_6b55e_row13_col2\" class=\"data row13 col2\" >0.5281</td>\n",
       "      <td id=\"T_6b55e_row13_col3\" class=\"data row13 col3\" >0.6897</td>\n",
       "      <td id=\"T_6b55e_row13_col4\" class=\"data row13 col4\" >0.7368</td>\n",
       "      <td id=\"T_6b55e_row13_col5\" class=\"data row13 col5\" >0.7106</td>\n",
       "      <td id=\"T_6b55e_row13_col6\" class=\"data row13 col6\" >0.0533</td>\n",
       "      <td id=\"T_6b55e_row13_col7\" class=\"data row13 col7\" >0.0546</td>\n",
       "      <td id=\"T_6b55e_row13_col8\" class=\"data row13 col8\" >0.0240</td>\n",
       "    </tr>\n",
       "  </tbody>\n",
       "</table>\n"
      ],
      "text/plain": [
       "<pandas.io.formats.style.Styler at 0x10f0efb1850>"
      ]
     },
     "metadata": {},
     "output_type": "display_data"
    },
    {
     "data": {
      "text/html": [],
      "text/plain": [
       "<IPython.core.display.HTML object>"
      ]
     },
     "metadata": {},
     "output_type": "display_data"
    },
    {
     "data": {
      "text/html": [
       "<style>#sk-container-id-1 {color: black;background-color: white;}#sk-container-id-1 pre{padding: 0;}#sk-container-id-1 div.sk-toggleable {background-color: white;}#sk-container-id-1 label.sk-toggleable__label {cursor: pointer;display: block;width: 100%;margin-bottom: 0;padding: 0.3em;box-sizing: border-box;text-align: center;}#sk-container-id-1 label.sk-toggleable__label-arrow:before {content: \"▸\";float: left;margin-right: 0.25em;color: #696969;}#sk-container-id-1 label.sk-toggleable__label-arrow:hover:before {color: black;}#sk-container-id-1 div.sk-estimator:hover label.sk-toggleable__label-arrow:before {color: black;}#sk-container-id-1 div.sk-toggleable__content {max-height: 0;max-width: 0;overflow: hidden;text-align: left;background-color: #f0f8ff;}#sk-container-id-1 div.sk-toggleable__content pre {margin: 0.2em;color: black;border-radius: 0.25em;background-color: #f0f8ff;}#sk-container-id-1 input.sk-toggleable__control:checked~div.sk-toggleable__content {max-height: 200px;max-width: 100%;overflow: auto;}#sk-container-id-1 input.sk-toggleable__control:checked~label.sk-toggleable__label-arrow:before {content: \"▾\";}#sk-container-id-1 div.sk-estimator input.sk-toggleable__control:checked~label.sk-toggleable__label {background-color: #d4ebff;}#sk-container-id-1 div.sk-label input.sk-toggleable__control:checked~label.sk-toggleable__label {background-color: #d4ebff;}#sk-container-id-1 input.sk-hidden--visually {border: 0;clip: rect(1px 1px 1px 1px);clip: rect(1px, 1px, 1px, 1px);height: 1px;margin: -1px;overflow: hidden;padding: 0;position: absolute;width: 1px;}#sk-container-id-1 div.sk-estimator {font-family: monospace;background-color: #f0f8ff;border: 1px dotted black;border-radius: 0.25em;box-sizing: border-box;margin-bottom: 0.5em;}#sk-container-id-1 div.sk-estimator:hover {background-color: #d4ebff;}#sk-container-id-1 div.sk-parallel-item::after {content: \"\";width: 100%;border-bottom: 1px solid gray;flex-grow: 1;}#sk-container-id-1 div.sk-label:hover label.sk-toggleable__label {background-color: #d4ebff;}#sk-container-id-1 div.sk-serial::before {content: \"\";position: absolute;border-left: 1px solid gray;box-sizing: border-box;top: 0;bottom: 0;left: 50%;z-index: 0;}#sk-container-id-1 div.sk-serial {display: flex;flex-direction: column;align-items: center;background-color: white;padding-right: 0.2em;padding-left: 0.2em;position: relative;}#sk-container-id-1 div.sk-item {position: relative;z-index: 1;}#sk-container-id-1 div.sk-parallel {display: flex;align-items: stretch;justify-content: center;background-color: white;position: relative;}#sk-container-id-1 div.sk-item::before, #sk-container-id-1 div.sk-parallel-item::before {content: \"\";position: absolute;border-left: 1px solid gray;box-sizing: border-box;top: 0;bottom: 0;left: 50%;z-index: -1;}#sk-container-id-1 div.sk-parallel-item {display: flex;flex-direction: column;z-index: 1;position: relative;background-color: white;}#sk-container-id-1 div.sk-parallel-item:first-child::after {align-self: flex-end;width: 50%;}#sk-container-id-1 div.sk-parallel-item:last-child::after {align-self: flex-start;width: 50%;}#sk-container-id-1 div.sk-parallel-item:only-child::after {width: 0;}#sk-container-id-1 div.sk-dashed-wrapped {border: 1px dashed gray;margin: 0 0.4em 0.5em 0.4em;box-sizing: border-box;padding-bottom: 0.4em;background-color: white;}#sk-container-id-1 div.sk-label label {font-family: monospace;font-weight: bold;display: inline-block;line-height: 1.2em;}#sk-container-id-1 div.sk-label-container {text-align: center;}#sk-container-id-1 div.sk-container {/* jupyter's `normalize.less` sets `[hidden] { display: none; }` but bootstrap.min.css set `[hidden] { display: none !important; }` so we also need the `!important` here to be able to override the default hidden behavior on the sphinx rendered scikit-learn.org. See: https://github.com/scikit-learn/scikit-learn/issues/21755 */display: inline-block !important;position: relative;}#sk-container-id-1 div.sk-text-repr-fallback {display: none;}</style><div id=\"sk-container-id-1\" class=\"sk-top-container\"><div class=\"sk-text-repr-fallback\"><pre>QuadraticDiscriminantAnalysis(priors=None, reg_param=0.0,\n",
       "                              store_covariance=False, tol=0.0001)</pre><b>In a Jupyter environment, please rerun this cell to show the HTML representation or trust the notebook. <br />On GitHub, the HTML representation is unable to render, please try loading this page with nbviewer.org.</b></div><div class=\"sk-container\" hidden><div class=\"sk-item\"><div class=\"sk-estimator sk-toggleable\"><input class=\"sk-toggleable__control sk-hidden--visually\" id=\"sk-estimator-id-1\" type=\"checkbox\" checked><label for=\"sk-estimator-id-1\" class=\"sk-toggleable__label sk-toggleable__label-arrow\">QuadraticDiscriminantAnalysis</label><div class=\"sk-toggleable__content\"><pre>QuadraticDiscriminantAnalysis(priors=None, reg_param=0.0,\n",
       "                              store_covariance=False, tol=0.0001)</pre></div></div></div></div></div>"
      ],
      "text/plain": [
       "QuadraticDiscriminantAnalysis(priors=None, reg_param=0.0,\n",
       "                              store_covariance=False, tol=0.0001)"
      ]
     },
     "execution_count": 6,
     "metadata": {},
     "output_type": "execute_result"
    }
   ],
   "source": [
    "compare_models()"
   ]
  },
  {
   "cell_type": "code",
   "execution_count": 7,
   "id": "cb0b5fae",
   "metadata": {},
   "outputs": [],
   "source": [
    "# Treinando o melhor modelo com os dados de treino\n",
    "#final_model = finalize_model(best_model)"
   ]
  },
  {
   "cell_type": "code",
   "execution_count": 8,
   "id": "fd674db6",
   "metadata": {},
   "outputs": [],
   "source": [
    "final_model_qda = finalize_model('qda')\n",
    "final_model_ridge = finalize_model('ridge')\n",
    "\n",
    "final_model_lda = finalize_model('lda')\n",
    "final_model_dummy = finalize_model('dummy')\n",
    "\n",
    "final_model_lr = finalize_model('lr')\n",
    "final_model_rf = finalize_model('rf')\n",
    "\n",
    "final_model_et = finalize_model('et')\n",
    "final_model_gbc = finalize_model('gbc')\n",
    "\n",
    "\n",
    "final_model_knn = finalize_model('knn')\n",
    "final_model_lightgbm = finalize_model('lightgbm')\n",
    "\n",
    "final_model_ada = finalize_model('ada')\n",
    "final_model_svm = finalize_model('svm')\n",
    "\n",
    "final_model_nb = finalize_model('nb')\n",
    "final_model_dt = finalize_model('dt')\n",
    "\n"
   ]
  },
  {
   "cell_type": "code",
   "execution_count": 9,
   "id": "40ca2773",
   "metadata": {},
   "outputs": [
    {
     "ename": "NameError",
     "evalue": "name 'predictions_ridge' is not defined",
     "output_type": "error",
     "traceback": [
      "\u001b[1;31m---------------------------------------------------------------------------\u001b[0m",
      "\u001b[1;31mNameError\u001b[0m                                 Traceback (most recent call last)",
      "Cell \u001b[1;32mIn[9], line 4\u001b[0m\n\u001b[0;32m      1\u001b[0m \u001b[38;5;66;03m# Fazendo previsões com os dados de teste\u001b[39;00m\n\u001b[1;32m----> 4\u001b[0m flt \u001b[38;5;241m=\u001b[39m \u001b[43mpredictions_ridge\u001b[49m\u001b[38;5;241m.\u001b[39mprediction_label \u001b[38;5;241m==\u001b[39m \u001b[38;5;241m1\u001b[39m   \n\u001b[0;32m      5\u001b[0m df \u001b[38;5;241m=\u001b[39m predictions_ridge[flt]\n\u001b[0;32m      6\u001b[0m df\u001b[38;5;241m.\u001b[39mloc[(df[\u001b[38;5;124m'\u001b[39m\u001b[38;5;124mprediction_label\u001b[39m\u001b[38;5;124m'\u001b[39m] \u001b[38;5;241m==\u001b[39m df[\u001b[38;5;124m'\u001b[39m\u001b[38;5;124mLayAway\u001b[39m\u001b[38;5;124m'\u001b[39m]), \u001b[38;5;124m'\u001b[39m\u001b[38;5;124mProfit\u001b[39m\u001b[38;5;124m'\u001b[39m] \u001b[38;5;241m=\u001b[39m \u001b[38;5;241m1\u001b[39m \u001b[38;5;241m/\u001b[39m ((df\u001b[38;5;241m.\u001b[39mFT_Odd_A) \u001b[38;5;241m-\u001b[39m \u001b[38;5;241m0.85\u001b[39m)\n",
      "\u001b[1;31mNameError\u001b[0m: name 'predictions_ridge' is not defined"
     ]
    }
   ],
   "source": [
    "# Fazendo previsões com os dados de teste\n",
    "\n",
    "\n",
    "flt = predictions_ridge.prediction_label == 1   \n",
    "df = predictions_ridge[flt]\n",
    "df.loc[(df['prediction_label'] == df['LayAway']), 'Profit'] = 1 / ((df.FT_Odd_A) - 0.85)\n",
    "df.loc[(df['prediction_label'] != df['LayAway']), 'Profit'] = -1\n",
    "grafico(df,'LayAway Pycaret')\n"
   ]
  },
  {
   "cell_type": "code",
   "execution_count": 10,
   "id": "c4bbf7c7",
   "metadata": {
    "scrolled": true
   },
   "outputs": [
    {
     "ename": "NameError",
     "evalue": "name 'predictions_qda' is not defined",
     "output_type": "error",
     "traceback": [
      "\u001b[1;31m---------------------------------------------------------------------------\u001b[0m",
      "\u001b[1;31mNameError\u001b[0m                                 Traceback (most recent call last)",
      "Cell \u001b[1;32mIn[10], line 3\u001b[0m\n\u001b[0;32m      1\u001b[0m \u001b[38;5;66;03m# Fazendo previsões com os dados de teste\u001b[39;00m\n\u001b[1;32m----> 3\u001b[0m flt \u001b[38;5;241m=\u001b[39m \u001b[43mpredictions_qda\u001b[49m\u001b[38;5;241m.\u001b[39mprediction_label \u001b[38;5;241m==\u001b[39m \u001b[38;5;241m1\u001b[39m   \n\u001b[0;32m      4\u001b[0m df \u001b[38;5;241m=\u001b[39m predictions_qda[flt]\n\u001b[0;32m      5\u001b[0m df\u001b[38;5;241m.\u001b[39mloc[(df[\u001b[38;5;124m'\u001b[39m\u001b[38;5;124mprediction_label\u001b[39m\u001b[38;5;124m'\u001b[39m] \u001b[38;5;241m==\u001b[39m df[\u001b[38;5;124m'\u001b[39m\u001b[38;5;124mLayAway\u001b[39m\u001b[38;5;124m'\u001b[39m]), \u001b[38;5;124m'\u001b[39m\u001b[38;5;124mProfit\u001b[39m\u001b[38;5;124m'\u001b[39m] \u001b[38;5;241m=\u001b[39m \u001b[38;5;241m1\u001b[39m \u001b[38;5;241m/\u001b[39m ((df\u001b[38;5;241m.\u001b[39mFT_Odd_A) \u001b[38;5;241m-\u001b[39m \u001b[38;5;241m0.85\u001b[39m)\n",
      "\u001b[1;31mNameError\u001b[0m: name 'predictions_qda' is not defined"
     ]
    }
   ],
   "source": [
    "# Fazendo previsões com os dados de teste\n",
    "\n",
    "flt = predictions_qda.prediction_label == 1   \n",
    "df = predictions_qda[flt]\n",
    "df.loc[(df['prediction_label'] == df['LayAway']), 'Profit'] = 1 / ((df.FT_Odd_A) - 0.85)\n",
    "df.loc[(df['prediction_label'] != df['LayAway']), 'Profit'] = -1\n",
    "grafico(df,'LayAway Pycaret')\n"
   ]
  },
  {
   "cell_type": "code",
   "execution_count": 11,
   "id": "37296966",
   "metadata": {
    "scrolled": true
   },
   "outputs": [
    {
     "ename": "NameError",
     "evalue": "name 'predictions_lda' is not defined",
     "output_type": "error",
     "traceback": [
      "\u001b[1;31m---------------------------------------------------------------------------\u001b[0m",
      "\u001b[1;31mNameError\u001b[0m                                 Traceback (most recent call last)",
      "Cell \u001b[1;32mIn[11], line 3\u001b[0m\n\u001b[0;32m      1\u001b[0m \u001b[38;5;66;03m# Fazendo previsões com os dados de teste\u001b[39;00m\n\u001b[1;32m----> 3\u001b[0m flt \u001b[38;5;241m=\u001b[39m \u001b[43mpredictions_lda\u001b[49m\u001b[38;5;241m.\u001b[39mprediction_label \u001b[38;5;241m==\u001b[39m \u001b[38;5;241m1\u001b[39m   \n\u001b[0;32m      4\u001b[0m df \u001b[38;5;241m=\u001b[39m predictions_lda[flt]\n\u001b[0;32m      5\u001b[0m df\u001b[38;5;241m.\u001b[39mloc[(df[\u001b[38;5;124m'\u001b[39m\u001b[38;5;124mprediction_label\u001b[39m\u001b[38;5;124m'\u001b[39m] \u001b[38;5;241m==\u001b[39m df[\u001b[38;5;124m'\u001b[39m\u001b[38;5;124mLayAway\u001b[39m\u001b[38;5;124m'\u001b[39m]), \u001b[38;5;124m'\u001b[39m\u001b[38;5;124mProfit\u001b[39m\u001b[38;5;124m'\u001b[39m] \u001b[38;5;241m=\u001b[39m \u001b[38;5;241m1\u001b[39m \u001b[38;5;241m/\u001b[39m ((df\u001b[38;5;241m.\u001b[39mFT_Odd_A) \u001b[38;5;241m-\u001b[39m \u001b[38;5;241m0.85\u001b[39m)\n",
      "\u001b[1;31mNameError\u001b[0m: name 'predictions_lda' is not defined"
     ]
    }
   ],
   "source": [
    "# Fazendo previsões com os dados de teste\n",
    "\n",
    "flt = predictions_lda.prediction_label == 1   \n",
    "df = predictions_lda[flt]\n",
    "df.loc[(df['prediction_label'] == df['LayAway']), 'Profit'] = 1 / ((df.FT_Odd_A) - 0.85)\n",
    "df.loc[(df['prediction_label'] != df['LayAway']), 'Profit'] = -1\n",
    "grafico(df,'LayAway Pycaret')\n",
    "\n"
   ]
  },
  {
   "cell_type": "code",
   "execution_count": 12,
   "id": "f7e77d90",
   "metadata": {
    "scrolled": true
   },
   "outputs": [
    {
     "ename": "NameError",
     "evalue": "name 'predictions_dummy' is not defined",
     "output_type": "error",
     "traceback": [
      "\u001b[1;31m---------------------------------------------------------------------------\u001b[0m",
      "\u001b[1;31mNameError\u001b[0m                                 Traceback (most recent call last)",
      "Cell \u001b[1;32mIn[12], line 3\u001b[0m\n\u001b[0;32m      1\u001b[0m \u001b[38;5;66;03m# Fazendo previsões com os dados de teste\u001b[39;00m\n\u001b[1;32m----> 3\u001b[0m flt \u001b[38;5;241m=\u001b[39m \u001b[43mpredictions_dummy\u001b[49m\u001b[38;5;241m.\u001b[39mprediction_label \u001b[38;5;241m==\u001b[39m \u001b[38;5;241m1\u001b[39m   \n\u001b[0;32m      4\u001b[0m df \u001b[38;5;241m=\u001b[39m predictions_dummy[flt]\n\u001b[0;32m      5\u001b[0m df\u001b[38;5;241m.\u001b[39mloc[(df[\u001b[38;5;124m'\u001b[39m\u001b[38;5;124mprediction_label\u001b[39m\u001b[38;5;124m'\u001b[39m] \u001b[38;5;241m==\u001b[39m df[\u001b[38;5;124m'\u001b[39m\u001b[38;5;124mLayAway\u001b[39m\u001b[38;5;124m'\u001b[39m]), \u001b[38;5;124m'\u001b[39m\u001b[38;5;124mProfit\u001b[39m\u001b[38;5;124m'\u001b[39m] \u001b[38;5;241m=\u001b[39m \u001b[38;5;241m1\u001b[39m \u001b[38;5;241m/\u001b[39m ((df\u001b[38;5;241m.\u001b[39mFT_Odd_A) \u001b[38;5;241m-\u001b[39m \u001b[38;5;241m0.85\u001b[39m)\n",
      "\u001b[1;31mNameError\u001b[0m: name 'predictions_dummy' is not defined"
     ]
    }
   ],
   "source": [
    "# Fazendo previsões com os dados de teste\n",
    "\n",
    "flt = predictions_dummy.prediction_label == 1   \n",
    "df = predictions_dummy[flt]\n",
    "df.loc[(df['prediction_label'] == df['LayAway']), 'Profit'] = 1 / ((df.FT_Odd_A) - 0.85)\n",
    "df.loc[(df['prediction_label'] != df['LayAway']), 'Profit'] = -1\n",
    "grafico(df,'LayAway Pycaret')\n"
   ]
  },
  {
   "cell_type": "code",
   "execution_count": 13,
   "id": "c0967c23",
   "metadata": {
    "scrolled": true
   },
   "outputs": [
    {
     "ename": "NameError",
     "evalue": "name 'predictions_lr' is not defined",
     "output_type": "error",
     "traceback": [
      "\u001b[1;31m---------------------------------------------------------------------------\u001b[0m",
      "\u001b[1;31mNameError\u001b[0m                                 Traceback (most recent call last)",
      "Cell \u001b[1;32mIn[13], line 1\u001b[0m\n\u001b[1;32m----> 1\u001b[0m flt \u001b[38;5;241m=\u001b[39m \u001b[43mpredictions_lr\u001b[49m\u001b[38;5;241m.\u001b[39mprediction_label \u001b[38;5;241m==\u001b[39m \u001b[38;5;241m1\u001b[39m   \n\u001b[0;32m      2\u001b[0m df \u001b[38;5;241m=\u001b[39m predictions_lr[flt]\n\u001b[0;32m      3\u001b[0m df\u001b[38;5;241m.\u001b[39mloc[(df[\u001b[38;5;124m'\u001b[39m\u001b[38;5;124mprediction_label\u001b[39m\u001b[38;5;124m'\u001b[39m] \u001b[38;5;241m==\u001b[39m df[\u001b[38;5;124m'\u001b[39m\u001b[38;5;124mLayAway\u001b[39m\u001b[38;5;124m'\u001b[39m]), \u001b[38;5;124m'\u001b[39m\u001b[38;5;124mProfit\u001b[39m\u001b[38;5;124m'\u001b[39m] \u001b[38;5;241m=\u001b[39m \u001b[38;5;241m1\u001b[39m \u001b[38;5;241m/\u001b[39m ((df\u001b[38;5;241m.\u001b[39mFT_Odd_A) \u001b[38;5;241m-\u001b[39m \u001b[38;5;241m0.85\u001b[39m)\n",
      "\u001b[1;31mNameError\u001b[0m: name 'predictions_lr' is not defined"
     ]
    }
   ],
   "source": [
    "\n",
    "flt = predictions_lr.prediction_label == 1   \n",
    "df = predictions_lr[flt]\n",
    "df.loc[(df['prediction_label'] == df['LayAway']), 'Profit'] = 1 / ((df.FT_Odd_A) - 0.85)\n",
    "df.loc[(df['prediction_label'] != df['LayAway']), 'Profit'] = -1\n",
    "grafico(df,'LayAway Pycaret')"
   ]
  },
  {
   "cell_type": "code",
   "execution_count": 14,
   "id": "380f4c3c",
   "metadata": {
    "scrolled": true
   },
   "outputs": [
    {
     "ename": "NameError",
     "evalue": "name 'predictions_rf' is not defined",
     "output_type": "error",
     "traceback": [
      "\u001b[1;31m---------------------------------------------------------------------------\u001b[0m",
      "\u001b[1;31mNameError\u001b[0m                                 Traceback (most recent call last)",
      "Cell \u001b[1;32mIn[14], line 1\u001b[0m\n\u001b[1;32m----> 1\u001b[0m flt \u001b[38;5;241m=\u001b[39m \u001b[43mpredictions_rf\u001b[49m\u001b[38;5;241m.\u001b[39mprediction_label \u001b[38;5;241m==\u001b[39m \u001b[38;5;241m1\u001b[39m   \n\u001b[0;32m      2\u001b[0m df \u001b[38;5;241m=\u001b[39m predictions_rf[flt]\n\u001b[0;32m      3\u001b[0m df\u001b[38;5;241m.\u001b[39mloc[(df[\u001b[38;5;124m'\u001b[39m\u001b[38;5;124mprediction_label\u001b[39m\u001b[38;5;124m'\u001b[39m] \u001b[38;5;241m==\u001b[39m df[\u001b[38;5;124m'\u001b[39m\u001b[38;5;124mLayAway\u001b[39m\u001b[38;5;124m'\u001b[39m]), \u001b[38;5;124m'\u001b[39m\u001b[38;5;124mProfit\u001b[39m\u001b[38;5;124m'\u001b[39m] \u001b[38;5;241m=\u001b[39m \u001b[38;5;241m1\u001b[39m \u001b[38;5;241m/\u001b[39m ((df\u001b[38;5;241m.\u001b[39mFT_Odd_A) \u001b[38;5;241m-\u001b[39m \u001b[38;5;241m0.85\u001b[39m)\n",
      "\u001b[1;31mNameError\u001b[0m: name 'predictions_rf' is not defined"
     ]
    }
   ],
   "source": [
    "\n",
    "\n",
    "flt = predictions_rf.prediction_label == 1   \n",
    "df = predictions_rf[flt]\n",
    "df.loc[(df['prediction_label'] == df['LayAway']), 'Profit'] = 1 / ((df.FT_Odd_A) - 0.85)\n",
    "df.loc[(df['prediction_label'] != df['LayAway']), 'Profit'] = -1\n",
    "grafico(df,'LayAway Pycaret')"
   ]
  },
  {
   "cell_type": "code",
   "execution_count": 15,
   "id": "c78a9005",
   "metadata": {},
   "outputs": [
    {
     "ename": "NameError",
     "evalue": "name 'predictions_et' is not defined",
     "output_type": "error",
     "traceback": [
      "\u001b[1;31m---------------------------------------------------------------------------\u001b[0m",
      "\u001b[1;31mNameError\u001b[0m                                 Traceback (most recent call last)",
      "Cell \u001b[1;32mIn[15], line 1\u001b[0m\n\u001b[1;32m----> 1\u001b[0m flt \u001b[38;5;241m=\u001b[39m \u001b[43mpredictions_et\u001b[49m\u001b[38;5;241m.\u001b[39mprediction_label \u001b[38;5;241m==\u001b[39m \u001b[38;5;241m1\u001b[39m   \n\u001b[0;32m      2\u001b[0m df \u001b[38;5;241m=\u001b[39m predictions_et[flt]\n\u001b[0;32m      3\u001b[0m df\u001b[38;5;241m.\u001b[39mloc[(df[\u001b[38;5;124m'\u001b[39m\u001b[38;5;124mprediction_label\u001b[39m\u001b[38;5;124m'\u001b[39m] \u001b[38;5;241m==\u001b[39m df[\u001b[38;5;124m'\u001b[39m\u001b[38;5;124mLayAway\u001b[39m\u001b[38;5;124m'\u001b[39m]), \u001b[38;5;124m'\u001b[39m\u001b[38;5;124mProfit\u001b[39m\u001b[38;5;124m'\u001b[39m] \u001b[38;5;241m=\u001b[39m \u001b[38;5;241m1\u001b[39m \u001b[38;5;241m/\u001b[39m ((df\u001b[38;5;241m.\u001b[39mFT_Odd_A) \u001b[38;5;241m-\u001b[39m \u001b[38;5;241m0.85\u001b[39m)\n",
      "\u001b[1;31mNameError\u001b[0m: name 'predictions_et' is not defined"
     ]
    }
   ],
   "source": [
    "\n",
    "flt = predictions_et.prediction_label == 1   \n",
    "df = predictions_et[flt]\n",
    "df.loc[(df['prediction_label'] == df['LayAway']), 'Profit'] = 1 / ((df.FT_Odd_A) - 0.85)\n",
    "df.loc[(df['prediction_label'] != df['LayAway']), 'Profit'] = -1\n",
    "grafico(df,'LayAway Pycaret')"
   ]
  },
  {
   "cell_type": "code",
   "execution_count": 16,
   "id": "1823d2c6",
   "metadata": {
    "scrolled": true
   },
   "outputs": [
    {
     "ename": "NameError",
     "evalue": "name 'predictions_gbc' is not defined",
     "output_type": "error",
     "traceback": [
      "\u001b[1;31m---------------------------------------------------------------------------\u001b[0m",
      "\u001b[1;31mNameError\u001b[0m                                 Traceback (most recent call last)",
      "Cell \u001b[1;32mIn[16], line 1\u001b[0m\n\u001b[1;32m----> 1\u001b[0m flt \u001b[38;5;241m=\u001b[39m \u001b[43mpredictions_gbc\u001b[49m\u001b[38;5;241m.\u001b[39mprediction_label \u001b[38;5;241m==\u001b[39m \u001b[38;5;241m1\u001b[39m   \n\u001b[0;32m      2\u001b[0m df \u001b[38;5;241m=\u001b[39m predictions_gbc[flt]\n\u001b[0;32m      3\u001b[0m df\u001b[38;5;241m.\u001b[39mloc[(df[\u001b[38;5;124m'\u001b[39m\u001b[38;5;124mprediction_label\u001b[39m\u001b[38;5;124m'\u001b[39m] \u001b[38;5;241m==\u001b[39m df[\u001b[38;5;124m'\u001b[39m\u001b[38;5;124mLayAway\u001b[39m\u001b[38;5;124m'\u001b[39m]), \u001b[38;5;124m'\u001b[39m\u001b[38;5;124mProfit\u001b[39m\u001b[38;5;124m'\u001b[39m] \u001b[38;5;241m=\u001b[39m \u001b[38;5;241m1\u001b[39m \u001b[38;5;241m/\u001b[39m ((df\u001b[38;5;241m.\u001b[39mFT_Odd_A) \u001b[38;5;241m-\u001b[39m \u001b[38;5;241m0.85\u001b[39m)\n",
      "\u001b[1;31mNameError\u001b[0m: name 'predictions_gbc' is not defined"
     ]
    }
   ],
   "source": [
    "\n",
    "flt = predictions_gbc.prediction_label == 1   \n",
    "df = predictions_gbc[flt]\n",
    "df.loc[(df['prediction_label'] == df['LayAway']), 'Profit'] = 1 / ((df.FT_Odd_A) - 0.85)\n",
    "df.loc[(df['prediction_label'] != df['LayAway']), 'Profit'] = -1\n",
    "grafico(df,'LayAway Pycaret')"
   ]
  },
  {
   "cell_type": "code",
   "execution_count": 17,
   "id": "a77c1b4a",
   "metadata": {
    "scrolled": true
   },
   "outputs": [
    {
     "ename": "NameError",
     "evalue": "name 'predictions_knn' is not defined",
     "output_type": "error",
     "traceback": [
      "\u001b[1;31m---------------------------------------------------------------------------\u001b[0m",
      "\u001b[1;31mNameError\u001b[0m                                 Traceback (most recent call last)",
      "Cell \u001b[1;32mIn[17], line 3\u001b[0m\n\u001b[0;32m      1\u001b[0m final_model_knn \u001b[38;5;241m=\u001b[39m finalize_model(\u001b[38;5;124m'\u001b[39m\u001b[38;5;124mknn\u001b[39m\u001b[38;5;124m'\u001b[39m)\n\u001b[1;32m----> 3\u001b[0m flt \u001b[38;5;241m=\u001b[39m \u001b[43mpredictions_knn\u001b[49m\u001b[38;5;241m.\u001b[39mprediction_label \u001b[38;5;241m==\u001b[39m \u001b[38;5;241m1\u001b[39m   \n\u001b[0;32m      4\u001b[0m df \u001b[38;5;241m=\u001b[39m predictions_knn[flt]\n\u001b[0;32m      5\u001b[0m df\u001b[38;5;241m.\u001b[39mloc[(df[\u001b[38;5;124m'\u001b[39m\u001b[38;5;124mprediction_label\u001b[39m\u001b[38;5;124m'\u001b[39m] \u001b[38;5;241m==\u001b[39m df[\u001b[38;5;124m'\u001b[39m\u001b[38;5;124mLayAway\u001b[39m\u001b[38;5;124m'\u001b[39m]), \u001b[38;5;124m'\u001b[39m\u001b[38;5;124mProfit\u001b[39m\u001b[38;5;124m'\u001b[39m] \u001b[38;5;241m=\u001b[39m \u001b[38;5;241m1\u001b[39m \u001b[38;5;241m/\u001b[39m ((df\u001b[38;5;241m.\u001b[39mFT_Odd_A) \u001b[38;5;241m-\u001b[39m \u001b[38;5;241m0.85\u001b[39m)\n",
      "\u001b[1;31mNameError\u001b[0m: name 'predictions_knn' is not defined"
     ]
    }
   ],
   "source": [
    "final_model_knn = finalize_model('knn')\n",
    "\n",
    "flt = predictions_knn.prediction_label == 1   \n",
    "df = predictions_knn[flt]\n",
    "df.loc[(df['prediction_label'] == df['LayAway']), 'Profit'] = 1 / ((df.FT_Odd_A) - 0.85)\n",
    "df.loc[(df['prediction_label'] != df['LayAway']), 'Profit'] = -1\n",
    "grafico(df,'LayAway Pycaret')\n"
   ]
  },
  {
   "cell_type": "code",
   "execution_count": null,
   "id": "20254d63",
   "metadata": {},
   "outputs": [],
   "source": [
    "flt = predictions_lightgbm.prediction_label == 1   \n",
    "df = predictions_lightgbm[flt]\n",
    "df.loc[(df['prediction_label'] == df['LayAway']), 'Profit'] = 1 / ((df.FT_Odd_A) - 0.85)\n",
    "df.loc[(df['prediction_label'] != df['LayAway']), 'Profit'] = -1\n",
    "grafico(df,'LayAway Pycaret')"
   ]
  },
  {
   "cell_type": "code",
   "execution_count": 18,
   "id": "7447c220",
   "metadata": {
    "scrolled": true
   },
   "outputs": [
    {
     "ename": "NameError",
     "evalue": "name 'predictions_svm' is not defined",
     "output_type": "error",
     "traceback": [
      "\u001b[1;31m---------------------------------------------------------------------------\u001b[0m",
      "\u001b[1;31mNameError\u001b[0m                                 Traceback (most recent call last)",
      "Cell \u001b[1;32mIn[18], line 1\u001b[0m\n\u001b[1;32m----> 1\u001b[0m flt \u001b[38;5;241m=\u001b[39m \u001b[43mpredictions_svm\u001b[49m\u001b[38;5;241m.\u001b[39mprediction_label \u001b[38;5;241m==\u001b[39m \u001b[38;5;241m1\u001b[39m   \n\u001b[0;32m      2\u001b[0m df \u001b[38;5;241m=\u001b[39m predictions_svm[flt]\n\u001b[0;32m      3\u001b[0m df\u001b[38;5;241m.\u001b[39mloc[(df[\u001b[38;5;124m'\u001b[39m\u001b[38;5;124mprediction_label\u001b[39m\u001b[38;5;124m'\u001b[39m] \u001b[38;5;241m==\u001b[39m df[\u001b[38;5;124m'\u001b[39m\u001b[38;5;124mLayAway\u001b[39m\u001b[38;5;124m'\u001b[39m]), \u001b[38;5;124m'\u001b[39m\u001b[38;5;124mProfit\u001b[39m\u001b[38;5;124m'\u001b[39m] \u001b[38;5;241m=\u001b[39m \u001b[38;5;241m1\u001b[39m \u001b[38;5;241m/\u001b[39m ((df\u001b[38;5;241m.\u001b[39mFT_Odd_A) \u001b[38;5;241m-\u001b[39m \u001b[38;5;241m0.85\u001b[39m)\n",
      "\u001b[1;31mNameError\u001b[0m: name 'predictions_svm' is not defined"
     ]
    }
   ],
   "source": [
    "flt = predictions_svm.prediction_label == 1   \n",
    "df = predictions_svm[flt]\n",
    "df.loc[(df['prediction_label'] == df['LayAway']), 'Profit'] = 1 / ((df.FT_Odd_A) - 0.85)\n",
    "df.loc[(df['prediction_label'] != df['LayAway']), 'Profit'] = -1\n",
    "grafico(df,'LayAway Pycaret')"
   ]
  },
  {
   "cell_type": "code",
   "execution_count": 19,
   "id": "59e63c36",
   "metadata": {
    "scrolled": true
   },
   "outputs": [
    {
     "ename": "NameError",
     "evalue": "name 'predictions_nb' is not defined",
     "output_type": "error",
     "traceback": [
      "\u001b[1;31m---------------------------------------------------------------------------\u001b[0m",
      "\u001b[1;31mNameError\u001b[0m                                 Traceback (most recent call last)",
      "Cell \u001b[1;32mIn[19], line 1\u001b[0m\n\u001b[1;32m----> 1\u001b[0m flt \u001b[38;5;241m=\u001b[39m \u001b[43mpredictions_nb\u001b[49m\u001b[38;5;241m.\u001b[39mprediction_label \u001b[38;5;241m==\u001b[39m \u001b[38;5;241m1\u001b[39m   \n\u001b[0;32m      2\u001b[0m df \u001b[38;5;241m=\u001b[39m predictions_nb[flt]\n\u001b[0;32m      3\u001b[0m df\u001b[38;5;241m.\u001b[39mloc[(df[\u001b[38;5;124m'\u001b[39m\u001b[38;5;124mprediction_label\u001b[39m\u001b[38;5;124m'\u001b[39m] \u001b[38;5;241m==\u001b[39m df[\u001b[38;5;124m'\u001b[39m\u001b[38;5;124mLayAway\u001b[39m\u001b[38;5;124m'\u001b[39m]), \u001b[38;5;124m'\u001b[39m\u001b[38;5;124mProfit\u001b[39m\u001b[38;5;124m'\u001b[39m] \u001b[38;5;241m=\u001b[39m \u001b[38;5;241m1\u001b[39m \u001b[38;5;241m/\u001b[39m ((df\u001b[38;5;241m.\u001b[39mFT_Odd_A) \u001b[38;5;241m-\u001b[39m \u001b[38;5;241m0.85\u001b[39m)\n",
      "\u001b[1;31mNameError\u001b[0m: name 'predictions_nb' is not defined"
     ]
    }
   ],
   "source": [
    "flt = predictions_nb.prediction_label == 1   \n",
    "df = predictions_nb[flt]\n",
    "df.loc[(df['prediction_label'] == df['LayAway']), 'Profit'] = 1 / ((df.FT_Odd_A) - 0.85)\n",
    "df.loc[(df['prediction_label'] != df['LayAway']), 'Profit'] = -1\n",
    "grafico(df,'LayAway Pycaret')"
   ]
  },
  {
   "cell_type": "code",
   "execution_count": 20,
   "id": "fc0f5344",
   "metadata": {},
   "outputs": [
    {
     "ename": "NameError",
     "evalue": "name 'predictions_dt' is not defined",
     "output_type": "error",
     "traceback": [
      "\u001b[1;31m---------------------------------------------------------------------------\u001b[0m",
      "\u001b[1;31mNameError\u001b[0m                                 Traceback (most recent call last)",
      "Cell \u001b[1;32mIn[20], line 1\u001b[0m\n\u001b[1;32m----> 1\u001b[0m flt \u001b[38;5;241m=\u001b[39m \u001b[43mpredictions_dt\u001b[49m\u001b[38;5;241m.\u001b[39mprediction_label \u001b[38;5;241m==\u001b[39m \u001b[38;5;241m1\u001b[39m   \n\u001b[0;32m      2\u001b[0m df \u001b[38;5;241m=\u001b[39m predictions_dt[flt]\n\u001b[0;32m      3\u001b[0m df\u001b[38;5;241m.\u001b[39mloc[(df[\u001b[38;5;124m'\u001b[39m\u001b[38;5;124mprediction_label\u001b[39m\u001b[38;5;124m'\u001b[39m] \u001b[38;5;241m==\u001b[39m df[\u001b[38;5;124m'\u001b[39m\u001b[38;5;124mLayAway\u001b[39m\u001b[38;5;124m'\u001b[39m]), \u001b[38;5;124m'\u001b[39m\u001b[38;5;124mProfit\u001b[39m\u001b[38;5;124m'\u001b[39m] \u001b[38;5;241m=\u001b[39m \u001b[38;5;241m1\u001b[39m \u001b[38;5;241m/\u001b[39m ((df\u001b[38;5;241m.\u001b[39mFT_Odd_A) \u001b[38;5;241m-\u001b[39m \u001b[38;5;241m0.85\u001b[39m)\n",
      "\u001b[1;31mNameError\u001b[0m: name 'predictions_dt' is not defined"
     ]
    }
   ],
   "source": [
    "\n",
    "flt = predictions_dt.prediction_label == 1   \n",
    "df = predictions_dt[flt]\n",
    "df.loc[(df['prediction_label'] == df['LayAway']), 'Profit'] = 1 / ((df.FT_Odd_A) - 0.85)\n",
    "df.loc[(df['prediction_label'] != df['LayAway']), 'Profit'] = -1\n",
    "grafico(df,'LayAway Pycaret')\n"
   ]
  },
  {
   "cell_type": "code",
   "execution_count": null,
   "id": "aeb919f4",
   "metadata": {},
   "outputs": [],
   "source": []
  },
  {
   "cell_type": "code",
   "execution_count": null,
   "id": "93af3a23",
   "metadata": {},
   "outputs": [],
   "source": []
  },
  {
   "cell_type": "code",
   "execution_count": null,
   "id": "5e08893f",
   "metadata": {},
   "outputs": [],
   "source": []
  }
 ],
 "metadata": {
  "hide_input": false,
  "kernelspec": {
   "display_name": "pycaret",
   "language": "python",
   "name": "pycaret"
  },
  "language_info": {
   "codemirror_mode": {
    "name": "ipython",
    "version": 3
   },
   "file_extension": ".py",
   "mimetype": "text/x-python",
   "name": "python",
   "nbconvert_exporter": "python",
   "pygments_lexer": "ipython3",
   "version": "3.8.15"
  },
  "toc": {
   "base_numbering": 1,
   "nav_menu": {},
   "number_sections": true,
   "sideBar": true,
   "skip_h1_title": false,
   "title_cell": "Table of Contents",
   "title_sidebar": "Contents",
   "toc_cell": false,
   "toc_position": {},
   "toc_section_display": true,
   "toc_window_display": false
  },
  "varInspector": {
   "cols": {
    "lenName": 16,
    "lenType": 16,
    "lenVar": 40
   },
   "kernels_config": {
    "python": {
     "delete_cmd_postfix": "",
     "delete_cmd_prefix": "del ",
     "library": "var_list.py",
     "varRefreshCmd": "print(var_dic_list())"
    },
    "r": {
     "delete_cmd_postfix": ") ",
     "delete_cmd_prefix": "rm(",
     "library": "var_list.r",
     "varRefreshCmd": "cat(var_dic_list()) "
    }
   },
   "types_to_exclude": [
    "module",
    "function",
    "builtin_function_or_method",
    "instance",
    "_Feature"
   ],
   "window_display": false
  }
 },
 "nbformat": 4,
 "nbformat_minor": 5
}
