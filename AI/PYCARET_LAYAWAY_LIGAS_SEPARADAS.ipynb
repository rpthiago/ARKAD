{
 "cells": [
  {
   "cell_type": "code",
   "execution_count": 3,
   "id": "baf60b5f",
   "metadata": {},
   "outputs": [],
   "source": [
    "import pandas as pd\n",
    "from pycaret.classification import *\n",
    "import numpy as np\n",
    "from openpyxl import Workbook, load_workbook\n",
    "from xlsxwriter import Workbook\n",
    "from time import sleep\n",
    "from datetime import date, datetime, timedelta"
   ]
  },
  {
   "cell_type": "code",
   "execution_count": 5,
   "id": "0c9981d8",
   "metadata": {},
   "outputs": [],
   "source": [
    "caminho1 = \"C:/Users/thiag/OneDrive/curso python/modelo_leandro_2/\"\n",
    "jogos_dia_completo = pd.read_csv(caminho1 + 'jogos_estatistica.csv')\n",
    "\n",
    "dia = date.today() + timedelta(1)\n",
    "\n",
    "jogos_do_dia = pd.read_csv('C:/Users/thiag/OneDrive/curso python/modelo_leandro_2/flashscore/Jogos_do_Dia/'+str(dia)+'_Jogos_do_Dia.csv')\n",
    "\n",
    "# caminho3 = 'C:/Users/thiag/curso python'\n",
    "# path2 = 'C:/Users/thiag/OneDrive/Documentos/arquivos/arquivo_apostas/jogos_de_hoje/'\n",
    "# jogos_dia_completo = pd.read_csv(caminho3 + 'final.csv')\n"
   ]
  },
  {
   "cell_type": "code",
   "execution_count": 74,
   "id": "d834c101",
   "metadata": {},
   "outputs": [],
   "source": [
    "resultado_jogo_backaway_AI = pd.read_excel(path2 + \"resultado_jogo_backaway_AI.xlsx\")\n",
    "\n",
    "resultado_jogo_backhome_AI = pd.read_excel(path2 + \"resultado_jogo_backhome_AI.xlsx\")\n",
    "\n",
    "jogo_backaway_AI = pd.read_excel(path2 + 'jogo_backaway_AI.xlsx')\n",
    "jogo_backhome_AI = pd.read_excel(path2 + 'jogo_backhome_AI.xlsx')"
   ]
  },
  {
   "cell_type": "code",
   "execution_count": 75,
   "id": "2bae7d11",
   "metadata": {},
   "outputs": [],
   "source": [
    "jogo_backaway_AI = pd.merge(jogos_dia_completo, jogo_backaway_AI, how = 'inner', on = 'id')\n",
    "jogo_backhome_AI = pd.merge(jogos_dia_completo, jogo_backhome_AI, how = 'inner', on = 'id')"
   ]
  },
  {
   "cell_type": "code",
   "execution_count": 76,
   "id": "2d3f859f",
   "metadata": {},
   "outputs": [],
   "source": [
    "jogo_backaway_AI = jogo_backaway_AI[['id','date_unix_y', 'Liga_y', 'home_name_y', 'away_name_y', 'odds_ft_1_y', 'odds_ft_x_y', 'odds_ft_2_y', 'homeGoalCount',\n",
    " 'awayGoalCount', 'totalGoalCount', 'resultado_home_lay', 'resultado_away_lay', 'resultado_draw_lay', 'resultado_over_05_ft',\n",
    " 'resultado_over_05_HT', 'resultado_over_15_ft', 'resultado_over_25_ft', 'resultado_over_35_ft', 'resultado_over_45_ft',\n",
    " 'resultado_btts_yes', 'resultado_under_05_ft', 'resultado_under_05_HT', 'resultado_under_15_ft', 'resultado_under_25_ft',\n",
    " 'resultado_under_35_ft', 'resultado_under_45_ft', 'resultado_btts_no', 'resultado_home', 'resultado_away', 'resultado_draw',]]"
   ]
  },
  {
   "cell_type": "code",
   "execution_count": 77,
   "id": "a80ff7aa",
   "metadata": {},
   "outputs": [],
   "source": [
    "jogo_backhome_AI = jogo_backhome_AI[['id','date_unix_y', 'Liga_y', 'home_name_y', 'away_name_y', 'odds_ft_1_y', 'odds_ft_x_y', 'odds_ft_2_y', 'homeGoalCount',\n",
    " 'awayGoalCount', 'totalGoalCount', 'resultado_home_lay', 'resultado_away_lay', 'resultado_draw_lay', 'resultado_over_05_ft',\n",
    " 'resultado_over_05_HT', 'resultado_over_15_ft', 'resultado_over_25_ft', 'resultado_over_35_ft', 'resultado_over_45_ft',\n",
    " 'resultado_btts_yes', 'resultado_under_05_ft', 'resultado_under_05_HT', 'resultado_under_15_ft', 'resultado_under_25_ft',\n",
    " 'resultado_under_35_ft', 'resultado_under_45_ft', 'resultado_btts_no', 'resultado_home', 'resultado_away', 'resultado_draw',]]"
   ]
  },
  {
   "cell_type": "code",
   "execution_count": 78,
   "id": "ed9c793e",
   "metadata": {},
   "outputs": [],
   "source": [
    "ordem_atual = list(jogo_backaway_AI.columns)\n",
    "nova_ordem = ['id','date_unix_y', 'Liga_y', 'home_name_y', 'away_name_y', 'odds_ft_1_y', 'odds_ft_x_y', 'odds_ft_2_y', 'homeGoalCount',\n",
    " 'awayGoalCount', 'totalGoalCount',  'resultado_home', 'resultado_away', 'resultado_draw', 'resultado_home_lay', 'resultado_away_lay', 'resultado_draw_lay', 'resultado_over_05_ft',\n",
    " 'resultado_over_05_HT', 'resultado_over_15_ft', 'resultado_over_25_ft', 'resultado_over_35_ft', 'resultado_over_45_ft',\n",
    " 'resultado_btts_yes', 'resultado_under_05_ft', 'resultado_under_05_HT', 'resultado_under_15_ft', 'resultado_under_25_ft',\n",
    " 'resultado_under_35_ft', 'resultado_under_45_ft', 'resultado_btts_no']\n",
    "jogo_backaway_AI = jogo_backaway_AI[nova_ordem]\n",
    "\n",
    "\n",
    "ordem_atual = list(jogo_backhome_AI.columns)\n",
    "nova_ordem = ['id','date_unix_y', 'Liga_y', 'home_name_y', 'away_name_y', 'odds_ft_1_y', 'odds_ft_x_y', 'odds_ft_2_y', 'homeGoalCount',\n",
    " 'awayGoalCount', 'totalGoalCount',  'resultado_home', 'resultado_away', 'resultado_draw','resultado_home_lay', 'resultado_away_lay', 'resultado_draw_lay', 'resultado_over_05_ft',\n",
    " 'resultado_over_05_HT', 'resultado_over_15_ft', 'resultado_over_25_ft', 'resultado_over_35_ft', 'resultado_over_45_ft',\n",
    " 'resultado_btts_yes', 'resultado_under_05_ft', 'resultado_under_05_HT', 'resultado_under_15_ft', 'resultado_under_25_ft',\n",
    " 'resultado_under_35_ft', 'resultado_under_45_ft', 'resultado_btts_no']\n",
    "jogo_backhome_AI = jogo_backhome_AI[nova_ordem]\n",
    "\n",
    "resultado_jogo_backaway_AI = pd.concat([resultado_jogo_backaway_AI, jogo_backaway_AI], axis=0, ignore_index=True)\n",
    "resultado_jogo_backaway_AI = resultado_jogo_backaway_AI.drop_duplicates(subset='id')\n",
    "\n",
    "resultado_jogo_backhome_AI = pd.concat([resultado_jogo_backhome_AI, jogo_backhome_AI], axis=0, ignore_index=True)\n",
    "resultado_jogo_backhome_AI = resultado_jogo_backhome_AI.drop_duplicates(subset='id')\n",
    "\n",
    "resultado_jogo_backhome_AI.to_excel(path2 + 'resultado_jogo_backhome_AI.xlsx', encoding='utf=8', index=False)\n",
    "resultado_jogo_backaway_AI.to_excel(path2 + 'resultado_jogo_backaway_AI.xlsx', encoding='utf=8', index=False)\n",
    "\n",
    "\n",
    "#'odds_ft_over05_y', 'odds_ft_over15_y', 'odds_ft_over25_y', 'odds_ft_over35_y', 'odds_ft_over45_y', 'odds_ft_under05_y', 'odds_ft_under15_y', 'odds_ft_under25_y', 'odds_ft_under35_y', 'odds_ft_under45_y', 'odds_btts_yes_y', 'odds_btts_no_y', 'odds_1st_half_over05_y'"
   ]
  },
  {
   "cell_type": "code",
   "execution_count": 79,
   "id": "6b4e90d1",
   "metadata": {},
   "outputs": [],
   "source": [
    "# ANTER DE RODAR, RODAR NO PYCHARM JOGOS DA SEMANA. \n",
    "# caminho2 = 'C:/Users/thiag/OneDrive/Documentos/arquivos/arquivo_apostas/jogos_de_hoje/'\n",
    "# caminho1 = 'C:/Users/thiag/OneDrive/Documentos/arquivos/arquivo_apostas/'\n",
    "# df_jogos = pd.read_excel(caminho1 + 'jogos_dia_completo.xlsx')"
   ]
  },
  {
   "cell_type": "code",
   "execution_count": 80,
   "id": "3b6d97ee",
   "metadata": {
    "scrolled": true
   },
   "outputs": [
    {
     "name": "stdout",
     "output_type": "stream",
     "text": [
      "Transformation Pipeline and Model Successfully Loaded\n"
     ]
    }
   ],
   "source": [
    "try:\n",
    "\n",
    "    flt = (df_jogos.Liga == \"egito_A\")\n",
    "    df_jogos1 = df_jogos[flt]\n",
    "    saved_final_lr = load_model('BACKAWAY_EGITO_A')\n",
    "    Egito_A = predict_model(saved_final_lr, data = df_jogos1)\n",
    "    df4 = pd.merge(df_jogos, Egito_A, how='left', on=[\"id\"])\n",
    "    df4 = df4[['id', 'date_unix', 'Liga', 'home_name', 'away_name', 'odds_ft_1', 'odds_ft_x', 'odds_ft_2', 'prediction_label']]\n",
    "    backhome = ((df4['prediction_label'] == 1))\n",
    "    df4_egito_A = df4[backhome]\n",
    "except:\n",
    "    pass\n",
    "df4_egito_A = pd.read_excel(path2 + 'jogos_em_branco.xlsx')"
   ]
  },
  {
   "cell_type": "code",
   "execution_count": 81,
   "id": "46713900",
   "metadata": {},
   "outputs": [
    {
     "name": "stdout",
     "output_type": "stream",
     "text": [
      "Transformation Pipeline and Model Successfully Loaded\n"
     ]
    }
   ],
   "source": [
    "try:  \n",
    "    \n",
    "    flt = (df_jogos.Liga == \"romenia A\")\n",
    "    df_jogos1 = df_jogos[flt]\n",
    "    saved_final_lr = load_model('BACKAWAY_ROMENIA_A')\n",
    "    Romenia_A = predict_model(saved_final_lr, data = df_jogos1)\n",
    "    df4 = pd.merge(df_jogos, Romenia_A, how='left', on=[\"id\"])\n",
    "    df4 = df4[['id', 'date_unix', 'Liga', 'home_name', 'away_name', 'odds_ft_1', 'odds_ft_x', 'odds_ft_2', 'prediction_label']]\n",
    "    backhome = ((df4['prediction_label'] == 1))\n",
    "    df4_romenia_A = df4[backhome]\n",
    "except:\n",
    "    pass\n",
    "    df4_romenia_A = pd.read_excel(path2 + 'jogos_em_branco.xlsx')"
   ]
  },
  {
   "cell_type": "code",
   "execution_count": 82,
   "id": "8d4a05d9",
   "metadata": {},
   "outputs": [
    {
     "name": "stdout",
     "output_type": "stream",
     "text": [
      "Transformation Pipeline and Model Successfully Loaded\n"
     ]
    }
   ],
   "source": [
    "try:\n",
    "    flt = (df_jogos.Liga == \"espanha_B\")\n",
    "    df_jogos1 = df_jogos[flt]\n",
    "    saved_final_lr = load_model('BACKAWAY_ESPANHA_B')\n",
    "    Espanha_B = predict_model(saved_final_lr, data = df_jogos1)\n",
    "    df4 = pd.merge(df_jogos, Espanha_B, how='left', on=[\"id\"])\n",
    "    df4 = df4[['id', 'date_unix', 'Liga', 'home_name', 'away_name', 'odds_ft_1', 'odds_ft_x', 'odds_ft_2', 'prediction_label']]\n",
    "    backhome = ((df4['prediction_label'] == 1))\n",
    "    df4_espanha_B = df4[backhome] \n",
    "except:\n",
    "    pass\n",
    "    df4_espanha_B = pd.read_excel(path2 + 'jogos_em_branco.xlsx')"
   ]
  },
  {
   "cell_type": "code",
   "execution_count": 83,
   "id": "32b0bf9b",
   "metadata": {},
   "outputs": [
    {
     "name": "stdout",
     "output_type": "stream",
     "text": [
      "Transformation Pipeline and Model Successfully Loaded\n"
     ]
    }
   ],
   "source": [
    "\n",
    "try:\n",
    "\n",
    "    flt = (df_jogos.Liga == \"china_A\")\n",
    "    df_jogos1 = df_jogos[flt]\n",
    "    saved_final_lr = load_model('BACKAWAY_CHINA_A')\n",
    "    Espanha_B = predict_model(saved_final_lr, data = df_jogos1)\n",
    "    df4 = pd.merge(df_jogos, Espanha_B, how='left', on=[\"id\"])\n",
    "    df4 = df4[['id', 'date_unix', 'Liga', 'home_name', 'away_name', 'odds_ft_1', 'odds_ft_x', 'odds_ft_2', 'prediction_label']]\n",
    "    backhome = ((df4['prediction_label'] == 1))\n",
    "    df4_china_A = df4[backhome]\n",
    "except:\n",
    "    pass\n",
    "    df4_china_A = pd.read_excel(path2 + 'jogos_em_branco.xlsx')    "
   ]
  },
  {
   "cell_type": "code",
   "execution_count": 84,
   "id": "abebbd9f",
   "metadata": {},
   "outputs": [
    {
     "name": "stdout",
     "output_type": "stream",
     "text": [
      "Transformation Pipeline and Model Successfully Loaded\n"
     ]
    }
   ],
   "source": [
    "try:    \n",
    "    \n",
    "    flt = (df_jogos.Liga == \"holanda_B\")\n",
    "    df_jogos1 = df_jogos[flt]\n",
    "    saved_final_lr = load_model('BACKAWAY_HOLANDA_B')\n",
    "    Espanha_B = predict_model(saved_final_lr, data = df_jogos1)\n",
    "    df4 = pd.merge(df_jogos, Espanha_B, how='left', on=[\"id\"])\n",
    "    df4 = df4[['id', 'date_unix', 'Liga', 'home_name', 'away_name', 'odds_ft_1', 'odds_ft_x', 'odds_ft_2', 'prediction_label']]\n",
    "    backhome = ((df4['prediction_label'] == 1))\n",
    "    df4_holanda_B = df4[backhome]\n",
    "except:\n",
    "    pass\n",
    "    df4_holanda_B = pd.read_excel(path2 + 'jogos_em_branco.xlsx')"
   ]
  },
  {
   "cell_type": "code",
   "execution_count": 85,
   "id": "d9ddfe8f",
   "metadata": {},
   "outputs": [
    {
     "name": "stdout",
     "output_type": "stream",
     "text": [
      "Transformation Pipeline and Model Successfully Loaded\n"
     ]
    }
   ],
   "source": [
    "try:\n",
    "\n",
    "    flt = (df_jogos.Liga == \"escocia_A\")\n",
    "    df_jogos1 = df_jogos[flt]\n",
    "    saved_final_lr = load_model('BACKAWAY_ESCOCIA_A')\n",
    "    Espanha_B = predict_model(saved_final_lr, data = df_jogos1)\n",
    "    df4 = pd.merge(df_jogos, Espanha_B, how='left', on=[\"id\"])\n",
    "    df4 = df4[['id', 'date_unix', 'Liga', 'home_name', 'away_name', 'odds_ft_1', 'odds_ft_x', 'odds_ft_2', 'prediction_label']]\n",
    "    backhome = ((df4['prediction_label'] == 1))\n",
    "    df4_escocia_A = df4[backhome]\n",
    "except:\n",
    "    pass\n",
    "    df4_escocia_A = pd.read_excel(path2 + 'jogos_em_branco.xlsx') "
   ]
  },
  {
   "cell_type": "code",
   "execution_count": 86,
   "id": "4fcc002a",
   "metadata": {},
   "outputs": [
    {
     "name": "stdout",
     "output_type": "stream",
     "text": [
      "Transformation Pipeline and Model Successfully Loaded\n"
     ]
    }
   ],
   "source": [
    "try:\n",
    "\n",
    "    flt = (df_jogos.Liga == \"inglaterra_B\")\n",
    "    df_jogos1 = df_jogos[flt]\n",
    "    saved_final_lr = load_model('BACKAWAY_INGLATERRA_B')\n",
    "    Espanha_B = predict_model(saved_final_lr, data = df_jogos1)\n",
    "    df4 = pd.merge(df_jogos, Espanha_B, how='left', on=[\"id\"])\n",
    "    df4 = df4[['id', 'date_unix', 'Liga', 'home_name', 'away_name', 'odds_ft_1', 'odds_ft_x', 'odds_ft_2', 'prediction_label']]\n",
    "    backhome = ((df4['prediction_label'] == 1))\n",
    "    df4_inglaterra_B = df4[backhome]\n",
    "except:\n",
    "    pass\n",
    "    df4_inglaterra_B = pd.read_excel(path2 + 'jogos_em_branco.xlsx')"
   ]
  },
  {
   "cell_type": "code",
   "execution_count": 87,
   "id": "962eb3e6",
   "metadata": {},
   "outputs": [
    {
     "name": "stdout",
     "output_type": "stream",
     "text": [
      "Transformation Pipeline and Model Successfully Loaded\n"
     ]
    }
   ],
   "source": [
    "try:\n",
    "\n",
    "    flt = (df_jogos.Liga == \"inglaterra_two\")\n",
    "    df_jogos1 = df_jogos[flt]\n",
    "    saved_final_lr = load_model('BACKAWAY_INGLATERRA_TWO')\n",
    "    Espanha_B = predict_model(saved_final_lr, data = df_jogos1)\n",
    "    df4 = pd.merge(df_jogos, Espanha_B, how='left', on=[\"id\"])\n",
    "    df4 = df4[['id', 'date_unix', 'Liga', 'home_name', 'away_name', 'odds_ft_1', 'odds_ft_x', 'odds_ft_2', 'prediction_label']]\n",
    "    backhome = ((df4['prediction_label'] == 1))\n",
    "    df4_inglaterra_two = df4[backhome]\n",
    "except:\n",
    "    pass\n",
    "    df4_inglaterra_two = pd.read_excel(path2 + 'jogos_em_branco.xlsx')\n"
   ]
  },
  {
   "cell_type": "code",
   "execution_count": 88,
   "id": "1ab478be",
   "metadata": {},
   "outputs": [
    {
     "name": "stdout",
     "output_type": "stream",
     "text": [
      "Transformation Pipeline and Model Successfully Loaded\n"
     ]
    }
   ],
   "source": [
    "try:    \n",
    "    \n",
    "    flt = (df_jogos.Liga == \"italia_B\")\n",
    "    df_jogos1 = df_jogos[flt]\n",
    "    saved_final_lr = load_model('BACKAWAY_ITALIA_B')\n",
    "    Espanha_B = predict_model(saved_final_lr, data = df_jogos1)\n",
    "    df4 = pd.merge(df_jogos, Espanha_B, how='left', on=[\"id\"])\n",
    "    df4 = df4[['id', 'date_unix', 'Liga', 'home_name', 'away_name', 'odds_ft_1', 'odds_ft_x', 'odds_ft_2', 'prediction_label']]\n",
    "    backhome = ((df4['prediction_label'] == 1))\n",
    "    df4_italia_B = df4[backhome]\n",
    "except:\n",
    "    pass\n",
    "    df4_italia_B = pd.read_excel(path2 + 'jogos_em_branco.xlsx')"
   ]
  },
  {
   "cell_type": "code",
   "execution_count": 89,
   "id": "ec1df2d0",
   "metadata": {},
   "outputs": [
    {
     "name": "stdout",
     "output_type": "stream",
     "text": [
      "Transformation Pipeline and Model Successfully Loaded\n"
     ]
    }
   ],
   "source": [
    "try:\n",
    "\n",
    "    flt = (df_jogos.Liga == \"inglaterra_national\")\n",
    "    df_jogos1 = df_jogos[flt]\n",
    "    saved_final_lr = load_model('BACKAWAY_INGLATERRA_NACIONAL')\n",
    "    Espanha_B = predict_model(saved_final_lr, data = df_jogos1)\n",
    "    df4 = pd.merge(df_jogos, Espanha_B, how='left', on=[\"id\"])\n",
    "    df4 = df4[['id', 'date_unix', 'Liga', 'home_name', 'away_name', 'odds_ft_1', 'odds_ft_x', 'odds_ft_2', 'prediction_label']]\n",
    "    backhome = ((df4['prediction_label'] == 1))\n",
    "    df4_inglaterra_national = df4[backhome]     \n",
    "except:\n",
    "    pass\n",
    "    df4_inglaterra_national = pd.read_excel(path2 + 'jogos_em_branco.xlsx')"
   ]
  },
  {
   "cell_type": "code",
   "execution_count": 90,
   "id": "8fd7071a",
   "metadata": {},
   "outputs": [
    {
     "name": "stdout",
     "output_type": "stream",
     "text": [
      "Transformation Pipeline and Model Successfully Loaded\n"
     ]
    }
   ],
   "source": [
    "try:\n",
    "\n",
    "    flt = (df_jogos.Liga == \"inglaterra_one\")\n",
    "    df_jogos1 = df_jogos[flt]\n",
    "    saved_final_lr = load_model('BACKAWAY_INGLATERRA_ONE')\n",
    "    Espanha_B = predict_model(saved_final_lr, data = df_jogos1)\n",
    "    df4 = pd.merge(df_jogos, Espanha_B, how='left', on=[\"id\"])\n",
    "    df4 = df4[['id', 'date_unix', 'Liga', 'home_name', 'away_name', 'odds_ft_1', 'odds_ft_x', 'odds_ft_2', 'prediction_label']]\n",
    "    backhome = ((df4['prediction_label'] == 1))\n",
    "    df4_inglaterra_one = df4[backhome]     \n",
    "except:\n",
    "    pass\n",
    "    df4_inglaterra_one = pd.read_excel(path2 + 'jogos_em_branco.xlsx')"
   ]
  },
  {
   "cell_type": "code",
   "execution_count": 91,
   "id": "95096923",
   "metadata": {},
   "outputs": [
    {
     "name": "stdout",
     "output_type": "stream",
     "text": [
      "Transformation Pipeline and Model Successfully Loaded\n"
     ]
    }
   ],
   "source": [
    "try:\n",
    "    flt = (df_jogos.Liga == \"grecia_A\")\n",
    "    df_jogos1 = df_jogos[flt]\n",
    "    saved_final_lr = load_model('BACKAWAY_GRECIA_A')\n",
    "    Espanha_B = predict_model(saved_final_lr, data = df_jogos1)\n",
    "    df4 = pd.merge(df_jogos, Espanha_B, how='left', on=[\"id\"])\n",
    "    df4 = df4[['id', 'date_unix', 'Liga', 'home_name', 'away_name', 'odds_ft_1', 'odds_ft_x', 'odds_ft_2', 'prediction_label']]\n",
    "    backhome = ((df4['prediction_label'] == 1))\n",
    "    df4_grecia_A = df4[backhome]     \n",
    "except:\n",
    "    pass\n",
    "    df4_grecia_A = pd.read_excel(path2 + 'jogos_em_branco.xlsx')"
   ]
  },
  {
   "cell_type": "code",
   "execution_count": 92,
   "id": "df28dc45",
   "metadata": {
    "scrolled": false
   },
   "outputs": [],
   "source": [
    "jogo_separados = pd.concat([df4_china_A, df4_egito_A ,df4_grecia_A, df4_inglaterra_national, df4_romenia_A,\n",
    "                            df4_italia_B, df4_inglaterra_B, df4_escocia_A, df4_holanda_B,    \n",
    "                            df4_inglaterra_one, df4_inglaterra_two, df4_espanha_B], axis=0, ignore_index=True)"
   ]
  },
  {
   "cell_type": "code",
   "execution_count": 93,
   "id": "e91a7cee",
   "metadata": {},
   "outputs": [],
   "source": [
    "jogo_separados = jogo_separados.sort_values(['date_unix'])"
   ]
  },
  {
   "cell_type": "code",
   "execution_count": 94,
   "id": "cccba06c",
   "metadata": {},
   "outputs": [],
   "source": [
    "jogo_separados.to_excel(caminho2 + 'jogo_backaway_AI.xlsx', sheet_name='completo', encoding='utf-8', index=False)"
   ]
  },
  {
   "cell_type": "code",
   "execution_count": 95,
   "id": "a1b06633",
   "metadata": {},
   "outputs": [],
   "source": [
    "#BACKAWAY_ALEMANHA_A, BACKAWAY_ALEMANHA_B, BACKAWAY_ARGENTINA_A, BACKAWAY_AUSTRIA_A, BACKAWAY_BELGICA_A, BACKAWAY_BOLIVIA_A,\n",
    "#BACKAWAY_BRASIL_A, BACKAWAY_BRASIL_B, BACKAWAY_BULGARIA_A, BACKAWAY_CHILE_A, BACKAWAY_CHINA_A, BACKAWAY_COLOMBIA_A, \n",
    "#BACKAWAY_CROACIA_A, BACKAWAY_EGITO_A, BACKAWAY_EQUADOR_A, BACKAWAY_ESCOCIA_A, BACKAWAY_ESPANHA_A, BACKAWAY_ESPANHA_B, \n",
    "#BACKAWAY_FRANCA_A, BACKAWAY_FRANCA_B, BACKAWAY_GRECIA_A, BACKAWAY_HOLANDA_A, BACKAWAY_HOLANDA_B, BACKAWAY_HUNGRIA_A, \n",
    "#BACKAWAY_INGLATERRA_A, BACKAWAY_INGLATERRA_B, BACKAWAY_INGLATERRA_ONE, BACKAWAY_INGLATERRA_TWO, BACKAWAY_INGLATERRA_NACIONAL,\n",
    "#BACKAWAY_ITALIA_A, BACKAWAY_ITALIA_B, BACKAWAY_JAPAO_A, BACKAWAY_KOREA_A, BACKAWAY_KOREA_B, BACKAWAY_MEXICO_A,\n",
    "#BACKAWAY_PARAGUAI_A, BACKAWAY_PERU_A, BACKAWAY_PORTUGAL_A, BACKAWAY_PORTUGAL_B, BACKAWAY_REPUBLICA_TCHECA_A, \n",
    "#BACKAWAY_ROMENIA_A, BACKAWAY_SUECIA_A, BACKAWAY_TURQUIA_A, BACKHOME_URUGUAI_A, BACKAWAY_USA_A, BACKAWAY_USA_B"
   ]
  },
  {
   "cell_type": "code",
   "execution_count": 96,
   "id": "2d9c8594",
   "metadata": {},
   "outputs": [],
   "source": [
    "#suecia_A, brasil_Serie_B, egito_A, peru_A, argentina_B, colombia_A, paraguai_A, uruguai_A, japao_B, chile_A, colombia_B\n",
    "#korea_B, equador_A, USA_A, japao_A, korea_A, uruguai_B, china_A, \n",
    "#USA_B, brasil_Serie_A, , dinamarca_A, belgica_A, croacia_A, mexico_A, inglaterra_nacional, republica_tcheca_A\n",
    "#hungria_A, romenia_A, mexico_B, inglaterra_one, inglaterra_two, franca_B, inglaterra_B, austria_A, espanha_B\n",
    "#franca_A, holanda_B, argentina_A, holanda_A, italia_A, inglaterra_A, espanha_A, escocia_A, portugal_A, italia_B\n",
    "#alemanha_A, grecia_A, portugal_B, turquia_A, bulgaria_A\n"
   ]
  }
 ],
 "metadata": {
  "kernelspec": {
   "display_name": "pycaret",
   "language": "python",
   "name": "pycaret"
  },
  "language_info": {
   "codemirror_mode": {
    "name": "ipython",
    "version": 3
   },
   "file_extension": ".py",
   "mimetype": "text/x-python",
   "name": "python",
   "nbconvert_exporter": "python",
   "pygments_lexer": "ipython3",
   "version": "3.8.15"
  }
 },
 "nbformat": 4,
 "nbformat_minor": 5
}
